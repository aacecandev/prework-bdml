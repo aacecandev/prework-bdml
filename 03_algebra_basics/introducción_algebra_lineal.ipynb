{
 "cells": [
  {
   "cell_type": "markdown",
   "metadata": {},
   "source": [
    "# Introducción Algebra Lineal"
   ]
  },
  {
   "cell_type": "markdown",
   "metadata": {},
   "source": [
    "En este notebook veremos una pequeña introducción álgebra lineal, aprenderemos algunos conceptos básicos:\n",
    "- Vectores y Matrices \n",
    "- Representar ecuaciones con matrices\n",
    "- Producto escalar\n",
    "- Matriz identidad\n",
    "- Matriz inversa\n",
    "\n",
    "\n",
    "### Representar datos como una matriz\n",
    "\n",
    "\\begin{equation}A=\n",
    "\\begin{bmatrix}\n",
    "6 & 8 & 1\\\\\n",
    "2 & 9 & 3\\\\\n",
    "4 & 5 & 1\n",
    "\\end{bmatrix}\n",
    "\\end{equation}\n",
    "\n",
    "Decimos que `A` es una matriz de `3x3` con `m=3 filas` por `n=3 columnas`. Podemos representar dicha matriz en python usando la librería numpy. Veamos un ejemplo:"
   ]
  },
  {
   "cell_type": "code",
   "execution_count": 5,
   "metadata": {},
   "outputs": [
    {
     "name": "stdout",
     "output_type": "stream",
     "text": [
      "[[6 8 1]\n",
      " [2 9 3]\n",
      " [4 5 1]]\n"
     ]
    }
   ],
   "source": [
    "import numpy as np\n",
    "\n",
    "a = np.array([\n",
    "    [6,8,1],\n",
    "    [2,9,3],\n",
    "    [4,5,1]\n",
    "])\n",
    "\n",
    "print(a)"
   ]
  },
  {
   "cell_type": "markdown",
   "metadata": {},
   "source": [
    "La librería numpy es muy util cuando trabajamos con matrices. Numpy contiene estructuras de datos que permiten trabajar adecuadamente con ellas. Además también nos habilita el poder realizar operaciones directamente con dichas estructuras. Por ejemplo, vamos a multiplicar todos los elementos de la matriz `A` por `10`.\n",
    "\n",
    "La multiplicación de una matriz por un escalar es una operación elemento a elemento, donde cada elemento de la matriz `A` se multiplica por el escalar α"
   ]
  },
  {
   "cell_type": "code",
   "execution_count": 32,
   "metadata": {},
   "outputs": [
    {
     "data": {
      "text/plain": [
       "array([[10, 20],\n",
       "       [30, 40],\n",
       "       [50, 60]])"
      ]
     },
     "execution_count": 32,
     "metadata": {},
     "output_type": "execute_result"
    }
   ],
   "source": [
    "# Mutliplicar la matriz A por un escalar\n",
    "a*10"
   ]
  },
  {
   "cell_type": "markdown",
   "metadata": {},
   "source": [
    "## Suma de matrices\n",
    "\n",
    "Realizar una suma de matrices usando numpy tan sencillo como declarar cada una de las matrices en una variable y usar el operador suma. Es importante que dichas matrices sean declaradas usando `np.array` ya que al no ser así, el operador por defecto `+` no soporta la suma de dos listas `python`"
   ]
  },
  {
   "cell_type": "code",
   "execution_count": 28,
   "metadata": {},
   "outputs": [
    {
     "data": {
      "text/plain": [
       "array([[ 3,  3],\n",
       "       [-2,  6]])"
      ]
     },
     "execution_count": 28,
     "metadata": {},
     "output_type": "execute_result"
    }
   ],
   "source": [
    "A = np.array([[0,2],\n",
    "              [1,4]])\n",
    "B = np.array([[3,1],\n",
    "              [-3,2]])\n",
    "\n",
    "A+B"
   ]
  },
  {
   "cell_type": "code",
   "execution_count": 30,
   "metadata": {},
   "outputs": [
    {
     "data": {
      "text/plain": [
       "array([[ 3,  3],\n",
       "       [-2,  6]])"
      ]
     },
     "execution_count": 30,
     "metadata": {},
     "output_type": "execute_result"
    }
   ],
   "source": [
    "# también podemos realizar la operación usando el método `add`\n",
    "\n",
    "np.add(A, B)"
   ]
  },
  {
   "cell_type": "markdown",
   "metadata": {},
   "source": [
    "## Ecuaciones en formato matriz"
   ]
  },
  {
   "cell_type": "markdown",
   "metadata": {},
   "source": [
    "\\begin{equation}\n",
    "Ax = \\begin{bmatrix}\n",
    "1 & 2\\\\\n",
    "3 & 4\\\\\n",
    "5 & 6\n",
    "\\end{bmatrix}\n",
    "\\begin{bmatrix}\n",
    "x_1\\\\\n",
    "x_2\\\\\n",
    "\\end{bmatrix}\n",
    "\\end{equation}\n",
    "\n",
    "La siguiente ecuación se expresa como combinación de las columnas. Podemos expresar la ecuación también de la siguiente forma:\n",
    "\n",
    "\\begin{equation}\n",
    "Ax = x_1\\begin{bmatrix}\n",
    "1 \\\\\n",
    "3 \\\\\n",
    "5\n",
    "\\end{bmatrix}\n",
    "+\n",
    "x_2\\begin{bmatrix}\n",
    "2 \\\\\n",
    "4 \\\\\n",
    "6\n",
    "\\end{bmatrix}\n",
    "\\end{equation}\n"
   ]
  },
  {
   "cell_type": "markdown",
   "metadata": {},
   "source": [
    "### Producto escalar\n",
    "\n",
    "Es una operación algebraica que toma dos secuencias de números de igual longitud (usualmente en la forma de vectores) y retorna un único número\n",
    "\n",
    "https://es.wikipedia.org/wiki/Producto_escalar\n",
    "\n",
    "Los 3 componentes de la ecuación `Ax` son los productos escalares de las 3 filas de `A`con el vector `x`. Imaginemos que el vector `x` tomase los valores $x_1=7$, $x_2=8$\n",
    "\n",
    "En ese caso el resultado de A sería:\n",
    "\n",
    "$$\n",
    "\\begin{equation}\n",
    "\\begin{bmatrix}\n",
    "1 & 2\\\\\n",
    "3 & 4\\\\\n",
    "5 & 6\n",
    "\\end{bmatrix}\n",
    "\\begin{bmatrix}\n",
    "7\\\\\n",
    "8\\\\\n",
    "\\end{bmatrix}\n",
    "=\n",
    "\\begin{bmatrix}\n",
    "1·7 + 2·8\\\\\n",
    "3·7 + 4·8\\\\\n",
    "5·7 + 6·8\n",
    "\\end{bmatrix}\n",
    "=\n",
    "\\begin{bmatrix}\n",
    "23\\\\\n",
    "53\\\\\n",
    "83\n",
    "\\end{bmatrix}\n",
    "\\end{equation}\n",
    "$$\n",
    "\n",
    "Calculando dichos valores con python y numpy nos quedará:\n"
   ]
  },
  {
   "cell_type": "code",
   "execution_count": 24,
   "metadata": {},
   "outputs": [
    {
     "name": "stdout",
     "output_type": "stream",
     "text": [
      "Matriz: \n",
      " [[1 2]\n",
      " [3 4]\n",
      " [5 6]]\n",
      "Vector X: \n",
      " [[7]\n",
      " [8]]\n"
     ]
    },
    {
     "data": {
      "text/plain": [
       "array([[23],\n",
       "       [53],\n",
       "       [83]])"
      ]
     },
     "execution_count": 24,
     "metadata": {},
     "output_type": "execute_result"
    }
   ],
   "source": [
    "a = np.array([[1,2],[3,4],[5,6]])\n",
    "x = np.array([[7],[8]])\n",
    "\n",
    "print(\"Matriz: \\n\",a)\n",
    "print(\"Vector X: \\n\",x)\n",
    "\n",
    "## La operación np.dot representa el producto escalar\n",
    "np.dot(a,x)"
   ]
  },
  {
   "cell_type": "markdown",
   "metadata": {},
   "source": [
    "Es importante remacar que la representación en python del vector `x` debe ser en formato columna, **por eso introducimos dobles corchetes** indicando una lista dentro de otra lista `[[7],[8]]`. \n",
    "\n",
    "Para que la multiplicación de dos matrices pueda realizarse, el número columnas en la primera matriz `A` tiene que ser igual al número de filas en la segunda matriz `X`. Otra forma de ver la multiplicación entre matrices es verlo como una serie de productos escalares: la primera columna de `A` multiplicada por la primera fila de `B`, la segunda columna de `A` multiplicada por la segunda fila de `B`, y sucesivas.\n",
    "\n",
    "Para poder ver las filas y columnas de una matriz podemos ver la propiedad `shape`\n"
   ]
  },
  {
   "cell_type": "code",
   "execution_count": 34,
   "metadata": {},
   "outputs": [
    {
     "data": {
      "text/plain": [
       "(3, 2)"
      ]
     },
     "execution_count": 34,
     "metadata": {},
     "output_type": "execute_result"
    }
   ],
   "source": [
    "a.shape"
   ]
  },
  {
   "cell_type": "markdown",
   "metadata": {},
   "source": [
    "Como vemos, la matriz `A` contiene `(3 filas, 2 columnas)`"
   ]
  },
  {
   "cell_type": "markdown",
   "metadata": {},
   "source": [
    "\n",
    "### Listas\n",
    "Las listas son una estructura básica de código, y representan una sucesión ordenada de datos. Encontrarás mas ejemmplos en este enlace:\n",
    "- https://www.programiz.com/python-programming/list"
   ]
  },
  {
   "cell_type": "markdown",
   "metadata": {},
   "source": [
    "## Matriz identidad\n",
    "\n",
    "Una matriz identidad es una matriz cuadrada (mismas filas que columnas), cuyos valor es siempre cero excepto en la diagonal de izquierda a derecha, en la que el valor es `1`.\n",
    "\n",
    "Reporesentamos la matriz identidad como $\\mathbb{1}∈ℝn×n$\n",
    "\n",
    "Podemos imaginar la matriz identidad como una matriz con el mismo rol que el valor `1` en las operaciones con numeros reales, donde cualquier valor mutliplicado por `1` es exactamente el mismo valor. Esta matriz sin embargo juega un rol muy importante en demostraciones matematicas y en la matriz inversa (que sirve para resolver sistemas de ecuaciones lineales)\n",
    "\n",
    "Podemos crear una matriz identidad en `numpy` usando el siguiente método:\n"
   ]
  },
  {
   "cell_type": "code",
   "execution_count": 45,
   "metadata": {},
   "outputs": [
    {
     "data": {
      "text/plain": [
       "array([[1., 0., 0.],\n",
       "       [0., 1., 0.],\n",
       "       [0., 0., 1.]])"
      ]
     },
     "execution_count": 45,
     "metadata": {},
     "output_type": "execute_result"
    }
   ],
   "source": [
    "np.identity(3)"
   ]
  },
  {
   "cell_type": "markdown",
   "metadata": {},
   "source": [
    "## Inversa de una matriz"
   ]
  },
  {
   "cell_type": "markdown",
   "metadata": {},
   "source": [
    "En el contexto de los numeros reales [https://en.wikipedia.org/wiki/Real_number] la inversa mutliplicativa de un número `x` es un numero que al multiplicar por `x` el resultado sea `1`. Nos referiremos a ese número como $x^-1$ o $\\frac{1}{x}$. Por ejemplo, toma el número 5. Su inversa será igual a $5·\\frac{1}{5} = 1$\n",
    "\n",
    "\n",
    "En la sección sobre la matriz identidad, mencionamos que dicha matriz juega un papel similar al número 1, pero para las matrices. De nuevo, como analogía, podemos decir que la inversa de una matriz representa el mismo rol que la inversa mutliplicativa pero para las matrices. Por tanto, la inversa de una matriz es una matriz tal que al ser multiplicada por la primera tanto a la izquierda como a la derecha, devuelve la matriz identidad (representada por el símbolo $\\mathbb{1}$).\n",
    "\n",
    "\n",
    "Mas formalmente, considera la matriz cuadrada $A∈ℝn×n$. Definimos la inversa $A^-1$ con la siguiente propiedad:\n",
    "\n",
    "\n",
    "$$A^-1·A=A·A^−1=\\mathbb{1}$$\n",
    "\n",
    "La razón de interés principal referente a la inversa, es que nos permite resolver sistemas de ecuaciones lineales en ciertas circunstancias. Considera el siguiente sistema de ecuaciones lineales:\n",
    "\n",
    "$Ax=y$ \n",
    "\n",
    "Suponiendo que `A` tiene inversa, podemos multiplicar por la inversa en ambos lados del igual \n",
    "\n",
    "\n",
    "$A^−1·A·x=A^-1·y$\n",
    "\n",
    "y obtener:\n",
    "\n",
    "$\\mathbb{1}·x=A^−1·y$\n",
    "\n",
    "Como la matriz identidad $\\mathbb{1}$ no afecta a `x`, la expresión final para resolver la ecuación y encontrar el valor de la matriz `x` es la siguiente:\n",
    "\n",
    "$x=A^-1·y$ \n",
    "\n",
    "Esta expresión nos aclara que para resovler dicho sistema de ecuaciones lineales solo necesitamos saber el valor de la inversa de A y mutliplicarla por el valor del vector `y`, entonces obtendremos la solución para nuestro sietema. \n",
    "\n",
    "Tal y como hemos indicado, esto solo funciona en algunas situaciones. Nos referimos a que esto solo sucede en caso que la matriz inicial `A` sea invertible, y la realidad es que **no todas las matrices tienen inversa**. Cuando exista $A^-1$ decimos que es invertible o `no-singular`, en caso contrario decimos que no es invertible o `singular`.\n",
    "\n",
    "En numpy podemos calcular la inversa de una matriz de la siguiente forma:\n"
   ]
  },
  {
   "cell_type": "code",
   "execution_count": 46,
   "metadata": {},
   "outputs": [
    {
     "name": "stdout",
     "output_type": "stream",
     "text": [
      "A inversa:\n",
      "[[-7. -7.  6.]\n",
      " [ 2.  1. -1.]\n",
      " [ 4.  5. -4.]]\n"
     ]
    }
   ],
   "source": [
    "A = np.array([[1, 2, 1],\n",
    "              [4, 4, 5],\n",
    "              [6, 7, 7]])\n",
    "\n",
    "A_i = np.linalg.inv(A)\n",
    "print(f'A inversa:\\n{A_i}')"
   ]
  },
  {
   "cell_type": "markdown",
   "metadata": {},
   "source": [
    "Podemos comprobar que la matriz inversa es correcta realizando la multiplicación de ambas y esperando la matriz identidad $\\mathbb{1}$ como resultado:"
   ]
  },
  {
   "cell_type": "code",
   "execution_count": 47,
   "metadata": {},
   "outputs": [
    {
     "data": {
      "text/plain": [
       "array([[ 1.,  0.,  0.],\n",
       "       [ 0.,  1., -0.],\n",
       "       [ 0., -0.,  1.]])"
      ]
     },
     "execution_count": 47,
     "metadata": {},
     "output_type": "execute_result"
    }
   ],
   "source": [
    "# Comprobamos que el resultado de multiplicar A por su A_i (su inversa) es la identidad\n",
    "np.round(A_i @ A)"
   ]
  },
  {
   "cell_type": "code",
   "execution_count": null,
   "metadata": {},
   "outputs": [],
   "source": []
  }
 ],
 "metadata": {
  "kernelspec": {
   "display_name": "Python 3",
   "language": "python",
   "name": "python3"
  },
  "language_info": {
   "codemirror_mode": {
    "name": "ipython",
    "version": 3
   },
   "file_extension": ".py",
   "mimetype": "text/x-python",
   "name": "python",
   "nbconvert_exporter": "python",
   "pygments_lexer": "ipython3",
   "version": "3.9.4"
  }
 },
 "nbformat": 4,
 "nbformat_minor": 4
}