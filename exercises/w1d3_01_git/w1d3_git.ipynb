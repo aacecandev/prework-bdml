{
 "cells": [
  {
   "cell_type": "markdown",
   "id": "2c8a314a",
   "metadata": {},
   "source": [
    "<img src=\"https://api.brandy.run/core/logo\" width=\"80\"/>\n",
    "\n",
    "# CORE Code School\n",
    "\n",
    "## Objectivos\n",
    "- Asimilar conceptos basicos de git, comandos y flujos\n",
    "- Uso de git y github, fork, clone, commit, push, pull request\n",
    "\n",
    "## Instrucciones\n",
    "- Contesta a todas las preguntas utilizando las celdas de tipo Markdown. \n",
    "- Entrega tu trabajo mediante pull request al repo. Acuerdate de crear una nueva rama para ese ejercício (desde master) y nombrar tu pull request segun el patron `[W1D1] <mi_nombre>`."
   ]
  },
  {
   "cell_type": "markdown",
   "id": "c677ab62",
   "metadata": {},
   "source": [
    "### Describe en tus palabras las ventajas de usar un sistema de control de versión como git\n",
    "\n",
    "Git enables us to keep different versions of the same repository both locally and remotely, and makes working asynchronously on the same project something playful"
   ]
  },
  {
   "cell_type": "markdown",
   "id": "46f614bc",
   "metadata": {},
   "source": [
    "### ¿Cual es el comando que descarga un repositorio de Github a tu ordenador?\n",
    "\n",
    "git clone <http/ssh url>"
   ]
  },
  {
   "cell_type": "markdown",
   "id": "027d413e",
   "metadata": {},
   "source": [
    "### Al hacer commit en un repositorio en que estoy trabajando, ¿mi compañero puede ver esos cambios en Github? Justifica tu respuesta.\n",
    "\n",
    "No, he won't be able since I'm working in my local copy of the repository. He will be able once I've pushed to a git server."
   ]
  },
  {
   "cell_type": "markdown",
   "id": "cde61a1c",
   "metadata": {},
   "source": [
    "### ¿Cual es la diferencia entre `clone` y `fork`?\n",
    "\n",
    "`git clone` is a way to get a full copy of a repository, including all it's branches and tags to local and a `fork` is the way of making a copy of a remote repository into our remote account"
   ]
  },
  {
   "cell_type": "markdown",
   "id": "117449ec",
   "metadata": {},
   "source": [
    "### ¿Como creamos una nueva rama?\n",
    "\n",
    "Using `git checkout -b <new-branch-name>` or the newest version `git switch -c <new-branch-name`"
   ]
  },
  {
   "cell_type": "markdown",
   "id": "13ad505c",
   "metadata": {},
   "source": [
    "### ¿Siguen existiendo ambas ramas después de un merge? Si no, ¿cual deja de existir?\n",
    "\n",
    "Yes, they still exists until we explicitly delete them locally or remotely"
   ]
  },
  {
   "cell_type": "markdown",
   "id": "38bed9da",
   "metadata": {},
   "source": [
    "### ¿Cual es el comando de git para verificar la condición actual de nuestro repo?\n",
    "\n",
    "`git status`"
   ]
  },
  {
   "cell_type": "markdown",
   "id": "8e3626fb",
   "metadata": {},
   "source": [
    "### Si en un determinado repo acabamos de crear un nuevo fichero llamado `connection_module.py`, ¿cuales son los pasos (comandos) que debemos seguir para asegurar que ese fichero pase a figurar tanto en el repo local como en el remoto? ¿Cual es la función de cada comando?\n",
    "\n",
    "At first, the new file it's not being tracked by git, so we make it aware using `git add <path/to/file>`. This command takes the file and and it's blob to the index tree. At last, we append that blob to the index tree (that we are considering that is already linked to /refs/heads/<branch-name>) using the tool `git commit` and providing a commit message, which will take a snapshot of the current state of the tree"
   ]
  },
  {
   "cell_type": "markdown",
   "id": "1f3266e0",
   "metadata": {},
   "source": [
    "![git status](img/gst.png)\n",
    "\n",
    "### El output del comando `git status` es como el de la imagen arriba. ¿Cuales ficheros tendrian sus cambios fijados con el comando `git commit -m \"update\"`?\n",
    "\n",
    "Only those that currently are in the staging area, in this case `models.py`"
   ]
  },
  {
   "cell_type": "markdown",
   "id": "dc638e29",
   "metadata": {},
   "source": [
    "### ¿La respuesta de la pregunta anterior seria la misma para `git commit -am \"update\"`?\n",
    "\n",
    "Yes, it is actually the simplest form of make this happen"
   ]
  },
  {
   "cell_type": "markdown",
   "id": "ebde4f0b",
   "metadata": {},
   "source": [
    "### ¿Pueden haber diferentes repos remotos conectados a un mismo repo local?\n",
    "\n",
    "Yes, the `remotes` can be pointing to several different upstream"
   ]
  },
  {
   "cell_type": "markdown",
   "id": "8836dce9",
   "metadata": {},
   "source": [
    "### ¿Para que sirve el fichero `.gitignore`?\n",
    "\n",
    "This is the place where we can indicate, using regular expressions, what files shouldn't git consider when adding their blobs to the index tree"
   ]
  },
  {
   "cell_type": "markdown",
   "id": "23cfb67c",
   "metadata": {},
   "source": [
    "### ¿Cual es el flujo de trabajo para crear una nueva funcionalidad a un software en el sistema de continuous delivery (gitflow)?\n",
    "\n",
    "Starting as the `main/master` we create a new `development` branch, which we will be using as the integration branch. From here, we start to work in a new `feature` branch, and once our code is passing unit test, it is integrated to the development branch. When all features (let's say planned in the sprint) are done and merged to the `development` branch, we create an ephemeral `release branch` where integration test will be passed, and if everything it's OK, this branch is merged over master."
   ]
  },
  {
   "cell_type": "markdown",
   "metadata": {},
   "source": []
  },
  {
   "cell_type": "markdown",
   "metadata": {},
   "source": []
  }
 ],
 "metadata": {
  "kernelspec": {
   "display_name": "Python 3",
   "language": "python",
   "name": "python3"
  },
  "language_info": {
   "codemirror_mode": {
    "name": "ipython",
    "version": 3
   },
   "file_extension": ".py",
   "mimetype": "text/x-python",
   "name": "python",
   "nbconvert_exporter": "python",
   "pygments_lexer": "ipython3",
   "version": "3.9.4"
  },
  "toc": {
   "base_numbering": 1,
   "nav_menu": {},
   "number_sections": false,
   "sideBar": true,
   "skip_h1_title": true,
   "title_cell": "Table of Contents",
   "title_sidebar": "Contents",
   "toc_cell": false,
   "toc_position": {
    "height": "calc(100% - 180px)",
    "left": "10px",
    "top": "150px",
    "width": "288px"
   },
   "toc_section_display": true,
   "toc_window_display": false
  }
 },
 "nbformat": 4,
 "nbformat_minor": 5
}
