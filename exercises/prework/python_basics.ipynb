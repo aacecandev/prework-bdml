{
  "nbformat": 4,
  "nbformat_minor": 5,
  "metadata": {
    "kernelspec": {
      "display_name": "Python 3",
      "language": "python",
      "name": "python3"
    },
    "language_info": {
      "codemirror_mode": {
        "name": "ipython",
        "version": 3
      },
      "file_extension": ".py",
      "mimetype": "text/x-python",
      "name": "python",
      "nbconvert_exporter": "python",
      "pygments_lexer": "ipython3",
      "version": "3.9.4"
    },
    "toc": {
      "base_numbering": 1,
      "nav_menu": {},
      "number_sections": true,
      "sideBar": true,
      "skip_h1_title": true,
      "title_cell": "Table of Contents",
      "title_sidebar": "Contents",
      "toc_cell": true,
      "toc_position": {},
      "toc_section_display": true,
      "toc_window_display": true
    },
    "colab": {
      "name": "python_basics.ipynb",
      "provenance": [],
      "collapsed_sections": []
    }
  },
  "cells": [
    {
      "cell_type": "markdown",
      "metadata": {
        "id": "1ccbf49d"
      },
      "source": [
        "<img src=\"https://api.brandy.run/core/logo\" width=\"80\"/>\n",
        "\n",
        "# CORE Code School\n",
        "\n",
        "# Python Basics"
      ],
      "id": "1ccbf49d"
    },
    {
      "cell_type": "markdown",
      "metadata": {
        "toc": true,
        "id": "b0a6f67c"
      },
      "source": [
        "<h1>Table of Contents<span class=\"tocSkip\"></span></h1>\n",
        "<div class=\"toc\"><ul class=\"toc-item\"><li><span><a href=\"#Variables-and-DataTypes\" data-toc-modified-id=\"Variables-and-DataTypes-1\"><span class=\"toc-item-num\">1&nbsp;&nbsp;</span>Variables and DataTypes</a></span><ul class=\"toc-item\"><li><span><a href=\"#Asigning-a-variable\" data-toc-modified-id=\"Asigning-a-variable-1.1\"><span class=\"toc-item-num\">1.1&nbsp;&nbsp;</span>Asigning a variable</a></span></li><li><span><a href=\"#Checking-variable-types\" data-toc-modified-id=\"Checking-variable-types-1.2\"><span class=\"toc-item-num\">1.2&nbsp;&nbsp;</span>Checking variable types</a></span></li><li><span><a href=\"#Casting\" data-toc-modified-id=\"Casting-1.3\"><span class=\"toc-item-num\">1.3&nbsp;&nbsp;</span>Casting</a></span></li><li><span><a href=\"#Creating-a-new-list\" data-toc-modified-id=\"Creating-a-new-list-1.4\"><span class=\"toc-item-num\">1.4&nbsp;&nbsp;</span>Creating a new list</a></span></li><li><span><a href=\"#Removing-elements\" data-toc-modified-id=\"Removing-elements-1.5\"><span class=\"toc-item-num\">1.5&nbsp;&nbsp;</span>Removing elements</a></span></li><li><span><a href=\"#Index-and-Count\" data-toc-modified-id=\"Index-and-Count-1.6\"><span class=\"toc-item-num\">1.6&nbsp;&nbsp;</span>Index and Count</a></span></li><li><span><a href=\"#Accessing-tuple-elements-and-f-strings\" data-toc-modified-id=\"Accessing-tuple-elements-and-f-strings-1.7\"><span class=\"toc-item-num\">1.7&nbsp;&nbsp;</span>Accessing tuple elements and f-strings</a></span></li><li><span><a href=\"#Split,-Join-and-string-methods\" data-toc-modified-id=\"Split,-Join-and-string-methods-1.8\"><span class=\"toc-item-num\">1.8&nbsp;&nbsp;</span>Split, Join and string methods</a></span></li><li><span><a href=\"#Counting-digits\" data-toc-modified-id=\"Counting-digits-1.9\"><span class=\"toc-item-num\">1.9&nbsp;&nbsp;</span>Counting digits</a></span></li></ul></li><li><span><a href=\"#Control-Flow\" data-toc-modified-id=\"Control-Flow-2\"><span class=\"toc-item-num\">2&nbsp;&nbsp;</span>Control Flow</a></span><ul class=\"toc-item\"><li><span><a href=\"#Guided-example\" data-toc-modified-id=\"Guided-example-2.1\"><span class=\"toc-item-num\">2.1&nbsp;&nbsp;</span>Guided example</a></span></li><li><span><a href=\"#Simple-calculator\" data-toc-modified-id=\"Simple-calculator-2.2\"><span class=\"toc-item-num\">2.2&nbsp;&nbsp;</span>Simple calculator</a></span></li><li><span><a href=\"#Dog-Registry\" data-toc-modified-id=\"Dog-Registry-2.3\"><span class=\"toc-item-num\">2.3&nbsp;&nbsp;</span>Dog Registry</a></span></li><li><span><a href=\"#Largest-Prime\" data-toc-modified-id=\"Largest-Prime-2.4\"><span class=\"toc-item-num\">2.4&nbsp;&nbsp;</span>Largest Prime</a></span></li></ul></li></ul></div>"
      ],
      "id": "b0a6f67c"
    },
    {
      "cell_type": "markdown",
      "metadata": {
        "id": "1a832024"
      },
      "source": [
        "# ¿Que es un lenguaje de programación?"
      ],
      "id": "1a832024"
    },
    {
      "cell_type": "code",
      "metadata": {
        "id": "a9bdb0c2",
        "colab": {
          "base_uri": "https://localhost:8080/",
          "height": 336
        },
        "outputId": "1a63a4d0-bed4-44f1-cd2b-3d96048651d1"
      },
      "source": [
        "from IPython.display import IFrame\n",
        "IFrame('https://www.youtube.com/embed/XASY30EfGAc\"', width=560, height=315)"
      ],
      "id": "a9bdb0c2",
      "execution_count": null,
      "outputs": [
        {
          "output_type": "execute_result",
          "data": {
            "text/html": [
              "\n",
              "        <iframe\n",
              "            width=\"560\"\n",
              "            height=\"315\"\n",
              "            src=\"https://www.youtube.com/embed/XASY30EfGAc\"\"\n",
              "            frameborder=\"0\"\n",
              "            allowfullscreen\n",
              "        ></iframe>\n",
              "        "
            ],
            "text/plain": [
              "<IPython.lib.display.IFrame at 0x7f4f93207810>"
            ]
          },
          "metadata": {},
          "execution_count": 1
        }
      ]
    },
    {
      "cell_type": "markdown",
      "metadata": {
        "id": "bf06274a"
      },
      "source": [
        "Fuente: Women Techmakers"
      ],
      "id": "bf06274a"
    },
    {
      "cell_type": "markdown",
      "metadata": {
        "id": "8e1aff52"
      },
      "source": [
        "## Variables and DataTypes\n",
        "\n",
        "Los ejercícios de la sección 1 acompañan la lección `Variables and Data Types` de el prework. Practicaremos con los tipos basicos de datos en Python.\n",
        "\n",
        "### Asigning a variable\n",
        "\n",
        "En la celda abajo, asigne un valor entre 0 y 100 a la variable x, imprimela, asignale un valor que sea un texto y imprimela otra vez. Sustituye las lineas de los comentarios."
      ],
      "id": "8e1aff52"
    },
    {
      "cell_type": "code",
      "metadata": {
        "colab": {
          "base_uri": "https://localhost:8080/"
        },
        "id": "d5080fdc",
        "outputId": "9a510886-1172-43d1-ca53-0288b80ad9f0"
      },
      "source": [
        "x = 100\n",
        "print(type(x))\n",
        "x = \"Hello\"\n",
        "print(type(x))\n",
        "x = 19.4\n",
        "print(type(x))\n",
        "x = True\n",
        "print(type(x))\n",
        "x = [1,2,3,4]\n",
        "print(x)\n",
        "x.append(5)\n",
        "print(x)\n",
        "print(type(x))\n",
        "alumno = {\n",
        "    \"nombre\":\"Pepe\",\n",
        "    \"edad\":10,\n",
        "    \"b\":2\n",
        "}\n",
        "print(type(x))\n",
        "x = (1,2,3,4)\n",
        "print(type(x))\n",
        "x = set([1,2,3,4])\n",
        "print(type(x))\n",
        "x = None\n",
        "print(type(x))\n",
        "#x = nan\n",
        "#print(type(x))\n",
        "x = lambda x:3\n",
        "print(type(x))\n",
        "\n",
        "class A:\n",
        "  def __init__(self):\n",
        "    self.x = 1\n",
        "\n",
        "print(type(A))\n",
        "\n",
        "print(type(Exception(\"1234\")))\n",
        "\n",
        "print(type(b'123'))\n"
      ],
      "id": "d5080fdc",
      "execution_count": null,
      "outputs": [
        {
          "output_type": "stream",
          "name": "stdout",
          "text": [
            "<class 'int'>\n",
            "<class 'str'>\n",
            "<class 'float'>\n",
            "<class 'bool'>\n",
            "[1, 2, 3, 4]\n",
            "[1, 2, 3, 4, 5]\n",
            "<class 'list'>\n",
            "<class 'list'>\n",
            "<class 'tuple'>\n",
            "<class 'set'>\n",
            "<class 'NoneType'>\n",
            "<class 'function'>\n",
            "<class 'type'>\n",
            "<class 'Exception'>\n",
            "<class 'bytes'>\n"
          ]
        }
      ]
    },
    {
      "cell_type": "code",
      "metadata": {
        "colab": {
          "base_uri": "https://localhost:8080/"
        },
        "id": "asel94XCosCm",
        "outputId": "32bb87b9-343d-475c-b4a6-81176054f4ac"
      },
      "source": [
        "print(set([1,2,3,4,5,5,5,5,5,5,5,5]))"
      ],
      "id": "asel94XCosCm",
      "execution_count": null,
      "outputs": [
        {
          "output_type": "stream",
          "name": "stdout",
          "text": [
            "{1, 2, 3, 4, 5}\n"
          ]
        }
      ]
    },
    {
      "cell_type": "markdown",
      "metadata": {
        "id": "be0dc301"
      },
      "source": [
        "### Checking variable types\n",
        "Asigna diferentes tipos de datos a variables y prueba el resultado de la función `type`. Los 4 tipos escritos son sugerencias, pero puedes probar los que quieras. \n",
        "\n",
        "**Bonus:** Escribe un condicional `if` para de una lista de valores imprimir solo aquellos que sean de un tipo específico."
      ],
      "id": "be0dc301"
    },
    {
      "cell_type": "code",
      "metadata": {
        "colab": {
          "base_uri": "https://localhost:8080/"
        },
        "id": "e1062c62",
        "outputId": "3a278077-465b-4d8c-e9de-fbff6b332359"
      },
      "source": [
        "entero = 1\n",
        "decimal = 0.1\n",
        "lista = [entero, decimal]\n",
        "dicionario = {'nombre': 'alejandro'}\n",
        "\n",
        "for element in entero, decimal, lista, dicionario:\n",
        "  if isinstance(element, int):\n",
        "    print(type(element))\n"
      ],
      "id": "e1062c62",
      "execution_count": null,
      "outputs": [
        {
          "output_type": "stream",
          "name": "stdout",
          "text": [
            "<class 'int'>\n"
          ]
        }
      ]
    },
    {
      "cell_type": "code",
      "metadata": {
        "colab": {
          "base_uri": "https://localhost:8080/"
        },
        "id": "GiK2KiCRpvrJ",
        "outputId": "2837c612-2d1a-4cdf-8248-4fd177b109dc"
      },
      "source": [
        "x = []\n",
        "isinstance(x,list)"
      ],
      "id": "GiK2KiCRpvrJ",
      "execution_count": null,
      "outputs": [
        {
          "output_type": "execute_result",
          "data": {
            "text/plain": [
              "True"
            ]
          },
          "metadata": {},
          "execution_count": 30
        }
      ]
    },
    {
      "cell_type": "markdown",
      "metadata": {
        "id": "5760c86f"
      },
      "source": [
        "### Casting\n",
        "Escribe un programa en python que itere sobre una lista de valores de diferentes tipos y les sume todos."
      ],
      "id": "5760c86f"
    },
    {
      "cell_type": "code",
      "metadata": {
        "colab": {
          "base_uri": "https://localhost:8080/"
        },
        "id": "0f21f83b",
        "outputId": "39057e62-5880-4793-99d2-d2f4c759d3e2"
      },
      "source": [
        "lista = [1,2,\"3.0\",4.5, \"6\", 9, 10, \"42\"]\n",
        "\n",
        "sum = 0\n",
        "for element in lista:\n",
        "  sum += float(element)\n",
        "\n",
        "print(sum)\n",
        "\n",
        "#print(sum(map(float, lista)))"
      ],
      "id": "0f21f83b",
      "execution_count": null,
      "outputs": [
        {
          "output_type": "stream",
          "name": "stdout",
          "text": [
            "77.5\n"
          ]
        }
      ]
    },
    {
      "cell_type": "code",
      "metadata": {
        "colab": {
          "base_uri": "https://localhost:8080/"
        },
        "id": "mspI71CDqe7K",
        "outputId": "c8a34198-baa4-4e2b-ce99-d17388ed9277"
      },
      "source": [
        "x = 5\n",
        "print(type(x),x)\n",
        "y = str(x)\n",
        "print(type(y),y)\n",
        "print(x*2)\n",
        "print(y*2)"
      ],
      "id": "mspI71CDqe7K",
      "execution_count": null,
      "outputs": [
        {
          "output_type": "stream",
          "name": "stdout",
          "text": [
            "<class 'int'> 5\n",
            "<class 'str'> 5\n",
            "10\n",
            "55\n"
          ]
        }
      ]
    },
    {
      "cell_type": "code",
      "metadata": {
        "colab": {
          "base_uri": "https://localhost:8080/",
          "height": 235
        },
        "id": "oQ_uwXqvq4-z",
        "outputId": "ccaf94ca-7e8a-45ed-cdbd-3c975b3d2d12"
      },
      "source": [
        "x = \"60a\"\n",
        "print(x, type(x))\n",
        "y = int(x)\n",
        "print(y, type(y))"
      ],
      "id": "oQ_uwXqvq4-z",
      "execution_count": null,
      "outputs": [
        {
          "output_type": "stream",
          "name": "stdout",
          "text": [
            "60a <class 'str'>\n"
          ]
        },
        {
          "output_type": "error",
          "ename": "ValueError",
          "evalue": "ignored",
          "traceback": [
            "\u001b[0;31m---------------------------------------------------------------------------\u001b[0m",
            "\u001b[0;31mValueError\u001b[0m                                Traceback (most recent call last)",
            "\u001b[0;32m<ipython-input-37-023b35d64ffb>\u001b[0m in \u001b[0;36m<module>\u001b[0;34m()\u001b[0m\n\u001b[1;32m      1\u001b[0m \u001b[0mx\u001b[0m \u001b[0;34m=\u001b[0m \u001b[0;34m\"60a\"\u001b[0m\u001b[0;34m\u001b[0m\u001b[0;34m\u001b[0m\u001b[0m\n\u001b[1;32m      2\u001b[0m \u001b[0mprint\u001b[0m\u001b[0;34m(\u001b[0m\u001b[0mx\u001b[0m\u001b[0;34m,\u001b[0m \u001b[0mtype\u001b[0m\u001b[0;34m(\u001b[0m\u001b[0mx\u001b[0m\u001b[0;34m)\u001b[0m\u001b[0;34m)\u001b[0m\u001b[0;34m\u001b[0m\u001b[0;34m\u001b[0m\u001b[0m\n\u001b[0;32m----> 3\u001b[0;31m \u001b[0my\u001b[0m \u001b[0;34m=\u001b[0m \u001b[0mint\u001b[0m\u001b[0;34m(\u001b[0m\u001b[0mx\u001b[0m\u001b[0;34m)\u001b[0m\u001b[0;34m\u001b[0m\u001b[0;34m\u001b[0m\u001b[0m\n\u001b[0m\u001b[1;32m      4\u001b[0m \u001b[0mprint\u001b[0m\u001b[0;34m(\u001b[0m\u001b[0my\u001b[0m\u001b[0;34m,\u001b[0m \u001b[0mtype\u001b[0m\u001b[0;34m(\u001b[0m\u001b[0my\u001b[0m\u001b[0;34m)\u001b[0m\u001b[0;34m)\u001b[0m\u001b[0;34m\u001b[0m\u001b[0;34m\u001b[0m\u001b[0m\n",
            "\u001b[0;31mValueError\u001b[0m: invalid literal for int() with base 10: '60a'"
          ]
        }
      ]
    },
    {
      "cell_type": "markdown",
      "metadata": {
        "id": "ef2204f3"
      },
      "source": [
        "### Creating a new list\n",
        "Defina en una variable una lista vacia. Eso se hace con apenas corchetes, i.e.: `x=[]`\n",
        "\n",
        "En seguida, utilizando un bucle for, itere por los numeros del 1 al 200 y añada a la lista solo los multiplos de 3. Cuente cuantos elementos hay en la lista final.\n",
        "\n",
        "**TIP:** Para saber la longitud de una lista se puede usar la función `len`: len(lst)"
      ],
      "id": "ef2204f3"
    },
    {
      "cell_type": "code",
      "metadata": {
        "colab": {
          "base_uri": "https://localhost:8080/"
        },
        "id": "2f352152",
        "outputId": "f5a4309d-453f-4dbb-aa4f-c5f6e17ca10f"
      },
      "source": [
        "x = []\n",
        "\n",
        "for i in range(1,200):\n",
        "  if i % 3 == 0:\n",
        "    x.append(i)\n",
        "\n",
        "print(x)\n",
        "print(len(x))\n",
        "\n",
        "# x=[ i for i in range(1, 200) if i%3==0]\n",
        "# print(f\"Len: {len(x)}\")\n"
      ],
      "id": "2f352152",
      "execution_count": null,
      "outputs": [
        {
          "output_type": "stream",
          "name": "stdout",
          "text": [
            "[3, 6, 9, 12, 15, 18, 21, 24, 27, 30, 33, 36, 39, 42, 45, 48, 51, 54, 57, 60, 63, 66, 69, 72, 75, 78, 81, 84, 87, 90, 93, 96, 99, 102, 105, 108, 111, 114, 117, 120, 123, 126, 129, 132, 135, 138, 141, 144, 147, 150, 153, 156, 159, 162, 165, 168, 171, 174, 177, 180, 183, 186, 189, 192, 195, 198]\n",
            "66\n"
          ]
        }
      ]
    },
    {
      "cell_type": "code",
      "metadata": {
        "colab": {
          "base_uri": "https://localhost:8080/"
        },
        "id": "6JhjNp10sZC3",
        "outputId": "64edb446-9a1d-4071-8f80-ea1504b2e7c4"
      },
      "source": [
        "x = []\n",
        "# Step is 3\n",
        "for i in range(3,200,3):\n",
        "  x.append(i)\n",
        "print(len(x))"
      ],
      "id": "6JhjNp10sZC3",
      "execution_count": null,
      "outputs": [
        {
          "output_type": "stream",
          "name": "stdout",
          "text": [
            "66\n"
          ]
        }
      ]
    },
    {
      "cell_type": "markdown",
      "metadata": {
        "id": "c4075c92"
      },
      "source": [
        "### Removing elements\n",
        "\n",
        "De la siguiente lista, remova todos los numeros negativos. Imprima la lista resultante.\n",
        "\n",
        "**Bonus:** Imprime la lista resultante ordenada ascendientemente y hazlo alterando la lista existente, sin crear una nueva."
      ],
      "id": "c4075c92"
    },
    {
      "cell_type": "code",
      "metadata": {
        "colab": {
          "base_uri": "https://localhost:8080/"
        },
        "id": "3de9f547",
        "outputId": "71e24ab5-60c7-4e5e-f84c-f85c7460f045"
      },
      "source": [
        "lst = [-125, 243, 332, -70, 310, 213, -349, 499, 164, 74, 327, 87, -298, -281, 184, 212.5, -97, 22, -9, -246, 392, \n",
        "       -397, 471, -354, 195, 359, 136, -100, -350, -50, 329, -331, 218, -418, 415, 469.77, -182, -129, -328, -450, \n",
        "       293, -485, -333, 427, -291, -413, 0, 157, 76, 81, 35, 345, 337, 20, 94.21, 65, -120, 185, -192, 120, 491, \n",
        "       453, -472, 122.11, -242, 416, 86, 114, 229, -312, 228, -284, 122, -256, -326, 425, 252, 404, -439, -457, -298, \n",
        "       297, -133, 490, -454, -193.32, 235, -460, 422, 379, -438, -291, 344, 41.5, 310.0, -199, 113, 484, 437, 47]\n",
        "\n",
        "x = []\n",
        "for e in lst:\n",
        "  if e>=0:\n",
        "    x.append(e)\n",
        "\n",
        "print(x)\n",
        "\n",
        "\n",
        "lst = [item for item in lst if item >= 0] # list comprehension\n",
        "lst.sort()\n",
        "\n",
        "# sorted(creates a new list...)\n",
        "#lst = sorted(list(filter(lambda x: x >= 0, lst)))\n",
        "\n",
        "print(lst)"
      ],
      "id": "3de9f547",
      "execution_count": null,
      "outputs": [
        {
          "output_type": "stream",
          "name": "stdout",
          "text": [
            "[243, 332, 310, 213, 499, 164, 74, 327, 87, 184, 212.5, 22, 392, 471, 195, 359, 136, 329, 218, 415, 469.77, 293, 427, 0, 157, 76, 81, 35, 345, 337, 20, 94.21, 65, 185, 120, 491, 453, 122.11, 416, 86, 114, 229, 228, 122, 425, 252, 404, 297, 490, 235, 422, 379, 344, 41.5, 310.0, 113, 484, 437, 47]\n",
            "[0, 20, 22, 35, 41.5, 47, 65, 74, 76, 81, 86, 87, 94.21, 113, 114, 120, 122, 122.11, 136, 157, 164, 184, 185, 195, 212.5, 213, 218, 228, 229, 235, 243, 252, 293, 297, 310, 310.0, 327, 329, 332, 337, 344, 345, 359, 379, 392, 404, 415, 416, 422, 425, 427, 437, 453, 469.77, 471, 484, 490, 491, 499]\n"
          ]
        }
      ]
    },
    {
      "cell_type": "markdown",
      "metadata": {
        "id": "7c2fe6f4"
      },
      "source": [
        "### Index and Count\n",
        "\n",
        "A partir de la siguiente lista:\n",
        "- Cuenta cuantas veces sale el numero 0\n",
        "- Crea una list con los indices de todas las ocurrencias del numero 1"
      ],
      "id": "7c2fe6f4"
    },
    {
      "cell_type": "code",
      "metadata": {
        "colab": {
          "base_uri": "https://localhost:8080/"
        },
        "id": "79eb6c6c",
        "outputId": "ce8c1bf9-85c1-446b-af15-ff131f75fe62"
      },
      "source": [
        "lst = [4, 6, 1, 8, 6, 4, 3, 5, 5, 9, 7, 2, 3, 6, 4, 0, 8, 5, 6, 3, 9, 3, 7, 1, 7, 5, 7, 4, 6, 1, 9, 0, 6, 6, 3, 7, \n",
        "       2, 1, 2, 6, 7, 2, 1, 7, 9, 7, 1, 3, 6, 5, 6, 4, 6, 5, 1, 2, 0, 5, 9, 9, 8, 3, 7, 3, 4, 6, 1, 5, 5, 4, 1, 9, \n",
        "       3, 0, 5, 5, 1, 5, 1, 8, 4, 5, 6, 8, 4, 2, 2, 4, 0, 7, 6, 9, 3, 0, 3, 2, 8, 5, 1, 8]\n",
        "\n",
        "sum = 0\n",
        "idx = []\n",
        "\n",
        "for index, item in enumerate(lst):\n",
        "  if item == 0:\n",
        "    sum += 1\n",
        "  if item == 1:\n",
        "    idx.append(index)\n",
        "\n",
        "print(sum)\n",
        "print(idx)\n",
        "\n",
        "# print(lst.count(0))\n",
        "\n",
        "# l = [ idx for idx, i in enumerate(lst) if i == 1 ]\n",
        "# print(l)"
      ],
      "id": "79eb6c6c",
      "execution_count": null,
      "outputs": [
        {
          "output_type": "stream",
          "name": "stdout",
          "text": [
            "6\n",
            "[2, 23, 29, 37, 42, 46, 54, 66, 70, 76, 78, 98]\n"
          ]
        }
      ]
    },
    {
      "cell_type": "code",
      "metadata": {
        "colab": {
          "base_uri": "https://localhost:8080/"
        },
        "id": "sh4CPtOKxAQC",
        "outputId": "f13f0dc6-a0f5-426e-d0f8-87c77312860d"
      },
      "source": [
        "x = [\"e\",\"a\",\"u\",\"q\"]\n",
        "i = 0\n",
        "for e in x:\n",
        "  print(\"Index\",i, \"element\",e)\n",
        "  i = i+1\n"
      ],
      "id": "sh4CPtOKxAQC",
      "execution_count": null,
      "outputs": [
        {
          "output_type": "stream",
          "name": "stdout",
          "text": [
            "Index 0 element e\n",
            "Index 1 element a\n",
            "Index 2 element u\n",
            "Index 3 element q\n"
          ]
        }
      ]
    },
    {
      "cell_type": "code",
      "metadata": {
        "id": "1fyRmDpdyAZs"
      },
      "source": [
        "x = [\"e\",\"a\",\"u\",\"q\"]\n",
        "\n",
        "for i,e in enumerate(x):\n",
        "  print(\"Index\",i, \"element\",e)\n",
        "  \n"
      ],
      "id": "1fyRmDpdyAZs",
      "execution_count": null,
      "outputs": []
    },
    {
      "cell_type": "code",
      "metadata": {
        "colab": {
          "base_uri": "https://localhost:8080/"
        },
        "id": "rlS9yyVUyFWy",
        "outputId": "f221b76b-a3d8-4b69-9d9b-33b486f2de06"
      },
      "source": [
        "x = [\"e\",\"a\",\"u\",\"q\"]\n",
        "\n",
        "list(enumerate(x))"
      ],
      "id": "rlS9yyVUyFWy",
      "execution_count": null,
      "outputs": [
        {
          "output_type": "execute_result",
          "data": {
            "text/plain": [
              "[(0, 'e'), (1, 'a'), (2, 'u'), (3, 'q')]"
            ]
          },
          "metadata": {},
          "execution_count": 57
        }
      ]
    },
    {
      "cell_type": "code",
      "metadata": {
        "colab": {
          "base_uri": "https://localhost:8080/"
        },
        "id": "vBWnP0sayYW0",
        "outputId": "4194646c-7511-4424-c8b1-b3855c23bda4"
      },
      "source": [
        "x = [\"ab\",\"cd\",\"ef\",\"gh\"]\n",
        "for m,n in x:\n",
        "  print(m,n) "
      ],
      "id": "vBWnP0sayYW0",
      "execution_count": null,
      "outputs": [
        {
          "output_type": "stream",
          "name": "stdout",
          "text": [
            "a b\n",
            "c d\n",
            "e f\n",
            "g h\n"
          ]
        }
      ]
    },
    {
      "cell_type": "code",
      "metadata": {
        "colab": {
          "base_uri": "https://localhost:8080/"
        },
        "id": "IDA1M6tfylCJ",
        "outputId": "bc98dde4-ca1a-4f39-a01a-8f478e31ae62"
      },
      "source": [
        "for e in \"holaquetal\":\n",
        "  print(\"letra:\",e)"
      ],
      "id": "IDA1M6tfylCJ",
      "execution_count": null,
      "outputs": [
        {
          "output_type": "stream",
          "name": "stdout",
          "text": [
            "letra: h\n",
            "letra: o\n",
            "letra: l\n",
            "letra: a\n",
            "letra: q\n",
            "letra: u\n",
            "letra: e\n",
            "letra: t\n",
            "letra: a\n",
            "letra: l\n"
          ]
        }
      ]
    },
    {
      "cell_type": "code",
      "metadata": {
        "colab": {
          "base_uri": "https://localhost:8080/"
        },
        "id": "OH_rfB5Hyt8E",
        "outputId": "dfecbf83-2b92-4dee-e2f9-15332a812534"
      },
      "source": [
        "len(set(\"hola que tal\"))"
      ],
      "id": "OH_rfB5Hyt8E",
      "execution_count": null,
      "outputs": [
        {
          "output_type": "execute_result",
          "data": {
            "text/plain": [
              "9"
            ]
          },
          "metadata": {},
          "execution_count": 63
        }
      ]
    },
    {
      "cell_type": "code",
      "metadata": {
        "colab": {
          "base_uri": "https://localhost:8080/"
        },
        "id": "93wuCpwGzINv",
        "outputId": "8e1b8387-69fb-48c4-a8db-8b385109b4d7"
      },
      "source": [
        "set(\"hola que tal\")"
      ],
      "id": "93wuCpwGzINv",
      "execution_count": null,
      "outputs": [
        {
          "output_type": "execute_result",
          "data": {
            "text/plain": [
              "{' ', 'a', 'e', 'h', 'l', 'o', 'q', 't', 'u'}"
            ]
          },
          "metadata": {},
          "execution_count": 64
        }
      ]
    },
    {
      "cell_type": "markdown",
      "metadata": {
        "id": "7899f920"
      },
      "source": [
        "### Accessing tuple elements and f-strings\n",
        "\n",
        "En la siguiente celta se encuentran dos puntos, llamados `start` y `finish`, con formato `(horas, minutos, segundos)`.\n",
        "Calcule:\n",
        "\n",
        "- Cuantos segundos pasaron entre start y finish\n",
        "- La misma respuesta en el formato `\"Total: X horas, Y minutos y Z segundos\"`"
      ],
      "id": "7899f920"
    },
    {
      "cell_type": "code",
      "metadata": {
        "id": "a3726e0b",
        "colab": {
          "base_uri": "https://localhost:8080/"
        },
        "outputId": "c12321a3-2e29-4261-8605-3961b18bee10"
      },
      "source": [
        "start = (2,25,13)\n",
        "finish = (18,3,55)\n",
        "\n",
        "from datetime import datetime\n",
        "\n",
        "start_string = ' '.join(map(str, start))\n",
        "finish_string = ' '.join(map(str, finish))\n",
        "\n",
        "start_obj = datetime.strptime(start_string, \"%H %M %S\")\n",
        "finish_obj = datetime.strptime(finish_string, \"%H %M %S\")\n",
        "\n",
        "diff = finish_obj - start_obj\n",
        "\n",
        "print(diff.total_seconds())\n",
        "\n",
        "hours = int(diff.total_seconds() / 3600)\n",
        "minutes = int(diff.total_seconds() / 60 % 60)\n",
        "seconds = int(diff.total_seconds() % 60)\n",
        "\n",
        "print(f'Total: {hours} horas, {minutes} minutos y {seconds} segundos')\n"
      ],
      "id": "a3726e0b",
      "execution_count": null,
      "outputs": [
        {
          "output_type": "stream",
          "name": "stdout",
          "text": [
            "56322.0\n",
            "Total: 15 horas, 38 minutos y 42 segundos\n"
          ]
        }
      ]
    },
    {
      "cell_type": "code",
      "metadata": {
        "colab": {
          "base_uri": "https://localhost:8080/"
        },
        "id": "KSfviNUXzdvZ",
        "outputId": "b3560273-d1af-40fc-beaf-fde5b6352c88"
      },
      "source": [
        "start = (2,25,13)\n",
        "finish = (18,3,55)\n",
        "\n",
        "h,m,s = start\n",
        "total_start = s + m*60 + h*60*60\n",
        "\n",
        "h,m,s = finish\n",
        "total_end = s + m*60 + h*60*60\n",
        "print(total_end-total_start)"
      ],
      "id": "KSfviNUXzdvZ",
      "execution_count": null,
      "outputs": [
        {
          "output_type": "stream",
          "name": "stdout",
          "text": [
            "56322\n"
          ]
        }
      ]
    },
    {
      "cell_type": "markdown",
      "metadata": {
        "id": "666e7867"
      },
      "source": [
        "### Split, Join and string methods\n",
        "\n",
        "Usando la siguiente cita del programador Martin Fowler:\n",
        "- Imprime la cita al contrario\n",
        "- Genere una lista de todas las palabras presentes en orden alfabetico.\n",
        "- Una todas las palabras de la lista anterior con el caracter `~` como separador. Ejemplo:`\"a~any~can~can~c...\"`"
      ],
      "id": "666e7867"
    },
    {
      "cell_type": "code",
      "metadata": {
        "id": "1bb0850b",
        "colab": {
          "base_uri": "https://localhost:8080/"
        },
        "outputId": "60437f08-48f2-4e82-bd39-9963f3999a95"
      },
      "source": [
        "quote = \"Any fool can write code that a computer can understand. Good programmers write code that humans can understand.\"\n",
        "\n",
        "print(quote[::-1])\n",
        "\n",
        "print(sorted(quote.lower().split()))\n",
        "# print(sorted(q, key=str.lower))\n",
        "\n",
        "print(\"~\".join(quote.split()))"
      ],
      "id": "1bb0850b",
      "execution_count": null,
      "outputs": [
        {
          "output_type": "stream",
          "name": "stdout",
          "text": [
            ".dnatsrednu nac snamuh taht edoc etirw sremmargorp dooG .dnatsrednu nac retupmoc a taht edoc etirw nac loof ynA\n",
            "['a', 'any', 'can', 'can', 'can', 'code', 'code', 'computer', 'fool', 'good', 'humans', 'programmers', 'that', 'that', 'understand.', 'understand.', 'write', 'write']\n",
            "Any~fool~can~write~code~that~a~computer~can~understand.~Good~programmers~write~code~that~humans~can~understand.\n"
          ]
        }
      ]
    },
    {
      "cell_type": "markdown",
      "metadata": {
        "id": "55c597dd"
      },
      "source": [
        "### Counting digits\n",
        "En ese ultimo ejercício de la sección 1, crea un bucle for iterando por los numeros de 0 a 100. Deberás:\n",
        "- Contar cuantas veces aparece cada digito del 0 al 9 en todos los numeros de ese rango. El resultado esperado es un diccionario cuyas keys sean `1,2,3,4,5,6,7,8,9,0` y los values el numero de repeticiones de cada uno.\n",
        "- Crear una lista de los numeros cuyos digitos no se repiten. Deberan incluirse todos los numeros 1 digito y numeros como el 102, pero no 101."
      ],
      "id": "55c597dd"
    },
    {
      "cell_type": "code",
      "metadata": {
        "id": "81214565",
        "colab": {
          "base_uri": "https://localhost:8080/"
        },
        "outputId": "7f11711b-9cdb-442c-e04c-7d768c2abf0e"
      },
      "source": [
        "dictionary = {\n",
        "    '0': 0,\n",
        "    '1': 0,\n",
        "    '2': 0,\n",
        "    '3': 0,\n",
        "    '4': 0,\n",
        "    '5': 0,\n",
        "    '6': 0,\n",
        "    '7': 0,\n",
        "    '8': 0,\n",
        "    '9': 0,\n",
        "}\n",
        "\n",
        "uniques = []\n",
        "\n",
        "for x in range(0,100):\n",
        "  lst = [str(a) for a in str(x)]\n",
        "  if len(lst) == len(set(lst)):\n",
        "    uniques.append(int(''.join(lst)))\n",
        "  for digit in lst:\n",
        "    if digit in dictionary:\n",
        "      dictionary[digit] += 1\n",
        "\n",
        "print(dictionary)\n",
        "print(uniques)"
      ],
      "id": "81214565",
      "execution_count": null,
      "outputs": [
        {
          "output_type": "stream",
          "name": "stdout",
          "text": [
            "{'0': 10, '1': 20, '2': 20, '3': 20, '4': 20, '5': 20, '6': 20, '7': 20, '8': 20, '9': 20}\n",
            "[0, 1, 2, 3, 4, 5, 6, 7, 8, 9, 10, 12, 13, 14, 15, 16, 17, 18, 19, 20, 21, 23, 24, 25, 26, 27, 28, 29, 30, 31, 32, 34, 35, 36, 37, 38, 39, 40, 41, 42, 43, 45, 46, 47, 48, 49, 50, 51, 52, 53, 54, 56, 57, 58, 59, 60, 61, 62, 63, 64, 65, 67, 68, 69, 70, 71, 72, 73, 74, 75, 76, 78, 79, 80, 81, 82, 83, 84, 85, 86, 87, 89, 90, 91, 92, 93, 94, 95, 96, 97, 98]\n"
          ]
        }
      ]
    },
    {
      "cell_type": "markdown",
      "metadata": {
        "id": "d131dd2f"
      },
      "source": [
        "## Control Flow\n",
        "Los ejercícios de la sección 2 acompañan la lección `Control Flow` de el prework. Aplicaremos los conceptos de la sección anterior y praticaremos la organización de datos y procesos."
      ],
      "id": "d131dd2f"
    },
    {
      "cell_type": "markdown",
      "metadata": {
        "id": "befd4432"
      },
      "source": [
        "### Guided example\n",
        "Encontrar el mayor numero palíndromo en una lista de 1000 numeros aleatórios entre 10 y 10000."
      ],
      "id": "befd4432"
    },
    {
      "cell_type": "code",
      "metadata": {
        "id": "8525faf4"
      },
      "source": [
        "import numpy as np\n",
        "# Generamos una lista de numeros aleatorios\n",
        "nums = np.random.randint(10,10_000, 1_000)"
      ],
      "id": "8525faf4",
      "execution_count": null,
      "outputs": []
    },
    {
      "cell_type": "markdown",
      "metadata": {
        "id": "dd76f15e"
      },
      "source": [
        "- Abordaje 1\n",
        "\n",
        "Separar los palíndromos primero y buscar el mayor dentre ellos"
      ],
      "id": "dd76f15e"
    },
    {
      "cell_type": "code",
      "metadata": {
        "id": "74f485f2",
        "colab": {
          "base_uri": "https://localhost:8080/"
        },
        "outputId": "69fbb201-830f-46da-9329-53acdf7686ac"
      },
      "source": [
        "%%timeit -n 1000 # Esta linea haz con que jupyter calcule el tiempo medio de ejecución de esa celda en mil repeticiones\n",
        "\n",
        "palindromes = []\n",
        "for num in nums:\n",
        "    num = str(num)\n",
        "    if num == num[::-1]:\n",
        "        palindromes.append(int(num))\n",
        "        \n",
        "max_palindrome = max(palindromes)"
      ],
      "id": "74f485f2",
      "execution_count": null,
      "outputs": [
        {
          "output_type": "stream",
          "name": "stdout",
          "text": [
            "1000 loops, best of 5: 906 µs per loop\n"
          ]
        }
      ]
    },
    {
      "cell_type": "markdown",
      "metadata": {
        "id": "acd72c55"
      },
      "source": [
        "- Abordaje 2\n",
        "\n",
        "Ordenar primero todos los numeros del mayor al menor, despues buscar los palíndromos y parar cuando encontremos uno."
      ],
      "id": "acd72c55"
    },
    {
      "cell_type": "code",
      "metadata": {
        "id": "075d273f",
        "colab": {
          "base_uri": "https://localhost:8080/"
        },
        "outputId": "ae34d4c8-a3d4-4f17-9eb3-fe7630b45867"
      },
      "source": [
        "%%timeit -n 1000 # Esta linea haz con que jupyter calcule el tiempo medio de ejecución de esa celda en mil repeticiones\n",
        "\n",
        "nums_sorted = sorted(nums, reverse=True)\n",
        "\n",
        "for num in nums:\n",
        "    num = str(num)\n",
        "    if num == num[::-1]:\n",
        "        max_palindrome = num\n",
        "        break"
      ],
      "id": "075d273f",
      "execution_count": null,
      "outputs": [
        {
          "output_type": "stream",
          "name": "stdout",
          "text": [
            "1000 loops, best of 5: 398 µs per loop\n"
          ]
        }
      ]
    },
    {
      "cell_type": "markdown",
      "metadata": {
        "id": "6a7e9921"
      },
      "source": [
        "Utilizando de las herramientas de control y organización de los datos, resuelva los siguientes ejercícios:"
      ],
      "id": "6a7e9921"
    },
    {
      "cell_type": "markdown",
      "metadata": {
        "id": "e23eae76"
      },
      "source": [
        "### Simple calculator\n",
        "En ese ejercício debes escribir un programa que funcione como una calculadora. Los valores `a` y `b` deben ser numeros enteros y `operation` debe ser uno de los caracteres `'+', '-', '*', '/'`.\n",
        "Despues que el usuario escribir los 3 argumentos, la calculadora debe imprimir el resultado de la operación. \n",
        "\n",
        "**TIP:** La función `input` siempre devuelve como resultado un `str`, tendrás que hacer casting al tipo correcto."
      ],
      "id": "e23eae76"
    },
    {
      "cell_type": "code",
      "metadata": {
        "id": "11aaee4a",
        "colab": {
          "base_uri": "https://localhost:8080/",
          "height": 712
        },
        "outputId": "1a739b79-e694-47a2-ded4-9583dd52dcc6"
      },
      "source": [
        "a = int(input(\"Type in first number: \"))\n",
        "operation = input(\"What is the desired operation? \")\n",
        "b = int(input(\"Type in the second number: \"))\n",
        "\n",
        "def calculator(a, operation, b):\n",
        "  if operation == '+':\n",
        "    return a+b\n",
        "  elif operation == '-':\n",
        "    return a-b\n",
        "  elif operation == '*':\n",
        "    return a*b\n",
        "  elif operation == '/':\n",
        "    return a/b\n",
        "\n",
        "calculator(a, operation, b)"
      ],
      "id": "11aaee4a",
      "execution_count": null,
      "outputs": [
        {
          "name": "stdout",
          "output_type": "stream",
          "text": [
            "Type in first number: 2\n",
            "What is the desired operation? +\n",
            "Type in the second number: 2\n",
            "Type in first number: 2\n",
            "What is the desired operation? +\n",
            "Type in the second number: 2\n"
          ]
        },
        {
          "output_type": "error",
          "ename": "KeyboardInterrupt",
          "evalue": "ignored",
          "traceback": [
            "\u001b[0;31m---------------------------------------------------------------------------\u001b[0m",
            "\u001b[0;31mKeyboardInterrupt\u001b[0m                         Traceback (most recent call last)",
            "\u001b[0;32m/usr/local/lib/python3.7/dist-packages/ipykernel/kernelbase.py\u001b[0m in \u001b[0;36m_input_request\u001b[0;34m(self, prompt, ident, parent, password)\u001b[0m\n\u001b[1;32m    728\u001b[0m             \u001b[0;32mtry\u001b[0m\u001b[0;34m:\u001b[0m\u001b[0;34m\u001b[0m\u001b[0;34m\u001b[0m\u001b[0m\n\u001b[0;32m--> 729\u001b[0;31m                 \u001b[0mident\u001b[0m\u001b[0;34m,\u001b[0m \u001b[0mreply\u001b[0m \u001b[0;34m=\u001b[0m \u001b[0mself\u001b[0m\u001b[0;34m.\u001b[0m\u001b[0msession\u001b[0m\u001b[0;34m.\u001b[0m\u001b[0mrecv\u001b[0m\u001b[0;34m(\u001b[0m\u001b[0mself\u001b[0m\u001b[0;34m.\u001b[0m\u001b[0mstdin_socket\u001b[0m\u001b[0;34m,\u001b[0m \u001b[0;36m0\u001b[0m\u001b[0;34m)\u001b[0m\u001b[0;34m\u001b[0m\u001b[0;34m\u001b[0m\u001b[0m\n\u001b[0m\u001b[1;32m    730\u001b[0m             \u001b[0;32mexcept\u001b[0m \u001b[0mException\u001b[0m\u001b[0;34m:\u001b[0m\u001b[0;34m\u001b[0m\u001b[0;34m\u001b[0m\u001b[0m\n",
            "\u001b[0;32m/usr/local/lib/python3.7/dist-packages/jupyter_client/session.py\u001b[0m in \u001b[0;36mrecv\u001b[0;34m(self, socket, mode, content, copy)\u001b[0m\n\u001b[1;32m    802\u001b[0m         \u001b[0;32mtry\u001b[0m\u001b[0;34m:\u001b[0m\u001b[0;34m\u001b[0m\u001b[0;34m\u001b[0m\u001b[0m\n\u001b[0;32m--> 803\u001b[0;31m             \u001b[0mmsg_list\u001b[0m \u001b[0;34m=\u001b[0m \u001b[0msocket\u001b[0m\u001b[0;34m.\u001b[0m\u001b[0mrecv_multipart\u001b[0m\u001b[0;34m(\u001b[0m\u001b[0mmode\u001b[0m\u001b[0;34m,\u001b[0m \u001b[0mcopy\u001b[0m\u001b[0;34m=\u001b[0m\u001b[0mcopy\u001b[0m\u001b[0;34m)\u001b[0m\u001b[0;34m\u001b[0m\u001b[0;34m\u001b[0m\u001b[0m\n\u001b[0m\u001b[1;32m    804\u001b[0m         \u001b[0;32mexcept\u001b[0m \u001b[0mzmq\u001b[0m\u001b[0;34m.\u001b[0m\u001b[0mZMQError\u001b[0m \u001b[0;32mas\u001b[0m \u001b[0me\u001b[0m\u001b[0;34m:\u001b[0m\u001b[0;34m\u001b[0m\u001b[0;34m\u001b[0m\u001b[0m\n",
            "\u001b[0;32m/usr/local/lib/python3.7/dist-packages/zmq/sugar/socket.py\u001b[0m in \u001b[0;36mrecv_multipart\u001b[0;34m(self, flags, copy, track)\u001b[0m\n\u001b[1;32m    624\u001b[0m         \"\"\"\n\u001b[0;32m--> 625\u001b[0;31m         \u001b[0mparts\u001b[0m \u001b[0;34m=\u001b[0m \u001b[0;34m[\u001b[0m\u001b[0mself\u001b[0m\u001b[0;34m.\u001b[0m\u001b[0mrecv\u001b[0m\u001b[0;34m(\u001b[0m\u001b[0mflags\u001b[0m\u001b[0;34m,\u001b[0m \u001b[0mcopy\u001b[0m\u001b[0;34m=\u001b[0m\u001b[0mcopy\u001b[0m\u001b[0;34m,\u001b[0m \u001b[0mtrack\u001b[0m\u001b[0;34m=\u001b[0m\u001b[0mtrack\u001b[0m\u001b[0;34m)\u001b[0m\u001b[0;34m]\u001b[0m\u001b[0;34m\u001b[0m\u001b[0;34m\u001b[0m\u001b[0m\n\u001b[0m\u001b[1;32m    626\u001b[0m         \u001b[0;31m# have first part already, only loop while more to receive\u001b[0m\u001b[0;34m\u001b[0m\u001b[0;34m\u001b[0m\u001b[0;34m\u001b[0m\u001b[0m\n",
            "\u001b[0;32mzmq/backend/cython/socket.pyx\u001b[0m in \u001b[0;36mzmq.backend.cython.socket.Socket.recv\u001b[0;34m()\u001b[0m\n",
            "\u001b[0;32mzmq/backend/cython/socket.pyx\u001b[0m in \u001b[0;36mzmq.backend.cython.socket.Socket.recv\u001b[0;34m()\u001b[0m\n",
            "\u001b[0;32mzmq/backend/cython/socket.pyx\u001b[0m in \u001b[0;36mzmq.backend.cython.socket._recv_copy\u001b[0;34m()\u001b[0m\n",
            "\u001b[0;32m/usr/local/lib/python3.7/dist-packages/zmq/backend/cython/checkrc.pxd\u001b[0m in \u001b[0;36mzmq.backend.cython.checkrc._check_rc\u001b[0;34m()\u001b[0m\n",
            "\u001b[0;31mKeyboardInterrupt\u001b[0m: ",
            "\nDuring handling of the above exception, another exception occurred:\n",
            "\u001b[0;31mKeyboardInterrupt\u001b[0m                         Traceback (most recent call last)",
            "\u001b[0;32m<ipython-input-166-bbcab92d4ae5>\u001b[0m in \u001b[0;36m<module>\u001b[0;34m()\u001b[0m\n\u001b[0;32m----> 1\u001b[0;31m \u001b[0mget_ipython\u001b[0m\u001b[0;34m(\u001b[0m\u001b[0;34m)\u001b[0m\u001b[0;34m.\u001b[0m\u001b[0mrun_cell_magic\u001b[0m\u001b[0;34m(\u001b[0m\u001b[0;34m'timeit'\u001b[0m\u001b[0;34m,\u001b[0m \u001b[0;34m'-n 1000 # Esta linea haz con que jupyter calcule el tiempo medio de ejecución de esa celda en mil repeticiones'\u001b[0m\u001b[0;34m,\u001b[0m \u001b[0;34m'\\na = int(input(\"Type in first number: \"))\\noperation = input(\"What is the desired operation? \")\\nb = int(input(\"Type in the second number: \"))\\n\\ndef calculator(a, operation, b):\\n  if operation == \\'+\\':\\n    return a+b\\n  elif operation == \\'-\\':\\n    return a-b\\n  elif operation == \\'*\\':\\n    return a*b\\n  elif operation == \\'/\\':\\n    return a/b\\n\\ncalculator(a, operation, b)'\u001b[0m\u001b[0;34m)\u001b[0m\u001b[0;34m\u001b[0m\u001b[0;34m\u001b[0m\u001b[0m\n\u001b[0m",
            "\u001b[0;32m/usr/local/lib/python3.7/dist-packages/IPython/core/interactiveshell.py\u001b[0m in \u001b[0;36mrun_cell_magic\u001b[0;34m(self, magic_name, line, cell)\u001b[0m\n\u001b[1;32m   2115\u001b[0m             \u001b[0mmagic_arg_s\u001b[0m \u001b[0;34m=\u001b[0m \u001b[0mself\u001b[0m\u001b[0;34m.\u001b[0m\u001b[0mvar_expand\u001b[0m\u001b[0;34m(\u001b[0m\u001b[0mline\u001b[0m\u001b[0;34m,\u001b[0m \u001b[0mstack_depth\u001b[0m\u001b[0;34m)\u001b[0m\u001b[0;34m\u001b[0m\u001b[0;34m\u001b[0m\u001b[0m\n\u001b[1;32m   2116\u001b[0m             \u001b[0;32mwith\u001b[0m \u001b[0mself\u001b[0m\u001b[0;34m.\u001b[0m\u001b[0mbuiltin_trap\u001b[0m\u001b[0;34m:\u001b[0m\u001b[0;34m\u001b[0m\u001b[0;34m\u001b[0m\u001b[0m\n\u001b[0;32m-> 2117\u001b[0;31m                 \u001b[0mresult\u001b[0m \u001b[0;34m=\u001b[0m \u001b[0mfn\u001b[0m\u001b[0;34m(\u001b[0m\u001b[0mmagic_arg_s\u001b[0m\u001b[0;34m,\u001b[0m \u001b[0mcell\u001b[0m\u001b[0;34m)\u001b[0m\u001b[0;34m\u001b[0m\u001b[0;34m\u001b[0m\u001b[0m\n\u001b[0m\u001b[1;32m   2118\u001b[0m             \u001b[0;32mreturn\u001b[0m \u001b[0mresult\u001b[0m\u001b[0;34m\u001b[0m\u001b[0;34m\u001b[0m\u001b[0m\n\u001b[1;32m   2119\u001b[0m \u001b[0;34m\u001b[0m\u001b[0m\n",
            "\u001b[0;32m<decorator-gen-52>\u001b[0m in \u001b[0;36mtimeit\u001b[0;34m(self, line, cell)\u001b[0m\n",
            "\u001b[0;32m/usr/local/lib/python3.7/dist-packages/IPython/core/magic.py\u001b[0m in \u001b[0;36m<lambda>\u001b[0;34m(f, *a, **k)\u001b[0m\n\u001b[1;32m    186\u001b[0m     \u001b[0;31m# but it's overkill for just that one bit of state.\u001b[0m\u001b[0;34m\u001b[0m\u001b[0;34m\u001b[0m\u001b[0;34m\u001b[0m\u001b[0m\n\u001b[1;32m    187\u001b[0m     \u001b[0;32mdef\u001b[0m \u001b[0mmagic_deco\u001b[0m\u001b[0;34m(\u001b[0m\u001b[0marg\u001b[0m\u001b[0;34m)\u001b[0m\u001b[0;34m:\u001b[0m\u001b[0;34m\u001b[0m\u001b[0;34m\u001b[0m\u001b[0m\n\u001b[0;32m--> 188\u001b[0;31m         \u001b[0mcall\u001b[0m \u001b[0;34m=\u001b[0m \u001b[0;32mlambda\u001b[0m \u001b[0mf\u001b[0m\u001b[0;34m,\u001b[0m \u001b[0;34m*\u001b[0m\u001b[0ma\u001b[0m\u001b[0;34m,\u001b[0m \u001b[0;34m**\u001b[0m\u001b[0mk\u001b[0m\u001b[0;34m:\u001b[0m \u001b[0mf\u001b[0m\u001b[0;34m(\u001b[0m\u001b[0;34m*\u001b[0m\u001b[0ma\u001b[0m\u001b[0;34m,\u001b[0m \u001b[0;34m**\u001b[0m\u001b[0mk\u001b[0m\u001b[0;34m)\u001b[0m\u001b[0;34m\u001b[0m\u001b[0;34m\u001b[0m\u001b[0m\n\u001b[0m\u001b[1;32m    189\u001b[0m \u001b[0;34m\u001b[0m\u001b[0m\n\u001b[1;32m    190\u001b[0m         \u001b[0;32mif\u001b[0m \u001b[0mcallable\u001b[0m\u001b[0;34m(\u001b[0m\u001b[0marg\u001b[0m\u001b[0;34m)\u001b[0m\u001b[0;34m:\u001b[0m\u001b[0;34m\u001b[0m\u001b[0;34m\u001b[0m\u001b[0m\n",
            "\u001b[0;32m/usr/local/lib/python3.7/dist-packages/IPython/core/magics/execution.py\u001b[0m in \u001b[0;36mtimeit\u001b[0;34m(self, line, cell)\u001b[0m\n\u001b[1;32m   1060\u001b[0m                     \u001b[0;32mbreak\u001b[0m\u001b[0;34m\u001b[0m\u001b[0;34m\u001b[0m\u001b[0m\n\u001b[1;32m   1061\u001b[0m                 \u001b[0mnumber\u001b[0m \u001b[0;34m*=\u001b[0m \u001b[0;36m10\u001b[0m\u001b[0;34m\u001b[0m\u001b[0;34m\u001b[0m\u001b[0m\n\u001b[0;32m-> 1062\u001b[0;31m         \u001b[0mall_runs\u001b[0m \u001b[0;34m=\u001b[0m \u001b[0mtimer\u001b[0m\u001b[0;34m.\u001b[0m\u001b[0mrepeat\u001b[0m\u001b[0;34m(\u001b[0m\u001b[0mrepeat\u001b[0m\u001b[0;34m,\u001b[0m \u001b[0mnumber\u001b[0m\u001b[0;34m)\u001b[0m\u001b[0;34m\u001b[0m\u001b[0;34m\u001b[0m\u001b[0m\n\u001b[0m\u001b[1;32m   1063\u001b[0m         \u001b[0mbest\u001b[0m \u001b[0;34m=\u001b[0m \u001b[0mmin\u001b[0m\u001b[0;34m(\u001b[0m\u001b[0mall_runs\u001b[0m\u001b[0;34m)\u001b[0m \u001b[0;34m/\u001b[0m \u001b[0mnumber\u001b[0m\u001b[0;34m\u001b[0m\u001b[0;34m\u001b[0m\u001b[0m\n\u001b[1;32m   1064\u001b[0m \u001b[0;34m\u001b[0m\u001b[0m\n",
            "\u001b[0;32m/usr/lib/python3.7/timeit.py\u001b[0m in \u001b[0;36mrepeat\u001b[0;34m(self, repeat, number)\u001b[0m\n\u001b[1;32m    203\u001b[0m         \u001b[0mr\u001b[0m \u001b[0;34m=\u001b[0m \u001b[0;34m[\u001b[0m\u001b[0;34m]\u001b[0m\u001b[0;34m\u001b[0m\u001b[0;34m\u001b[0m\u001b[0m\n\u001b[1;32m    204\u001b[0m         \u001b[0;32mfor\u001b[0m \u001b[0mi\u001b[0m \u001b[0;32min\u001b[0m \u001b[0mrange\u001b[0m\u001b[0;34m(\u001b[0m\u001b[0mrepeat\u001b[0m\u001b[0;34m)\u001b[0m\u001b[0;34m:\u001b[0m\u001b[0;34m\u001b[0m\u001b[0;34m\u001b[0m\u001b[0m\n\u001b[0;32m--> 205\u001b[0;31m             \u001b[0mt\u001b[0m \u001b[0;34m=\u001b[0m \u001b[0mself\u001b[0m\u001b[0;34m.\u001b[0m\u001b[0mtimeit\u001b[0m\u001b[0;34m(\u001b[0m\u001b[0mnumber\u001b[0m\u001b[0;34m)\u001b[0m\u001b[0;34m\u001b[0m\u001b[0;34m\u001b[0m\u001b[0m\n\u001b[0m\u001b[1;32m    206\u001b[0m             \u001b[0mr\u001b[0m\u001b[0;34m.\u001b[0m\u001b[0mappend\u001b[0m\u001b[0;34m(\u001b[0m\u001b[0mt\u001b[0m\u001b[0;34m)\u001b[0m\u001b[0;34m\u001b[0m\u001b[0;34m\u001b[0m\u001b[0m\n\u001b[1;32m    207\u001b[0m         \u001b[0;32mreturn\u001b[0m \u001b[0mr\u001b[0m\u001b[0;34m\u001b[0m\u001b[0;34m\u001b[0m\u001b[0m\n",
            "\u001b[0;32m/usr/local/lib/python3.7/dist-packages/IPython/core/magics/execution.py\u001b[0m in \u001b[0;36mtimeit\u001b[0;34m(self, number)\u001b[0m\n\u001b[1;32m    137\u001b[0m         \u001b[0mgc\u001b[0m\u001b[0;34m.\u001b[0m\u001b[0mdisable\u001b[0m\u001b[0;34m(\u001b[0m\u001b[0;34m)\u001b[0m\u001b[0;34m\u001b[0m\u001b[0;34m\u001b[0m\u001b[0m\n\u001b[1;32m    138\u001b[0m         \u001b[0;32mtry\u001b[0m\u001b[0;34m:\u001b[0m\u001b[0;34m\u001b[0m\u001b[0;34m\u001b[0m\u001b[0m\n\u001b[0;32m--> 139\u001b[0;31m             \u001b[0mtiming\u001b[0m \u001b[0;34m=\u001b[0m \u001b[0mself\u001b[0m\u001b[0;34m.\u001b[0m\u001b[0minner\u001b[0m\u001b[0;34m(\u001b[0m\u001b[0mit\u001b[0m\u001b[0;34m,\u001b[0m \u001b[0mself\u001b[0m\u001b[0;34m.\u001b[0m\u001b[0mtimer\u001b[0m\u001b[0;34m)\u001b[0m\u001b[0;34m\u001b[0m\u001b[0;34m\u001b[0m\u001b[0m\n\u001b[0m\u001b[1;32m    140\u001b[0m         \u001b[0;32mfinally\u001b[0m\u001b[0;34m:\u001b[0m\u001b[0;34m\u001b[0m\u001b[0;34m\u001b[0m\u001b[0m\n\u001b[1;32m    141\u001b[0m             \u001b[0;32mif\u001b[0m \u001b[0mgcold\u001b[0m\u001b[0;34m:\u001b[0m\u001b[0;34m\u001b[0m\u001b[0;34m\u001b[0m\u001b[0m\n",
            "\u001b[0;32m<magic-timeit>\u001b[0m in \u001b[0;36minner\u001b[0;34m(_it, _timer)\u001b[0m\n",
            "\u001b[0;32m/usr/local/lib/python3.7/dist-packages/ipykernel/kernelbase.py\u001b[0m in \u001b[0;36mraw_input\u001b[0;34m(self, prompt)\u001b[0m\n\u001b[1;32m    702\u001b[0m             \u001b[0mself\u001b[0m\u001b[0;34m.\u001b[0m\u001b[0m_parent_ident\u001b[0m\u001b[0;34m,\u001b[0m\u001b[0;34m\u001b[0m\u001b[0;34m\u001b[0m\u001b[0m\n\u001b[1;32m    703\u001b[0m             \u001b[0mself\u001b[0m\u001b[0;34m.\u001b[0m\u001b[0m_parent_header\u001b[0m\u001b[0;34m,\u001b[0m\u001b[0;34m\u001b[0m\u001b[0;34m\u001b[0m\u001b[0m\n\u001b[0;32m--> 704\u001b[0;31m             \u001b[0mpassword\u001b[0m\u001b[0;34m=\u001b[0m\u001b[0;32mFalse\u001b[0m\u001b[0;34m,\u001b[0m\u001b[0;34m\u001b[0m\u001b[0;34m\u001b[0m\u001b[0m\n\u001b[0m\u001b[1;32m    705\u001b[0m         )\n\u001b[1;32m    706\u001b[0m \u001b[0;34m\u001b[0m\u001b[0m\n",
            "\u001b[0;32m/usr/local/lib/python3.7/dist-packages/ipykernel/kernelbase.py\u001b[0m in \u001b[0;36m_input_request\u001b[0;34m(self, prompt, ident, parent, password)\u001b[0m\n\u001b[1;32m    732\u001b[0m             \u001b[0;32mexcept\u001b[0m \u001b[0mKeyboardInterrupt\u001b[0m\u001b[0;34m:\u001b[0m\u001b[0;34m\u001b[0m\u001b[0;34m\u001b[0m\u001b[0m\n\u001b[1;32m    733\u001b[0m                 \u001b[0;31m# re-raise KeyboardInterrupt, to truncate traceback\u001b[0m\u001b[0;34m\u001b[0m\u001b[0;34m\u001b[0m\u001b[0;34m\u001b[0m\u001b[0m\n\u001b[0;32m--> 734\u001b[0;31m                 \u001b[0;32mraise\u001b[0m \u001b[0mKeyboardInterrupt\u001b[0m\u001b[0;34m\u001b[0m\u001b[0;34m\u001b[0m\u001b[0m\n\u001b[0m\u001b[1;32m    735\u001b[0m             \u001b[0;32melse\u001b[0m\u001b[0;34m:\u001b[0m\u001b[0;34m\u001b[0m\u001b[0;34m\u001b[0m\u001b[0m\n\u001b[1;32m    736\u001b[0m                 \u001b[0;32mbreak\u001b[0m\u001b[0;34m\u001b[0m\u001b[0;34m\u001b[0m\u001b[0m\n",
            "\u001b[0;31mKeyboardInterrupt\u001b[0m: "
          ]
        }
      ]
    },
    {
      "cell_type": "markdown",
      "metadata": {
        "id": "1009cdc3"
      },
      "source": [
        "### Dog Registry\n",
        "Un amigo que es cuidador de perros ha apuntado datos sobre los perros que cuida. Como se enteró de que estás haciendo un bootcamp de Data, él te ha pedido ayuda para sacar algunas informaciones de esos datos:\n",
        "- ¿Quien es el dueño al cual cuida los perros más días en la semana?\n",
        "- ¿Cual es el día de la semana en que cuida de más perros?\n",
        "- ¿Quien es el dueño que tiene más perros?\n",
        "\n",
        "**Bonus:** ¿Harías algún cambio a la manera como estan organizados los datos?"
      ],
      "id": "1009cdc3"
    },
    {
      "cell_type": "code",
      "metadata": {
        "id": "1ce8cef9",
        "colab": {
          "base_uri": "https://localhost:8080/"
        },
        "outputId": "be015178-398a-4674-c85a-a44e2824cbca"
      },
      "source": [
        "data = [('Oreo', 'Liam', 'Thursday'),\n",
        "        ('Chippy', 'Olivia', 'Tuesday'),\n",
        "        ('Luna', 'Olivia', 'Friday'),\n",
        "        ('Cujo', 'Noah', 'Friday'),\n",
        "        ('Cooper', 'Emma', 'Friday'),\n",
        "        ('Rex', 'Emma', 'Friday'),\n",
        "        ('Daisy', 'Emma', 'Friday'),\n",
        "        ('Molly', 'Oliver', 'Thursday'),\n",
        "        ('Buddy', 'Oliver', 'Tuesday'),\n",
        "        ('Tucker', 'Ava', 'Monday'),\n",
        "        ('Bentley', 'Elijah', 'Monday'),\n",
        "        ('Riley', 'Charlotte', 'Monday'),\n",
        "        ('Bear', 'William', 'Wednesday'),\n",
        "        ('Duke', 'Sophia', 'Tuesday'),\n",
        "        ('Jax', 'James', 'Sunday'),\n",
        "        ('Rocky', 'Amelia', 'Thursday'),\n",
        "        ('Lily', 'Benjamin', 'Saturday'),\n",
        "        ('Milo', 'Isabella', 'Sunday'),\n",
        "        ('Piper', 'Lucas', 'Monday'),\n",
        "        ('Toby', 'Lucas', 'Monday'),\n",
        "        ('Zeus', 'Lucas', 'Monday'),\n",
        "        ('Ellie', 'Mia', 'Friday'),\n",
        "        ('Nala', 'Mia', 'Wednesday'),\n",
        "        ('Roxy', 'Mia', 'Monday'),\n",
        "        ('Winston', 'Mia', 'Tuesday'),\n",
        "        ('Gracie', 'Henry', 'Wednesday'),\n",
        "        ('Coco', 'Evelyn', 'Monday'),\n",
        "        ('Murphy', 'Alexander', 'Sunday'),\n",
        "        ('Dexter', 'Harper', 'Monday')]\n",
        "\n",
        "max_day=max(set([item[2] for item in data]), key=[item[2] for item in data].count)\n",
        "max_owner=max(set([item[1] for item in data]), key=[item[1] for item in data].count)\n",
        "\n",
        "print(f'His busier day: {max_day}')\n",
        "print(f'The most happy owner: {max_owner}')\n",
        "print(f'The owner who gives him more happiness is {max_owner}')\n",
        "\n",
        "# I'd don't change the data structure in any way, but improve my skills to be able\n",
        "# to manage it in an easier way.\n",
        "\n",
        "# But if it's about how data is organized strictly speaking, I'd put owners in the\n",
        "# first row"
      ],
      "id": "1ce8cef9",
      "execution_count": null,
      "outputs": [
        {
          "output_type": "stream",
          "name": "stdout",
          "text": [
            "His busier day: Monday\n",
            "The most happy owner: Mia\n",
            "The owner who gives him more happiness is Mia\n"
          ]
        }
      ]
    },
    {
      "cell_type": "markdown",
      "metadata": {
        "id": "eaaaac50"
      },
      "source": [
        "### Largest Prime\n",
        "\n",
        "Escribe un programa en que dado un valor `n`, encuentre el mayor numero primo menor que `n`.\n",
        "\n",
        "**TIP:** Un numero primo es el que no es divisible por ningun valor salvo 1 y si mismo."
      ],
      "id": "eaaaac50"
    },
    {
      "cell_type": "code",
      "metadata": {
        "id": "71e67a4e",
        "colab": {
          "base_uri": "https://localhost:8080/"
        },
        "outputId": "e4da80d4-1315-40ae-f7f4-492ab1698c7c"
      },
      "source": [
        "n = int(input(\"Input maximum value: \"))\n",
        "\n",
        "prime = False\n",
        "for number in reversed(range(n)):\n",
        "  if prime:\n",
        "    break\n",
        "  else:\n",
        "    for i in range(2, number-1):\n",
        "      if number % i == 0:\n",
        "        break\n",
        "      else:\n",
        "        prime = True\n",
        "        print(number)\n",
        "        break\n",
        "        \n"
      ],
      "id": "71e67a4e",
      "execution_count": null,
      "outputs": [
        {
          "output_type": "stream",
          "name": "stdout",
          "text": [
            "Input maximum value: 9\n",
            "Inner 7\n"
          ]
        }
      ]
    },
    {
      "cell_type": "code",
      "metadata": {
        "id": "aJcsYn7bHag_"
      },
      "source": [
        ""
      ],
      "id": "aJcsYn7bHag_",
      "execution_count": null,
      "outputs": []
    }
  ]
}