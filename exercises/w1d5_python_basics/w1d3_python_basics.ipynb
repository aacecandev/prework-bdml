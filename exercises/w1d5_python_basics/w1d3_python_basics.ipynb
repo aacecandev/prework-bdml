{
 "cells": [
  {
   "cell_type": "markdown",
   "id": "df56f0f5",
   "metadata": {},
   "source": [
    "<img src=\"https://api.brandy.run/core/logo\" width=\"80\"/>\n",
    "\n",
    "# CORE Code School\n",
    "\n",
    "# Python Basics: Exercises"
   ]
  },
  {
   "cell_type": "markdown",
   "id": "384bc9b5",
   "metadata": {},
   "source": [
    "## Binomial Nomenclature\n",
    "\n",
    "Una alumna biologa  del bootcamp de Big Data y Machine Learning en Core, entusiasmada por aprender python, decidió estudiar las diferentes espécies de pítones. Desgraciadamente, la lista abajo que pudo encontrar con el nombre de esas especies esta un caos y le molesta mucho que no se sigan las reglas de [Nomenclatura Binomial](https://en.wikipedia.org/wiki/Binomial_nomenclature) definidas por Carlos Linneo.\n",
    "\n",
    "Decidimos ayudarle y arreglar el nombre de todas las espécies, debemos deguir las siguientes reglas:\n",
    "- Las 2 palabras deben estar separadas por un espacio\n",
    "- La primera palabra debe empezar con letra mayúscula\n",
    "- La segunda palabra debe empezar con letra minúscula"
   ]
  },
  {
   "cell_type": "code",
   "execution_count": null,
   "id": "8ad16c66",
   "metadata": {},
   "outputs": [],
   "source": [
    "snakes = ['ANTaREsIa_cHildREni', 'AnTArESIa_mAcUlOsA', 'aNtaREsIA_PErThENsIs', 'aNTAresIa_stiMsonI', \n",
    "          'aPoDOra paPuANA', 'asPIDItES mElANOcEPhalUs', 'asPiDiTes rAmSaYi', 'bOTHrOcHiLus AlBerTISiI', \n",
    "          'BOThROchiLUs BOA', 'bOtHROchIluS_biaKeNSIS', 'BOthrOcHilUs fREdParKerI', 'bOtHrOchILUS_hUoNensIS', \n",
    "          'BothRochilUS MeRiDiONALIS', 'bOtHrochilus_monTANus', 'LiAsiS fusCUS', 'lIASis_mAcKloTi', \n",
    "          'LIasis oliVaCeUS', 'maLAYOPythOn_RETicULAtuS', 'MOreLIa_BOelEni', 'MOrELia_BREDLi', \n",
    "          'moRelIA_cariNATA', 'MoreLIA sPIlotA', 'morelIA_ViRiDIs', 'PythoN AnChIeTAe', 'pyTHON bIViTTaTuS', \n",
    "          'PytHoN_BrEiTENsTEiNi', 'PYTHon BRONGeRSmai', 'PYThOn_cUrtuS', 'pYthoN_KYaIktIYO', 'PytHon MOLUrus', \n",
    "          'PytHON_REGIUS', 'PyThon_SEbAe', 'PythoN_sebAE_sebAE', 'simalIa aMEThistina', 'sIMAlia_CLastOlEPis', \n",
    "          'sImALiA_KinghorNi', 'SIMalia nAUTa', 'simalIa OEnPELliensiS', 'siMALia trAcYAe']"
   ]
  },
  {
   "cell_type": "code",
   "execution_count": null,
   "id": "76f1103f",
   "metadata": {},
   "outputs": [],
   "source": [
    "# Tu codigo"
   ]
  },
  {
   "cell_type": "markdown",
   "id": "ce555a69",
   "metadata": {},
   "source": [
    "## Number Pyramid\n",
    "Mi primo que es profe de primária escuchó que eres un crack en python con bucles y manipulación de strings. Él pidió tu ayuda para reproducir una piramide de numeros para sus alumnos. Ese es el patron que debes seguir:\n",
    "\n",
    "![Number Pyramid](img/pyramid.png)"
   ]
  },
  {
   "cell_type": "code",
   "execution_count": null,
   "id": "766e4f23",
   "metadata": {},
   "outputs": [],
   "source": [
    "n=20\n",
    "# Tu codigo"
   ]
  },
  {
   "cell_type": "markdown",
   "id": "87dcb31c",
   "metadata": {},
   "source": [
    "## Antropometry\n",
    "Un grupo de estadísticos está estudiando diferentes características del cuerpo humano. Han recogido los datos a seguir en Madrid y ahora necesitan saber si hay alguna relación entre esas diferentes características. Cada persona está identificada por un numero `id`. \n",
    "\n",
    "Los datos estan organizados como una lista de diccionários, hay 10 mil personas, cada cual representada por un diccionário con las siguientes keys y posibles valores: \n",
    "```\n",
    "\"id\": int\n",
    "\"height\": float\n",
    "\"weight\": float\n",
    "\"age\": int\n",
    "\"eye_color\": [\"blue\",\"green\",\"brown\"],\n",
    "\"hair_color\": [\"brown\",\"black\",\"blond\",\"red\",\"other\"]\n",
    "```"
   ]
  },
  {
   "cell_type": "code",
   "execution_count": null,
   "id": "1fc7315b",
   "metadata": {},
   "outputs": [],
   "source": [
    "# Ejecuta esta celda para cargar los datos y ver ejemplos\n",
    "import json\n",
    "with open(\"data/people.json\",\"r\") as file:\n",
    "    data = json.loads(file.read())\n",
    "data[14:18]"
   ]
  },
  {
   "cell_type": "markdown",
   "id": "e8ea70c2",
   "metadata": {},
   "source": [
    "Los científicos quieren separar los `id` de las personas de los siguientes grupos:\n",
    "\n",
    "- Personas con `más de 1.75 de altura, ojos marrones, pelo rubio y edad entre 30 y 50`\n",
    "- Personas con `ojos verdes o azules y pelo rubio` y personas `con menos de 20 años y menos de 60 kg`\n",
    "- Personas con `pelo color 'other' y más de 45 años`, personas `con ojos marrones y más de 1.80` excluyendo las personas `con más de 100 kg`\n",
    "- Personas que no pertenencen a ninguno de los grupos anteriores\n",
    "\n",
    "\n",
    "`HINT: Utiliza las propriedades de los sets`"
   ]
  },
  {
   "cell_type": "code",
   "execution_count": null,
   "id": "8d4e3e3f",
   "metadata": {},
   "outputs": [],
   "source": [
    "# Tu codigo"
   ]
  },
  {
   "cell_type": "markdown",
   "id": "8152a792",
   "metadata": {},
   "source": [
    "## Probability\n",
    "Francisco juega siempre a un tipo de lotería primitiva, en la cual el participante debe eligir 5 números ente 1 y 99. Se sortean 5 numeros en ese mismo rango y el vencedor es aquél que elige los 5 números sorteados. Se da el reintegro a aquellos que acertan 4 de los 5 numeros\n",
    "\n",
    "Francicsco siempre elige el dia del cumpleaños de sus padres y sus 3 hermanos y cre que esa es una buena estratégia. Su hermano Fernando cre que hay una probabilidad muy pequeña de que 5 numeros menores o iguales a 31 (los posibles valores para fechas) sean sorteados. Fatima, su hermana, cre que hay una probabilidad de 10% de que consiga el reintegro.\n",
    "\n",
    "Como no entienden muy bien la estadística de probabilidad, los hermanos decidieron verificar sus hipótesis experimentalmente con un codigo en python.\n",
    "\n",
    "Escribe un script en python que repita 10 000 veces el siguiente experimento y guarde los resultados:\n",
    "- Se sortean aleatoriamente 5 numeros entre 1 y 99, inclusive\n",
    "- Se considera positivo el experimento en que todos los 5 numeros son iguales o menores a 31\n",
    "- Se cuenta como reintegro el experimento en que 4 numeros son menores o iguales a 31. \n",
    "\n",
    "¿En que percentual de los experimentos todos los 5 numeros sorteados eran menores o iguales a 31?\n",
    "\n",
    "¿En que percentual de los experimentos 4 de los numeros sorteados eran menores o iguales a 31?\n",
    "\n",
    "> Hint: Usa la función [np.random.randint](https://numpy.org/doc/stable/reference/random/generated/numpy.random.randint.html) para los numeros aleatorios."
   ]
  },
  {
   "cell_type": "code",
   "execution_count": null,
   "id": "484b8aab",
   "metadata": {},
   "outputs": [],
   "source": [
    "import numpy as np\n",
    "# Tu codigo"
   ]
  }
 ],
 "metadata": {
  "kernelspec": {
   "display_name": "Python 3",
   "language": "python",
   "name": "python3"
  },
  "language_info": {
   "codemirror_mode": {
    "name": "ipython",
    "version": 3
   },
   "file_extension": ".py",
   "mimetype": "text/x-python",
   "name": "python",
   "nbconvert_exporter": "python",
   "pygments_lexer": "ipython3",
   "version": "3.9.4"
  },
  "toc": {
   "base_numbering": 1,
   "nav_menu": {},
   "number_sections": true,
   "sideBar": true,
   "skip_h1_title": true,
   "title_cell": "Table of Contents",
   "title_sidebar": "Contents",
   "toc_cell": false,
   "toc_position": {},
   "toc_section_display": true,
   "toc_window_display": false
  }
 },
 "nbformat": 4,
 "nbformat_minor": 5
}
