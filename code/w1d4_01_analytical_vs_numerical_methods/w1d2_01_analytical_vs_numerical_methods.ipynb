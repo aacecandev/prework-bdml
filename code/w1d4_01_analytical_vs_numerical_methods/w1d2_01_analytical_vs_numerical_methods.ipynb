{
 "cells": [
  {
   "cell_type": "markdown",
   "metadata": {
    "id": "sWTa7LYiZw9T"
   },
   "source": [
    "<img src=\"https://api.brandy.run/core/logo\" width=\"80\"/>\n",
    "\n",
    "# CORE Code School\n",
    "\n",
    "## Numpy y las matrices inversas\n",
    "### Computación Analítica vs Numérica\n",
    "\n",
    "$$\n",
    "\\begin{equation}A=\n",
    "\\begin{bmatrix}\n",
    "21 & 32 & 43 & 54\\\\\n",
    "22 & 33 & 44 & 56\\\\\n",
    "23 & 34 & 45 & 57\\\\\n",
    "24 & 35 & 46 & 58\\\\\n",
    "\\end{bmatrix}\n",
    "\\end{equation}\n",
    "$$\n",
    "\n",
    "😎"
   ]
  },
  {
   "cell_type": "code",
   "execution_count": 1,
   "metadata": {
    "id": "8OpNqJdVZw9V"
   },
   "outputs": [],
   "source": [
    "import numpy as np\n",
    "A = np.array([[21, 32, 43, 54],\n",
    "              [22, 33, 44, 56],\n",
    "              [23, 34, 45, 57],\n",
    "              [24, 35, 46, 58]])"
   ]
  },
  {
   "cell_type": "code",
   "execution_count": 2,
   "metadata": {},
   "outputs": [
    {
     "name": "stdout",
     "output_type": "stream",
     "text": [
      "[[21 32 43 54]\n",
      " [22 33 44 56]\n",
      " [23 34 45 57]\n",
      " [24 35 46 58]]\n"
     ]
    }
   ],
   "source": [
    "print(A)"
   ]
  },
  {
   "cell_type": "markdown",
   "metadata": {},
   "source": [
    "Sacamos la matriz inversa"
   ]
  },
  {
   "cell_type": "code",
   "execution_count": 3,
   "metadata": {
    "colab": {
     "base_uri": "https://localhost:8080/"
    },
    "id": "s5ejZ2znakpA"
   },
   "outputs": [],
   "source": [
    "x = 33\n",
    "x_inv = 1/x"
   ]
  },
  {
   "cell_type": "markdown",
   "metadata": {},
   "source": [
    "$$\n",
    "x * x' = 1\n",
    "$$"
   ]
  },
  {
   "cell_type": "code",
   "execution_count": 4,
   "metadata": {},
   "outputs": [
    {
     "data": {
      "text/plain": [
       "1.0"
      ]
     },
     "execution_count": 4,
     "metadata": {},
     "output_type": "execute_result"
    }
   ],
   "source": [
    "x * x_inv"
   ]
  },
  {
   "cell_type": "code",
   "execution_count": 5,
   "metadata": {},
   "outputs": [],
   "source": [
    "x = 7/4\n",
    "x_inv = 4/7"
   ]
  },
  {
   "cell_type": "code",
   "execution_count": 6,
   "metadata": {},
   "outputs": [
    {
     "data": {
      "text/plain": [
       "1.0"
      ]
     },
     "execution_count": 6,
     "metadata": {},
     "output_type": "execute_result"
    }
   ],
   "source": [
    "x * x_inv"
   ]
  },
  {
   "cell_type": "markdown",
   "metadata": {},
   "source": [
    "- Tenemos matriz A\n",
    "- Queremos la inversa de A: A'\n",
    "\n",
    "de forma que\n",
    "\n",
    "$$\n",
    "A \\cdot A' = I\n",
    "$$"
   ]
  },
  {
   "cell_type": "code",
   "execution_count": 7,
   "metadata": {},
   "outputs": [
    {
     "data": {
      "text/plain": [
       "array([[21, 32, 43, 54],\n",
       "       [22, 33, 44, 56],\n",
       "       [23, 34, 45, 57],\n",
       "       [24, 35, 46, 58]])"
      ]
     },
     "execution_count": 7,
     "metadata": {},
     "output_type": "execute_result"
    }
   ],
   "source": [
    "A"
   ]
  },
  {
   "cell_type": "code",
   "execution_count": 8,
   "metadata": {},
   "outputs": [
    {
     "data": {
      "text/plain": [
       "(4, 4)"
      ]
     },
     "execution_count": 8,
     "metadata": {},
     "output_type": "execute_result"
    }
   ],
   "source": [
    "A.shape"
   ]
  },
  {
   "cell_type": "code",
   "execution_count": 9,
   "metadata": {},
   "outputs": [
    {
     "data": {
      "text/plain": [
       "array([[1., 0., 0., 0.],\n",
       "       [0., 1., 0., 0.],\n",
       "       [0., 0., 1., 0.],\n",
       "       [0., 0., 0., 1.]])"
      ]
     },
     "execution_count": 9,
     "metadata": {},
     "output_type": "execute_result"
    }
   ],
   "source": [
    "np.identity(A.shape[0])"
   ]
  },
  {
   "cell_type": "code",
   "execution_count": 10,
   "metadata": {},
   "outputs": [
    {
     "name": "stdout",
     "output_type": "stream",
     "text": [
      "[[ 2.42109091e+00  3.95920846e+14 -7.91841693e+14  3.95920846e+14]\n",
      " [-5.93309091e+00 -7.91841693e+14  1.58368339e+15 -7.91841693e+14]\n",
      " [ 4.51200000e+00  3.95920846e+14 -7.91841693e+14  3.95920846e+14]\n",
      " [-1.00000000e+00  2.06043956e+00 -1.12087912e+00  6.04395604e-02]]\n"
     ]
    }
   ],
   "source": [
    "A_inv = np.linalg.inv(A)\n",
    "print(A_inv)"
   ]
  },
  {
   "cell_type": "code",
   "execution_count": 11,
   "metadata": {},
   "outputs": [
    {
     "name": "stdout",
     "output_type": "stream",
     "text": [
      "[[ 1.00000000e+00 -6.11263736e-01 -1.52747253e+00 -6.73763736e-01]\n",
      " [-2.22044605e-14  1.88461538e+00  1.23076923e+00 -3.65384615e-01]\n",
      " [-1.85407245e-14  3.20054945e-01  1.10989011e+00 -1.17445055e-01]\n",
      " [-1.48769885e-14  7.55494505e-01 -3.01098901e+00  1.30494505e-01]]\n"
     ]
    }
   ],
   "source": [
    "print(np.dot(A,A_inv))"
   ]
  },
  {
   "cell_type": "markdown",
   "metadata": {},
   "source": [
    "# Resultado != Matriz Identidad\n",
    "¿Por qué? Porque A no es inversible. 😕 \n",
    "\n",
    "Pero si... Numpy.... linalg.inv... 🥸\n",
    "\n",
    "# Investiguemos...\n",
    "Bueno, las matrices singulares (que no poseen iversas) tienen determinante cero.\n",
    "\n",
    "Entonces lo primero es calcular el determinante.\n",
    "\n",
    "## Que es el determinante?"
   ]
  },
  {
   "cell_type": "code",
   "execution_count": 12,
   "metadata": {
    "colab": {
     "base_uri": "https://localhost:8080/"
    },
    "id": "O4r22F2lZw9X"
   },
   "outputs": [
    {
     "name": "stdout",
     "output_type": "stream",
     "text": [
      "[[1 4]\n",
      " [5 6]]\n"
     ]
    }
   ],
   "source": [
    "B = np.array([[1,4],\n",
    "              [5,6]])\n",
    "print(B)"
   ]
  },
  {
   "cell_type": "code",
   "execution_count": 13,
   "metadata": {},
   "outputs": [
    {
     "data": {
      "text/plain": [
       "-14"
      ]
     },
     "execution_count": 13,
     "metadata": {},
     "output_type": "execute_result"
    }
   ],
   "source": [
    "1*6 - 4*5"
   ]
  },
  {
   "cell_type": "code",
   "execution_count": 14,
   "metadata": {},
   "outputs": [
    {
     "data": {
      "text/plain": [
       "-13.999999999999996"
      ]
     },
     "execution_count": 14,
     "metadata": {},
     "output_type": "execute_result"
    }
   ],
   "source": [
    "np.linalg.det(B)"
   ]
  },
  {
   "cell_type": "code",
   "execution_count": 15,
   "metadata": {},
   "outputs": [
    {
     "data": {
      "text/plain": [
       "-14"
      ]
     },
     "execution_count": 15,
     "metadata": {},
     "output_type": "execute_result"
    }
   ],
   "source": [
    "round(np.linalg.det(B))"
   ]
  },
  {
   "cell_type": "markdown",
   "metadata": {},
   "source": [
    "## La matriz A tiene determinante != 0?"
   ]
  },
  {
   "cell_type": "code",
   "execution_count": 16,
   "metadata": {},
   "outputs": [
    {
     "data": {
      "text/plain": [
       "-2.7783331191244748e-14"
      ]
     },
     "execution_count": 16,
     "metadata": {},
     "output_type": "execute_result"
    }
   ],
   "source": [
    "np.linalg.det(A)"
   ]
  },
  {
   "cell_type": "markdown",
   "metadata": {},
   "source": [
    "$$\n",
    "x^2 -2x = 18\n",
    "$$\n",
    "\n",
    "$$\n",
    "x^2 -2x -18 = 0\n",
    "$$\n",
    "\n",
    "$$\n",
    "\\Delta = b^2 - 4ac\n",
    "$$\n",
    "$$\n",
    "x = \\frac{-b +- \\sqrt{\\Delta}}{2a}\n",
    "$$"
   ]
  },
  {
   "cell_type": "code",
   "execution_count": 17,
   "metadata": {},
   "outputs": [],
   "source": [
    "a,b,c = 1,-2,-18\n",
    "delta = b**2 - 4*a*c"
   ]
  },
  {
   "cell_type": "code",
   "execution_count": 18,
   "metadata": {},
   "outputs": [
    {
     "data": {
      "text/plain": [
       "76"
      ]
     },
     "execution_count": 18,
     "metadata": {},
     "output_type": "execute_result"
    }
   ],
   "source": [
    "delta"
   ]
  },
  {
   "cell_type": "code",
   "execution_count": 19,
   "metadata": {},
   "outputs": [],
   "source": [
    "x_pos = (-b + delta**.5)/(2*a)\n",
    "x_neg = (-b - delta**.5)/(2*a)"
   ]
  },
  {
   "cell_type": "code",
   "execution_count": 20,
   "metadata": {},
   "outputs": [
    {
     "data": {
      "text/plain": [
       "(5.358898943540674, -3.358898943540674)"
      ]
     },
     "execution_count": 20,
     "metadata": {},
     "output_type": "execute_result"
    }
   ],
   "source": [
    "x_pos,x_neg"
   ]
  },
  {
   "cell_type": "markdown",
   "metadata": {},
   "source": [
    "$$\n",
    "x^2 -2x -18 = 0\n",
    "$$"
   ]
  },
  {
   "cell_type": "code",
   "execution_count": 21,
   "metadata": {},
   "outputs": [
    {
     "data": {
      "text/plain": [
       "-18"
      ]
     },
     "execution_count": 21,
     "metadata": {},
     "output_type": "execute_result"
    }
   ],
   "source": [
    "x = 0\n",
    "res = x**2-2*x-18\n",
    "res"
   ]
  },
  {
   "cell_type": "code",
   "execution_count": 22,
   "metadata": {},
   "outputs": [
    {
     "data": {
      "text/plain": [
       "-19"
      ]
     },
     "execution_count": 22,
     "metadata": {},
     "output_type": "execute_result"
    }
   ],
   "source": [
    "x = 1\n",
    "res = x**2-2*x-18\n",
    "res"
   ]
  },
  {
   "cell_type": "code",
   "execution_count": 23,
   "metadata": {},
   "outputs": [
    {
     "data": {
      "text/plain": [
       "-3"
      ]
     },
     "execution_count": 23,
     "metadata": {},
     "output_type": "execute_result"
    }
   ],
   "source": [
    "x = 5\n",
    "res = x**2-2*x-18\n",
    "res"
   ]
  },
  {
   "cell_type": "code",
   "execution_count": 24,
   "metadata": {},
   "outputs": [
    {
     "data": {
      "text/plain": [
       "-0.007836000000004617"
      ]
     },
     "execution_count": 24,
     "metadata": {},
     "output_type": "execute_result"
    }
   ],
   "source": [
    "x = 5.358\n",
    "res = x**2-2*x-18\n",
    "res"
   ]
  },
  {
   "cell_type": "code",
   "execution_count": 25,
   "metadata": {},
   "outputs": [],
   "source": [
    "from math import isclose"
   ]
  },
  {
   "cell_type": "code",
   "execution_count": 26,
   "metadata": {},
   "outputs": [
    {
     "data": {
      "text/plain": [
       "True"
      ]
     },
     "execution_count": 26,
     "metadata": {},
     "output_type": "execute_result"
    }
   ],
   "source": [
    "isclose(-.5,0,abs_tol=.5)"
   ]
  },
  {
   "cell_type": "code",
   "execution_count": 27,
   "metadata": {},
   "outputs": [
    {
     "name": "stdout",
     "output_type": "stream",
     "text": [
      "-3.4000000000000017\n",
      "CPU times: user 72 µs, sys: 52 µs, total: 124 µs\n",
      "Wall time: 56 µs\n"
     ]
    }
   ],
   "source": [
    "%%time\n",
    "limit = 0.5\n",
    "step = 0.1\n",
    "\n",
    "x = 0\n",
    "\n",
    "i=0\n",
    "while True:\n",
    "    i+=1\n",
    "    res = x**2-2*x-18\n",
    "    if isclose(res,0,abs_tol=limit):\n",
    "        print(x)\n",
    "        break\n",
    "    x = x-step"
   ]
  },
  {
   "cell_type": "code",
   "execution_count": 28,
   "metadata": {},
   "outputs": [
    {
     "data": {
      "text/plain": [
       "35"
      ]
     },
     "execution_count": 28,
     "metadata": {},
     "output_type": "execute_result"
    }
   ],
   "source": [
    "i"
   ]
  },
  {
   "cell_type": "code",
   "execution_count": 29,
   "metadata": {},
   "outputs": [
    {
     "data": {
      "text/plain": [
       "0.35999999999999943"
      ]
     },
     "execution_count": 29,
     "metadata": {},
     "output_type": "execute_result"
    }
   ],
   "source": [
    "x = -3.4\n",
    "res = x**2-2*x-18\n",
    "res"
   ]
  },
  {
   "cell_type": "markdown",
   "metadata": {},
   "source": [
    "# No es cero... O será? 🤔\n",
    "\n",
    "Vamos calcular manualmente. [Sobre el metodo para calcular el determinante de matrices de tamaño 4x4 y mayores](https://www.mathsisfun.com/algebra/matrix-determinant.html)"
   ]
  },
  {
   "cell_type": "code",
   "execution_count": 30,
   "metadata": {
    "id": "33mbxdbCdcAB"
   },
   "outputs": [],
   "source": [
    "def det(mat):\n",
    "    res = 0\n",
    "    sig = 1\n",
    "    if mat.shape == (2,2):\n",
    "        return mat[0,0]*mat[1,1] - mat[0,1]*mat[1,0]\n",
    "    else:\n",
    "        for i in range(mat.shape[1]):\n",
    "            res += mat[0,i]*det(np.delete(mat[1:,:], i,1)) * sig\n",
    "            sig = - sig\n",
    "    return res"
   ]
  },
  {
   "cell_type": "code",
   "execution_count": 31,
   "metadata": {
    "colab": {
     "base_uri": "https://localhost:8080/"
    },
    "id": "2_koR56TjwMq"
   },
   "outputs": [
    {
     "data": {
      "text/plain": [
       "0"
      ]
     },
     "execution_count": 31,
     "metadata": {},
     "output_type": "execute_result"
    }
   ],
   "source": [
    "det(A)"
   ]
  },
  {
   "cell_type": "code",
   "execution_count": 32,
   "metadata": {},
   "outputs": [
    {
     "data": {
      "text/plain": [
       "-2.7783331191244748e-14"
      ]
     },
     "execution_count": 32,
     "metadata": {},
     "output_type": "execute_result"
    }
   ],
   "source": [
    "np.linalg.det(A)"
   ]
  },
  {
   "cell_type": "code",
   "execution_count": 33,
   "metadata": {},
   "outputs": [
    {
     "data": {
      "text/plain": [
       "-2.778e-14"
      ]
     },
     "execution_count": 33,
     "metadata": {},
     "output_type": "execute_result"
    }
   ],
   "source": [
    "-2.778 * 10**-14"
   ]
  },
  {
   "cell_type": "code",
   "execution_count": 34,
   "metadata": {},
   "outputs": [
    {
     "data": {
      "text/plain": [
       "2.778e-14"
      ]
     },
     "execution_count": 34,
     "metadata": {},
     "output_type": "execute_result"
    }
   ],
   "source": [
    "0.00000000000002778"
   ]
  },
  {
   "cell_type": "markdown",
   "metadata": {
    "id": "9SZjZHhV1LwX"
   },
   "source": [
    "<img src=\"img/fine.jpeg\"/>"
   ]
  },
  {
   "cell_type": "markdown",
   "metadata": {},
   "source": [
    "Ahora que nos vamos a profundizar en el mundo de la computación, empezamos presentando dos de los paradigmas y \"problemas\" (más bien consideraciones) de ese universo.\n",
    "\n",
    "Los ordenadores no piensan, sino que computan. Eso es, hacen calculos matemáticos, aritméticos y más especificamente en binario. 0️⃣1️⃣0️⃣0️⃣1️⃣1️⃣1️⃣0️⃣1️⃣0️⃣1️⃣\n",
    "\n",
    "Por un lado, enfrentamos la diferencia entre el método Analítico y el método Numérico.\n",
    "\n",
    "### Método Analítico\n",
    "\n",
    "El método analítico es como aprendemos a solucionar problemas matemáticos tradicionalmente. Seguimos una serie de reglas lógicas para aíslar determinado parámetro y al final le computamos con valores.\n",
    "\n",
    "### Método Numérico\n",
    "\n",
    "En el método numérico, delante de un problema, imputamos valores repetidamente hasta que lleguemos lo cerca bastante de la solución. Esa solución puede o no ser igual a la del anterior método, dependiendo de la complejidad  del problema y de la precisión de el sistema. \n",
    "\n",
    "### Los ordenadores\n",
    "\n",
    "Aunque sea posíble hacer soluciones analíticas (también llamadas simbólicas) usando diferentes librerias, siempre será una situación de encontrar un compromiso entre la precisión de el resultado y el coste computacional.\n",
    "\n",
    "Los métodos numéticos insertan pequeños errores, pero que son perfectamente aceptables. En general las librerias de computación simbólica son usadas en casos muy específicos. Y nos beneficiamos mucho más al hacer un mayor número de cálculos numéricos, que utilizan operaciones más simples."
   ]
  },
  {
   "cell_type": "code",
   "execution_count": 35,
   "metadata": {},
   "outputs": [
    {
     "data": {
      "text/html": [
       "\n",
       "        <iframe\n",
       "            width=\"560\"\n",
       "            height=\"315\"\n",
       "            src=\"https://www.youtube.com/embed/F2NWYEOHIkc\"\"\n",
       "            frameborder=\"0\"\n",
       "            allowfullscreen\n",
       "        ></iframe>\n",
       "        "
      ],
      "text/plain": [
       "<IPython.lib.display.IFrame at 0x10f42be50>"
      ]
     },
     "execution_count": 35,
     "metadata": {},
     "output_type": "execute_result"
    }
   ],
   "source": [
    "from IPython.display import IFrame\n",
    "IFrame('https://www.youtube.com/embed/F2NWYEOHIkc\"', width=560, height=315)"
   ]
  },
  {
   "cell_type": "markdown",
   "metadata": {},
   "source": [
    "La segunda mitad de esa cuestión se da en el fato de que los ordenadores utilizan aritmética binária. Y para la representación de los numeros en los bits de un procesador, se utiliza una manera de interpretar esos numeros que se llama:\n",
    "\n",
    "### Floating Point Numbers\n",
    "\n",
    "Si pensamos en la representación de numeros en binário, obtenemos lo siguiente:\n",
    "\n",
    "|decimal|binário||decimal|binário|\n",
    "|---|--|--|--|--|\n",
    "|0|0000||8|1000|\n",
    "|1|0001||9|1001|\n",
    "|2|0010||10|1010|\n",
    "|3|0011||11|1011|\n",
    "|4|0100||12|1100|\n",
    "|5|0101||13|1101|\n",
    "|6|0110||14|1110|\n",
    "|7|0111||15|1111|\n",
    "\n",
    "Si quisieramos representar el numero decimal 16, necesitariamos un bit más (cada bit es un valor 0 o 1), puesto que en la tabla solo tenemos 4, que permiten representar desde el 0 hasta el 15. En los ordenadores comunmente encontrados en el día de hoy, tenemos procesadores capaces de computar valores de 32 o 64 bit.\n",
    "\n",
    "O sea, el máximo numero que podríamos representar como un entero en 64 bits es el valor:"
   ]
  },
  {
   "cell_type": "code",
   "execution_count": 36,
   "metadata": {},
   "outputs": [
    {
     "data": {
      "text/plain": [
       "18446744073709551615"
      ]
     },
     "execution_count": 36,
     "metadata": {},
     "output_type": "execute_result"
    }
   ],
   "source": [
    "num = 0\n",
    "for i in range(64):\n",
    "    num += 2**i\n",
    "num"
   ]
  },
  {
   "cell_type": "markdown",
   "metadata": {},
   "source": [
    "Ese limite es irrelevante en Python, todavía, pués los enteros en Python no son enternos nativos de el lenguaje de máquina, sino que Python es una capa extra que permite que numeros más grandes."
   ]
  },
  {
   "cell_type": "code",
   "execution_count": 37,
   "metadata": {},
   "outputs": [
    {
     "data": {
      "text/plain": [
       "18446744073709551616"
      ]
     },
     "execution_count": 37,
     "metadata": {},
     "output_type": "execute_result"
    }
   ],
   "source": [
    "num + 1"
   ]
  },
  {
   "cell_type": "markdown",
   "metadata": {},
   "source": [
    "Pero fijaos que pasa si intentamos convertir ese numero en un int64 de numpy."
   ]
  },
  {
   "cell_type": "code",
   "execution_count": 38,
   "metadata": {},
   "outputs": [
    {
     "ename": "OverflowError",
     "evalue": "Python int too large to convert to C long",
     "output_type": "error",
     "traceback": [
      "\u001b[0;31m---------------------------------------------------------------------------\u001b[0m",
      "\u001b[0;31mOverflowError\u001b[0m                             Traceback (most recent call last)",
      "\u001b[0;32m/var/folders/xc/2hbgx_ys6pn64tvbcj1r62qw0000gn/T/ipykernel_62788/2961666288.py\u001b[0m in \u001b[0;36m<module>\u001b[0;34m\u001b[0m\n\u001b[0;32m----> 1\u001b[0;31m \u001b[0mnp\u001b[0m\u001b[0;34m.\u001b[0m\u001b[0mint64\u001b[0m\u001b[0;34m(\u001b[0m\u001b[0mnum\u001b[0m\u001b[0;34m)\u001b[0m\u001b[0;34m\u001b[0m\u001b[0;34m\u001b[0m\u001b[0m\n\u001b[0m",
      "\u001b[0;31mOverflowError\u001b[0m: Python int too large to convert to C long"
     ]
    }
   ],
   "source": [
    "np.int64(num)"
   ]
  },
  {
   "cell_type": "markdown",
   "metadata": {},
   "source": [
    "Obtenemos un error muy específicio que es un error de `Overflow`, i.e.: que intentamos utilizar más bits que los disponibles. Eso porque, como especificado en el mensaje del error, numpy está escrito en un otro lenguaje de programación, `C`, que tiene diferentes limitaciones.\n",
    "\n",
    "De cualquier manera, el limite teorico calculado anteriormente considerara apenas los enteros positivos. Si usaramos un `bit` para marcar el signo de positivo o negativo, llegamos al limite real."
   ]
  },
  {
   "cell_type": "code",
   "execution_count": 39,
   "metadata": {},
   "outputs": [
    {
     "data": {
      "text/plain": [
       "9223372036854775807"
      ]
     },
     "execution_count": 39,
     "metadata": {},
     "output_type": "execute_result"
    }
   ],
   "source": [
    "num = 0\n",
    "for i in range(63):\n",
    "    num += 2**i\n",
    "num"
   ]
  },
  {
   "cell_type": "markdown",
   "metadata": {},
   "source": [
    "Y ese numero podemos convertir sin problemas a un entero de numpy."
   ]
  },
  {
   "cell_type": "code",
   "execution_count": 40,
   "metadata": {},
   "outputs": [
    {
     "data": {
      "text/plain": [
       "9223372036854775807"
      ]
     },
     "execution_count": 40,
     "metadata": {},
     "output_type": "execute_result"
    }
   ],
   "source": [
    "num = np.int64(num)\n",
    "num"
   ]
  },
  {
   "cell_type": "markdown",
   "metadata": {},
   "source": [
    "Pero si intentamos sumarle uno..."
   ]
  },
  {
   "cell_type": "code",
   "execution_count": 41,
   "metadata": {},
   "outputs": [
    {
     "name": "stderr",
     "output_type": "stream",
     "text": [
      "/var/folders/xc/2hbgx_ys6pn64tvbcj1r62qw0000gn/T/ipykernel_62788/1907636913.py:1: RuntimeWarning: overflow encountered in long_scalars\n",
      "  num + 1\n"
     ]
    },
    {
     "data": {
      "text/plain": [
       "-9223372036854775808"
      ]
     },
     "execution_count": 41,
     "metadata": {},
     "output_type": "execute_result"
    }
   ],
   "source": [
    "num + 1"
   ]
  },
  {
   "cell_type": "markdown",
   "metadata": {},
   "source": [
    "En el overflow, el bit significativo esta fuera de la cantidad de bits disponibles y por lo tanto no se le. Así que damos la vuelta desde el mayor numero al menor, por lo que tenemos un numero negativo."
   ]
  },
  {
   "cell_type": "markdown",
   "metadata": {},
   "source": [
    "Hemos visto que para utilizar un unico bit para el signo de positivo o negativo ya reduce en una potencia de 2 el numero maximo que podemos representar. Si fueramos guardar más información en ese numero, también perderiamos precisión, como es el caso de los numeros reales, que se computan como `floating points`.\n",
    "\n",
    "Los numeros de `coma flotante` son numeros representados en el formato de notación científica, como:\n",
    "\n",
    "$$\n",
    "0.0625  = 6.25 * 10^{-2}\n",
    "$$\n",
    "\n",
    "La parte significativa del numero en esa representación (6.25) se llama `mantissa` y la otra el `exponent`.\n",
    "\n",
    "En binario representariamos ese numero de la siguiente manera, con el punto decimal (coma) después de el primer digito significativo:\n",
    "\n",
    "![Floating Point](img/float.png)\n",
    "\n",
    "Lo convertimos a base 10.\n",
    "\n",
    "### Mantissa\n",
    "\n",
    "|neg.|512|256|128|64|32|16|8|4|2|1|\n",
    "|-|-|-|-|-|-|-|-|-|-|-|\n",
    "|0|1|0|0|1|1|1|0|0|0|1|\n",
    "\n",
    "$$\n",
    "512 + 64 + 32 + 16 + 1 = 625\n",
    "$$\n",
    "\n",
    "O con el punto, `6.25`.\n",
    "\n",
    "### Exponent\n",
    "\n",
    "|neg.|8|4|2|1|\n",
    "|-|-|-|-|-|\n",
    "|1|0|0|1|0|\n",
    "\n",
    "$$\n",
    "-2\n",
    "$$\n",
    "\n",
    "Y volvemos obtener :\n",
    "\n",
    "$$\n",
    "6.25 * 10^{-2}\n",
    "$$\n",
    "\n",
    "### 64bit\n",
    "\n",
    "Segun el [standard](https://en.wikipedia.org/wiki/IEEE_754) la maior parte de los ordenadores de 64 bits usaran 53 para la mantissa y 11 para el exponent.\n",
    "\n",
    "## Floating Point Error\n",
    "\n",
    "Imaginemos lo siguiente ahora. Queremos representar el numero $1/3$, que en decimal se representa como $0.3333333...$, la repetición infinita $0.\\overline{3}$.\n",
    "\n",
    "Ese numero se representaria de la misma manera que el ejemplo arriba en binario.\n",
    "\n",
    "![Floating Point](img/floaterror.png)\n",
    "\n",
    "O sea:\n",
    "\n",
    "|neg.|512|256|128|64|32|16|8|4|2|1|\n",
    "|-|-|-|-|-|-|-|-|-|-|-|\n",
    "|0|0|1|0|1|0|0|1|1|0|1|\n",
    "\n",
    "$$\n",
    "256 + 64 + 8 + 4 + 1 = 333\n",
    "$$\n",
    "\n",
    "Por lo tanto, la maxima precisión en 16 bits seria $0.333$, pues los ordenadores son incapaces de comprender la repetición infinita por defecto.\n",
    "\n",
    "Cuanto más bits tengamos disponible, más precisión podríamos tener en ese numero.\n",
    "\n",
    "Si sumaramos 0.333 + 0.333 + 0.333 en binario, con 16 digitos obtendríamos el resultado `0.999`, de manera que:\n",
    "\n",
    "$$\n",
    "1/3 + 1/3 + 1/3 \\ne 1\n",
    "$$\n",
    "\n",
    "Ese error se llama `error de coma flotante`, pues los numeros que no se pueden representar en su totalidad (los que possen más digitos significativos de los que están disponibles) se representan como una aproximación.\n",
    "\n",
    "Aunque en python si hacemos `1/3 + 1/3 + 1/3` obtenemos el resultado `1.0`, pues no sumamos numeros puramente binários, sino que tenemos la \"capa extra\" que ya hemos citado."
   ]
  },
  {
   "cell_type": "code",
   "execution_count": null,
   "metadata": {},
   "outputs": [],
   "source": [
    "1/3 + 1/3 + 1/3"
   ]
  },
  {
   "cell_type": "code",
   "execution_count": null,
   "metadata": {},
   "outputs": [],
   "source": [
    "IFrame('https://www.youtube.com/embed/PZRI1IfStY0', width=560, height=315)"
   ]
  },
  {
   "cell_type": "markdown",
   "metadata": {},
   "source": [
    "Por encima de todo eso, como numpy está optimizado para calcular lo más rápido posible, incluso las inversas de matrices enormes, no utiliza el método analítico como definido en la función para calcular el determinante `det` arriba.\n",
    "\n",
    "En la computación siempre hay un balance entre precisión y economia de recursos."
   ]
  },
  {
   "cell_type": "code",
   "execution_count": 42,
   "metadata": {},
   "outputs": [
    {
     "data": {
      "text/plain": [
       "array([[5, 1, 4, 2, 7, 1, 6, 9, 5, 9],\n",
       "       [7, 2, 1, 3, 7, 6, 2, 1, 9, 6],\n",
       "       [0, 6, 5, 7, 0, 3, 5, 0, 3, 2],\n",
       "       [5, 7, 3, 9, 0, 2, 9, 6, 3, 0],\n",
       "       [2, 2, 6, 8, 4, 6, 7, 9, 1, 7],\n",
       "       [2, 7, 2, 8, 7, 2, 1, 6, 8, 4],\n",
       "       [4, 3, 3, 7, 7, 2, 9, 8, 3, 3],\n",
       "       [7, 8, 6, 8, 5, 4, 4, 8, 1, 1],\n",
       "       [1, 9, 3, 4, 9, 6, 2, 5, 6, 7],\n",
       "       [2, 1, 0, 0, 2, 5, 3, 1, 8, 6]])"
      ]
     },
     "execution_count": 42,
     "metadata": {},
     "output_type": "execute_result"
    }
   ],
   "source": [
    "mat = np.random.randint(0,10,100).reshape((10,10))\n",
    "mat"
   ]
  },
  {
   "cell_type": "code",
   "execution_count": 43,
   "metadata": {},
   "outputs": [
    {
     "name": "stdout",
     "output_type": "stream",
     "text": [
      "CPU times: user 82 µs, sys: 33 µs, total: 115 µs\n",
      "Wall time: 113 µs\n"
     ]
    }
   ],
   "source": [
    "%%time\n",
    "res_np = np.linalg.det(mat)"
   ]
  },
  {
   "cell_type": "code",
   "execution_count": 44,
   "metadata": {},
   "outputs": [
    {
     "data": {
      "text/plain": [
       "224695002.99999997"
      ]
     },
     "execution_count": 44,
     "metadata": {},
     "output_type": "execute_result"
    }
   ],
   "source": [
    "res_np"
   ]
  },
  {
   "cell_type": "code",
   "execution_count": 45,
   "metadata": {},
   "outputs": [
    {
     "name": "stdout",
     "output_type": "stream",
     "text": [
      "CPU times: user 7.12 s, sys: 19.4 ms, total: 7.14 s\n",
      "Wall time: 7.14 s\n"
     ]
    }
   ],
   "source": [
    "%%time\n",
    "res_sym = det(mat)"
   ]
  },
  {
   "cell_type": "code",
   "execution_count": 46,
   "metadata": {},
   "outputs": [
    {
     "data": {
      "text/plain": [
       "224695003"
      ]
     },
     "execution_count": 46,
     "metadata": {},
     "output_type": "execute_result"
    }
   ],
   "source": [
    "res_sym"
   ]
  },
  {
   "cell_type": "code",
   "execution_count": 47,
   "metadata": {},
   "outputs": [
    {
     "name": "stdout",
     "output_type": "stream",
     "text": [
      "El error del metodo numerico -0.00000000000001110223024625156540423631668090820312 %\n"
     ]
    }
   ],
   "source": [
    "error = (res_np / res_sym) - 1\n",
    "print(f\"El error del metodo numerico {error*100:.50f} %\")"
   ]
  },
  {
   "cell_type": "code",
   "execution_count": 48,
   "metadata": {},
   "outputs": [
    {
     "name": "stdout",
     "output_type": "stream",
     "text": [
      "El metodo analítico tarda 6208595.652173913 % más\n"
     ]
    }
   ],
   "source": [
    "delta_t = (7.14 / 115e-6) - 1\n",
    "print(f\"El metodo analítico tarda {delta_t*100} % más\")"
   ]
  },
  {
   "cell_type": "code",
   "execution_count": null,
   "metadata": {},
   "outputs": [],
   "source": []
  }
 ],
 "metadata": {
  "colab": {
   "name": "w1d1_analytical_vs_numerical_methods.ipynb",
   "provenance": []
  },
  "kernelspec": {
   "display_name": "Python 3 (ipykernel)",
   "language": "python",
   "name": "python3"
  },
  "language_info": {
   "codemirror_mode": {
    "name": "ipython",
    "version": 3
   },
   "file_extension": ".py",
   "mimetype": "text/x-python",
   "name": "python",
   "nbconvert_exporter": "python",
   "pygments_lexer": "ipython3",
   "version": "3.9.6"
  },
  "toc": {
   "base_numbering": 1,
   "nav_menu": {},
   "number_sections": false,
   "sideBar": true,
   "skip_h1_title": true,
   "title_cell": "Table of Contents",
   "title_sidebar": "Contents",
   "toc_cell": false,
   "toc_position": {},
   "toc_section_display": true,
   "toc_window_display": false
  }
 },
 "nbformat": 4,
 "nbformat_minor": 1
}
