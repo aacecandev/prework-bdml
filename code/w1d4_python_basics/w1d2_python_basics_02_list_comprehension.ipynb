{
 "cells": [
  {
   "cell_type": "markdown",
   "id": "9b65dffc",
   "metadata": {},
   "source": [
    "<img src=\"https://api.brandy.run/core/logo\" width=\"80\"/>\n",
    "\n",
    "# CORE Code School\n",
    "\n",
    "# Python Basics"
   ]
  },
  {
   "cell_type": "markdown",
   "id": "0cfdb4cc",
   "metadata": {
    "toc": true
   },
   "source": [
    "<h1>Table of Contents<span class=\"tocSkip\"></span></h1>\n",
    "<div class=\"toc\"><ul class=\"toc-item\"><li><span><a href=\"#Loops\" data-toc-modified-id=\"Loops-1\"><span class=\"toc-item-num\">1&nbsp;&nbsp;</span>Loops</a></span></li><li><span><a href=\"#List-Comprehension\" data-toc-modified-id=\"List-Comprehension-2\"><span class=\"toc-item-num\">2&nbsp;&nbsp;</span>List Comprehension</a></span><ul class=\"toc-item\"><li><span><a href=\"#With-ternary\" data-toc-modified-id=\"With-ternary-2.1\"><span class=\"toc-item-num\">2.1&nbsp;&nbsp;</span>With ternary</a></span></li><li><span><a href=\"#With-condition-filtering\" data-toc-modified-id=\"With-condition-filtering-2.2\"><span class=\"toc-item-num\">2.2&nbsp;&nbsp;</span>With condition filtering</a></span></li><li><span><a href=\"#If-in-List-Comprehension\" data-toc-modified-id=\"If-in-List-Comprehension-2.3\"><span class=\"toc-item-num\">2.3&nbsp;&nbsp;</span>If in List Comprehension</a></span></li></ul></li><li><span><a href=\"#Nested-List-Comprehension\" data-toc-modified-id=\"Nested-List-Comprehension-3\"><span class=\"toc-item-num\">3&nbsp;&nbsp;</span>Nested List Comprehension</a></span></li><li><span><a href=\"#Dict-Comprehension\" data-toc-modified-id=\"Dict-Comprehension-4\"><span class=\"toc-item-num\">4&nbsp;&nbsp;</span>Dict Comprehension</a></span></li></ul></div>"
   ]
  },
  {
   "cell_type": "markdown",
   "id": "21338e9c",
   "metadata": {},
   "source": [
    "## Loops\n",
    "Como sabemos, python tiene 2 tipos de loops, los bucle `for` y los bucle `while`.\n",
    "\n",
    "Los bucles son maneras de repetir la ejecución de un mismo bloque de codigo sin la necesidad de repetir ese mismo codigo tantas veces. \n",
    "\n",
    "En los bucles while verificamos si se cumple o no determinada condición para la ejecución del bloque. Hay dos maneras de terminar la ejecución de el codigo, que no se cumpla esa condición o que se encuentre la palabra `break`."
   ]
  },
  {
   "cell_type": "code",
   "execution_count": 1,
   "id": "85e7a9ee",
   "metadata": {},
   "outputs": [],
   "source": [
    "import numpy as np"
   ]
  },
  {
   "cell_type": "code",
   "execution_count": null,
   "id": "e691bc40",
   "metadata": {},
   "outputs": [],
   "source": [
    "\n",
    "# High or Low\n",
    "num = 0\n",
    "answer = np.random.randint(1,100)\n",
    "while num != answer:\n",
    "    num = int(input(\"Dime un numero: \"))\n",
    "    if num > answer:\n",
    "        print(\"Mas bajo\")\n",
    "    elif num < answer:\n",
    "        print(\"Mas alto\")\n",
    "    else:\n",
    "        print(\"Has ganado\")"
   ]
  },
  {
   "cell_type": "markdown",
   "id": "5222da38",
   "metadata": {},
   "source": [
    "Diferente de los bucles while, en los bucles `for` sabemos previamente cuantas veces se repetirá el bloque de codigo del bucle. Eso es porque en el `for` siempre iteraremos por algun objeto iterable (una lista, set, tupla, string, otros objetos y alguna función). "
   ]
  },
  {
   "cell_type": "code",
   "execution_count": 2,
   "id": "022b25ed",
   "metadata": {},
   "outputs": [],
   "source": [
    "# Estimando la probabilidad de sacar un 6 en 2 dados. \n",
    "## La probabilidad de cada numero es 1/6 en un dado.\n",
    "## Las siguientes combinaciones generan una suma de 6:\n",
    "## (1,5), (2,4), (3,3), (4,2), (5,1)\n",
    "## P = ((1/6)**2) * 5\n",
    "## P = 5/36\n",
    "\n",
    "# De 1000 tiradas, ~139 deberian tener resultado 6"
   ]
  },
  {
   "cell_type": "code",
   "execution_count": 54,
   "id": "115f8120",
   "metadata": {},
   "outputs": [
    {
     "data": {
      "text/plain": [
       "129"
      ]
     },
     "execution_count": 54,
     "metadata": {},
     "output_type": "execute_result"
    }
   ],
   "source": [
    "sixes = 0\n",
    "#Experiment\n",
    "for _ in range(1000):\n",
    "    dice = np.random.randint(1,7,2)\n",
    "    if sum(dice) == 6:\n",
    "        sixes += 1\n",
    "sixes"
   ]
  },
  {
   "cell_type": "code",
   "execution_count": 9,
   "id": "6e17005c",
   "metadata": {},
   "outputs": [],
   "source": [
    "## Hemos visto que el valor oscila, ¿estará cerca del valor esperado?\n",
    "## Podemos repetir el experimento de mil tiradas mil veces."
   ]
  },
  {
   "cell_type": "code",
   "execution_count": 55,
   "id": "c97d87ce",
   "metadata": {},
   "outputs": [],
   "source": [
    "results = []\n",
    "\n",
    "for _ in range(1000):\n",
    "    sixes = 0\n",
    "    #Experiment\n",
    "    for _ in range(1000):\n",
    "        dice = np.random.randint(1,7,2)\n",
    "        if sum(dice) == 6:\n",
    "            sixes += 1\n",
    "    results.append(sixes)\n"
   ]
  },
  {
   "cell_type": "code",
   "execution_count": 57,
   "id": "c16de9a3",
   "metadata": {},
   "outputs": [
    {
     "data": {
      "text/plain": [
       "139.159"
      ]
     },
     "execution_count": 57,
     "metadata": {},
     "output_type": "execute_result"
    }
   ],
   "source": [
    "# Bastante bien, no?\n",
    "np.mean(results)"
   ]
  },
  {
   "cell_type": "markdown",
   "id": "77770611",
   "metadata": {},
   "source": [
    "## List Comprehension\n",
    "\n",
    "Muchas veces utilizamos los bucles for para iterar para generar una lista como en el ejemplo anterior. Python tiene una sintaxis diferente que nos permite hacer el bucle for y generar una lista de una manera compacta y en una unica linea. "
   ]
  },
  {
   "cell_type": "code",
   "execution_count": 52,
   "id": "4883f24f",
   "metadata": {},
   "outputs": [],
   "source": [
    "bdml = [\"Marc\",\"Marcos\",\"Felipe\",\"Juan\",\"Daniel\",\"Javier\",\"Denisse\",\"Henrry\",\"Mauricio\"]"
   ]
  },
  {
   "cell_type": "markdown",
   "id": "9762aa27",
   "metadata": {},
   "source": [
    "En la celda anterior tenemos todo el grupo del bootcamp de Big Data y Machine Learning en Core. ¡Pero hay algo que no está bien!\n",
    "\n",
    "Estamos en una pandemia y nadie lleva mascarillas. 😮\n",
    "\n",
    "Tenemos que corregir eso."
   ]
  },
  {
   "cell_type": "code",
   "execution_count": 3,
   "id": "0593b23c",
   "metadata": {},
   "outputs": [],
   "source": [
    "# Loop tradicional\n",
    "bdml_mask = []\n",
    "for persona in bdml:\n",
    "    bdml_mask.append(persona+\"😷\")"
   ]
  },
  {
   "cell_type": "code",
   "execution_count": 5,
   "id": "72fc3b56",
   "metadata": {},
   "outputs": [
    {
     "data": {
      "text/plain": [
       "['Marc',\n",
       " 'Marcos',\n",
       " 'Felipe',\n",
       " 'Juan',\n",
       " 'Daniel',\n",
       " 'Javier',\n",
       " 'Denisse',\n",
       " 'Henrry',\n",
       " 'Mauricio']"
      ]
     },
     "execution_count": 5,
     "metadata": {},
     "output_type": "execute_result"
    }
   ],
   "source": [
    "bdml"
   ]
  },
  {
   "cell_type": "code",
   "execution_count": 6,
   "id": "969a9ee6",
   "metadata": {},
   "outputs": [
    {
     "name": "stdout",
     "output_type": "stream",
     "text": [
      "['Marc😷', 'Marcos😷', 'Felipe😷', 'Juan😷', 'Daniel😷', 'Javier😷', 'Denisse😷', 'Henrry😷', 'Mauricio😷']\n"
     ]
    }
   ],
   "source": [
    "print(bdml_mask)"
   ]
  },
  {
   "cell_type": "markdown",
   "id": "52bcc2cc",
   "metadata": {},
   "source": [
    "¡Pero ahora vamos hacerlo con un list comprehension!\n",
    "Como el list comprehension va a generar una lista, lo primero que necesitamos son `[]`.\n",
    "\n",
    "```python\n",
    "[]\n",
    "```"
   ]
  },
  {
   "cell_type": "markdown",
   "id": "691f9f79",
   "metadata": {},
   "source": [
    "Como lo vamos hacer de forma compacta, el bucle for va dentro de la lista:\n",
    "\n",
    "```python\n",
    "[for person in bdml]\n",
    "```\n",
    "\n",
    "Nos falta algo. Cuando generamos la lista anteriormente, usamos el append. En el caso del list comprehension, pondremos directamente el elemento que queremos en la lista, pero ese elemento debe ir `antes` del `for` en esa sintaxis.\n",
    "\n",
    "```python\n",
    "[person+\"😷\" for person in bdml]\n",
    "```\n",
    "\n",
    "Haciendo una radiografia, vemos que el list comprehension está compuesto de dos partes:\n",
    "\n",
    "```python\n",
    "[ <ELEMENT>  <LOOP> ]\n",
    "```\n",
    "\n",
    "Donde `<LOOP>` es el bucle que queremos hace y `<ELEMENT>` es lo que queremos que cada elemento de la lista sea"
   ]
  },
  {
   "cell_type": "code",
   "execution_count": 9,
   "id": "e403dd9c",
   "metadata": {},
   "outputs": [
    {
     "data": {
      "text/plain": [
       "['Marc😷',\n",
       " 'Marcos😷',\n",
       " 'Felipe😷',\n",
       " 'Juan😷',\n",
       " 'Daniel😷',\n",
       " 'Javier😷',\n",
       " 'Denisse😷',\n",
       " 'Henrry😷',\n",
       " 'Mauricio😷']"
      ]
     },
     "execution_count": 9,
     "metadata": {},
     "output_type": "execute_result"
    }
   ],
   "source": [
    "# List Comprehension\n",
    "[  persona+\"😷\"        for persona in bdml  ]"
   ]
  },
  {
   "cell_type": "code",
   "execution_count": 10,
   "id": "01377a46",
   "metadata": {},
   "outputs": [
    {
     "data": {
      "text/plain": [
       "['Marc',\n",
       " 'Marcos',\n",
       " 'Felipe',\n",
       " 'Juan',\n",
       " 'Daniel',\n",
       " 'Javier',\n",
       " 'Denisse',\n",
       " 'Henrry',\n",
       " 'Mauricio']"
      ]
     },
     "execution_count": 10,
     "metadata": {},
     "output_type": "execute_result"
    }
   ],
   "source": [
    "bdml"
   ]
  },
  {
   "cell_type": "code",
   "execution_count": 53,
   "id": "0f8bcf94",
   "metadata": {},
   "outputs": [
    {
     "data": {
      "text/plain": [
       "['Marc😷',\n",
       " 'Marcos😷',\n",
       " 'Felipe😷',\n",
       " 'Juan😷',\n",
       " 'Daniel😷',\n",
       " 'Javier😷',\n",
       " 'Denisse😷',\n",
       " 'Henrry😷',\n",
       " 'Mauricio😷']"
      ]
     },
     "execution_count": 53,
     "metadata": {},
     "output_type": "execute_result"
    }
   ],
   "source": [
    "bdml = [persona + \"😷\" for persona in bdml]\n",
    "bdml"
   ]
  },
  {
   "cell_type": "code",
   "execution_count": 14,
   "id": "7ccaef34",
   "metadata": {},
   "outputs": [
    {
     "data": {
      "text/plain": [
       "[1, 2, 3, 4, 5]"
      ]
     },
     "execution_count": 14,
     "metadata": {},
     "output_type": "execute_result"
    }
   ],
   "source": [
    "## Operar sobre lista vs operar sobre elementos de la lista\n",
    "## Una lista es un contenedor\n",
    "\n",
    "lst = [1,2,3,4,5]\n",
    "lst"
   ]
  },
  {
   "cell_type": "code",
   "execution_count": 16,
   "id": "7d11f5e3",
   "metadata": {},
   "outputs": [
    {
     "ename": "TypeError",
     "evalue": "unsupported operand type(s) for ** or pow(): 'list' and 'int'",
     "output_type": "error",
     "traceback": [
      "\u001b[0;31m---------------------------------------------------------------------------\u001b[0m",
      "\u001b[0;31mTypeError\u001b[0m                                 Traceback (most recent call last)",
      "\u001b[0;32m/var/folders/xc/2hbgx_ys6pn64tvbcj1r62qw0000gn/T/ipykernel_53056/2869639747.py\u001b[0m in \u001b[0;36m<module>\u001b[0;34m\u001b[0m\n\u001b[0;32m----> 1\u001b[0;31m \u001b[0mlst\u001b[0m\u001b[0;34m**\u001b[0m\u001b[0;36m2\u001b[0m\u001b[0;34m\u001b[0m\u001b[0;34m\u001b[0m\u001b[0m\n\u001b[0m",
      "\u001b[0;31mTypeError\u001b[0m: unsupported operand type(s) for ** or pow(): 'list' and 'int'"
     ]
    }
   ],
   "source": [
    "lst**2"
   ]
  },
  {
   "cell_type": "code",
   "execution_count": 17,
   "id": "57f9af38",
   "metadata": {},
   "outputs": [
    {
     "ename": "TypeError",
     "evalue": "int() argument must be a string, a bytes-like object or a number, not 'list'",
     "output_type": "error",
     "traceback": [
      "\u001b[0;31m---------------------------------------------------------------------------\u001b[0m",
      "\u001b[0;31mTypeError\u001b[0m                                 Traceback (most recent call last)",
      "\u001b[0;32m/var/folders/xc/2hbgx_ys6pn64tvbcj1r62qw0000gn/T/ipykernel_53056/121416677.py\u001b[0m in \u001b[0;36m<module>\u001b[0;34m\u001b[0m\n\u001b[0;32m----> 1\u001b[0;31m \u001b[0mint\u001b[0m\u001b[0;34m(\u001b[0m\u001b[0mlst\u001b[0m\u001b[0;34m)\u001b[0m\u001b[0;34m\u001b[0m\u001b[0;34m\u001b[0m\u001b[0m\n\u001b[0m",
      "\u001b[0;31mTypeError\u001b[0m: int() argument must be a string, a bytes-like object or a number, not 'list'"
     ]
    }
   ],
   "source": [
    "int(lst)"
   ]
  },
  {
   "cell_type": "code",
   "execution_count": 24,
   "id": "8aad76fb",
   "metadata": {},
   "outputs": [
    {
     "data": {
      "text/plain": [
       "\"['MARTA', 'SEBAS', 'GUILLE']\""
      ]
     },
     "execution_count": 24,
     "metadata": {},
     "output_type": "execute_result"
    }
   ],
   "source": [
    "lst_chr = [\"marta\",\"sebas\",\"guille\"]\n",
    "lst_chr = str(lst_chr)\n",
    "lst_chr = lst_chr.upper()\n",
    "lst_chr"
   ]
  },
  {
   "cell_type": "code",
   "execution_count": 25,
   "id": "d96a02a6",
   "metadata": {},
   "outputs": [],
   "source": [
    "#lst_chr = list(lst_chr)\n",
    "#lst_chr"
   ]
  },
  {
   "cell_type": "code",
   "execution_count": 26,
   "id": "4041f1da",
   "metadata": {},
   "outputs": [
    {
     "data": {
      "text/plain": [
       "['MARTA', ' SEBAS', ' GUILLE']"
      ]
     },
     "execution_count": 26,
     "metadata": {},
     "output_type": "execute_result"
    }
   ],
   "source": [
    "lst_chr = lst_chr.replace(\"'\",\"\").replace(\"[\",\"\").replace(\"]\",\"\").split(\",\")\n",
    "lst_chr"
   ]
  },
  {
   "cell_type": "code",
   "execution_count": 28,
   "id": "6617536b",
   "metadata": {},
   "outputs": [
    {
     "data": {
      "text/plain": [
       "['MARTA', 'SEBAS', 'GUILLE']"
      ]
     },
     "execution_count": 28,
     "metadata": {},
     "output_type": "execute_result"
    }
   ],
   "source": [
    "# No queremos operar sobre la lista, sino que sobre SUS elementos\n",
    "lst_chr = [\"marta\",\"sebas\",\"guille\"]\n",
    "lst_chr = [person.upper() for person in lst_chr]\n",
    "lst_chr"
   ]
  },
  {
   "cell_type": "code",
   "execution_count": 29,
   "id": "f2b81eb2",
   "metadata": {},
   "outputs": [
    {
     "name": "stdout",
     "output_type": "stream",
     "text": [
      "HOLA MARTA\n",
      "HOLA SEBAS\n",
      "HOLA GUILLE\n"
     ]
    }
   ],
   "source": [
    "for persona in lst_chr:\n",
    "    print(\"HOLA\",persona)"
   ]
  },
  {
   "cell_type": "code",
   "execution_count": 30,
   "id": "f8c04bce",
   "metadata": {},
   "outputs": [
    {
     "data": {
      "text/plain": [
       "[1, 4, 9, 16, 25]"
      ]
     },
     "execution_count": 30,
     "metadata": {},
     "output_type": "execute_result"
    }
   ],
   "source": [
    "[num**2 for num in lst]"
   ]
  },
  {
   "cell_type": "markdown",
   "id": "75c9c229",
   "metadata": {},
   "source": [
    "Obtenemos con ambas sintaxis el mismo resultado. 😁"
   ]
  },
  {
   "cell_type": "markdown",
   "id": "1af7b488",
   "metadata": {},
   "source": [
    "### With ternary\n",
    "Pero muchas veces utilizamos condicionales en los bucles.\n",
    "\n",
    "¡Salió la vacuna! Pero de momento, en la República de Core, solo pueden vacunarse aquellas personas que tienen la letra a en su nombre."
   ]
  },
  {
   "cell_type": "code",
   "execution_count": 31,
   "id": "9cd35b99",
   "metadata": {},
   "outputs": [
    {
     "data": {
      "text/plain": [
       "['Marc😷💉',\n",
       " 'Marcos😷💉',\n",
       " 'Felipe😷🏠',\n",
       " 'Juan😷💉',\n",
       " 'Daniel😷💉',\n",
       " 'Javier😷💉',\n",
       " 'Denisse😷🏠',\n",
       " 'Henrry😷🏠',\n",
       " 'Mauricio😷💉']"
      ]
     },
     "execution_count": 31,
     "metadata": {},
     "output_type": "execute_result"
    }
   ],
   "source": [
    "# Loop tradicional\n",
    "bdml_vacuna = []\n",
    "for person in bdml:\n",
    "    if \"a\" in person:\n",
    "        bdml_vacuna.append(person+\"💉\")\n",
    "    else:\n",
    "        bdml_vacuna.append(person+\"🏠\")\n",
    "bdml_vacuna"
   ]
  },
  {
   "cell_type": "markdown",
   "id": "ed755906",
   "metadata": {},
   "source": [
    "La operación que hemos hecho anteriormente con el `if...else` también la podríamos hacer con un ternário, un tipo especial de asignación condicional."
   ]
  },
  {
   "cell_type": "code",
   "execution_count": 34,
   "id": "2dc27add",
   "metadata": {},
   "outputs": [],
   "source": [
    "# Ternario\n",
    "x = 8\n",
    "if x % 2 == 0:\n",
    "    value=\"par\"\n",
    "else:\n",
    "    value=\"impar\""
   ]
  },
  {
   "cell_type": "code",
   "execution_count": 35,
   "id": "5fceb237",
   "metadata": {},
   "outputs": [
    {
     "data": {
      "text/plain": [
       "'par'"
      ]
     },
     "execution_count": 35,
     "metadata": {},
     "output_type": "execute_result"
    }
   ],
   "source": [
    "value"
   ]
  },
  {
   "cell_type": "markdown",
   "id": "76e046dc",
   "metadata": {},
   "source": [
    "```python\n",
    "<VARIABLE> = <VALUE_IF_TRUE> if <CONDITION> else <VALUE_IF_FALSE>\n",
    "````"
   ]
  },
  {
   "cell_type": "code",
   "execution_count": 37,
   "id": "e52a227b",
   "metadata": {},
   "outputs": [
    {
     "data": {
      "text/plain": [
       "'impar'"
      ]
     },
     "execution_count": 37,
     "metadata": {},
     "output_type": "execute_result"
    }
   ],
   "source": [
    "x = 7\n",
    "value = \"par\" if x % 2 == 0 else \"impar\"\n",
    "value"
   ]
  },
  {
   "cell_type": "markdown",
   "id": "edd9d0a4",
   "metadata": {},
   "source": [
    "Operación asignación:\n",
    "```python\n",
    "<VARIABLE> = <ELEMENT>\n",
    "```"
   ]
  },
  {
   "cell_type": "code",
   "execution_count": 40,
   "id": "3c7e0015",
   "metadata": {},
   "outputs": [
    {
     "name": "stdout",
     "output_type": "stream",
     "text": [
      "6\n"
     ]
    }
   ],
   "source": [
    "x = sum([1,2,3])\n",
    "print(x)"
   ]
  },
  {
   "cell_type": "code",
   "execution_count": 42,
   "id": "76c3abfd",
   "metadata": {},
   "outputs": [
    {
     "data": {
      "text/plain": [
       "'IMPAR'"
      ]
     },
     "execution_count": 42,
     "metadata": {},
     "output_type": "execute_result"
    }
   ],
   "source": [
    "x=7\n",
    "(\"par\" if x % 2 == 0 else \"impar\").upper()"
   ]
  },
  {
   "cell_type": "code",
   "execution_count": 46,
   "id": "256af404",
   "metadata": {},
   "outputs": [
    {
     "ename": "NameError",
     "evalue": "name 'y' is not defined",
     "output_type": "error",
     "traceback": [
      "\u001b[0;31m---------------------------------------------------------------------------\u001b[0m",
      "\u001b[0;31mNameError\u001b[0m                                 Traceback (most recent call last)",
      "\u001b[0;32m/var/folders/xc/2hbgx_ys6pn64tvbcj1r62qw0000gn/T/ipykernel_53056/1403445762.py\u001b[0m in \u001b[0;36m<module>\u001b[0;34m\u001b[0m\n\u001b[1;32m      2\u001b[0m \u001b[0;32mif\u001b[0m \u001b[0mx\u001b[0m \u001b[0;34m>\u001b[0m \u001b[0;36m50\u001b[0m\u001b[0;34m:\u001b[0m\u001b[0;34m\u001b[0m\u001b[0;34m\u001b[0m\u001b[0m\n\u001b[1;32m      3\u001b[0m     \u001b[0my\u001b[0m \u001b[0;34m=\u001b[0m \u001b[0;34m\"grande\"\u001b[0m\u001b[0;34m\u001b[0m\u001b[0;34m\u001b[0m\u001b[0m\n\u001b[0;32m----> 4\u001b[0;31m \u001b[0mprint\u001b[0m\u001b[0;34m(\u001b[0m\u001b[0my\u001b[0m\u001b[0;34m)\u001b[0m\u001b[0;34m\u001b[0m\u001b[0;34m\u001b[0m\u001b[0m\n\u001b[0m",
      "\u001b[0;31mNameError\u001b[0m: name 'y' is not defined"
     ]
    }
   ],
   "source": [
    "x = 45\n",
    "if x > 50:\n",
    "    y = \"grande\" # No llega a ejecutarse\n",
    "print(y) # No existe variable y"
   ]
  },
  {
   "cell_type": "markdown",
   "id": "685e0504",
   "metadata": {},
   "source": [
    "`En los ternarios ~siempre~ debe haber un else`"
   ]
  },
  {
   "cell_type": "code",
   "execution_count": 56,
   "id": "c767343f",
   "metadata": {},
   "outputs": [
    {
     "data": {
      "text/plain": [
       "['Marc😷💉',\n",
       " 'Marcos😷💉',\n",
       " 'Felipe😷',\n",
       " 'Juan😷💉',\n",
       " 'Daniel😷💉',\n",
       " 'Javier😷💉',\n",
       " 'Denisse😷',\n",
       " 'Henrry😷',\n",
       " 'Mauricio😷💉']"
      ]
     },
     "execution_count": 56,
     "metadata": {},
     "output_type": "execute_result"
    }
   ],
   "source": [
    "# Rehacemos el loop con el ternario\n",
    "# [ <ELEMENT> for <VAR> in <ITERABLE> ]\n",
    "# person+\"💉\" if \"a\" in person else person = <TERNARY> = <ELEMENT>\n",
    "[person+\"💉\" if \"a\" in person else person for person in bdml]"
   ]
  },
  {
   "cell_type": "markdown",
   "id": "6f0ce4f1",
   "metadata": {},
   "source": [
    "En el list comprehension también podemos utilizar el ternario.\n",
    "\n",
    "```python\n",
    "[ <ELEMENT | TERNARY>  <LOOP> ]\n",
    "```\n",
    "\n",
    "Aprovechamos la oportunidad del list comprehension para enviar a casa todas aquellas personas que no esten vacunadas."
   ]
  },
  {
   "cell_type": "code",
   "execution_count": 58,
   "id": "0262997c",
   "metadata": {},
   "outputs": [
    {
     "data": {
      "text/plain": [
       "['Marc😷💉',\n",
       " 'Marcos😷💉',\n",
       " 'Felipe😷🏠',\n",
       " 'Juan😷💉',\n",
       " 'Daniel😷💉',\n",
       " 'Javier😷💉',\n",
       " 'Denisse😷🏠',\n",
       " 'Henrry😷🏠',\n",
       " 'Mauricio😷💉']"
      ]
     },
     "execution_count": 58,
     "metadata": {},
     "output_type": "execute_result"
    }
   ],
   "source": [
    "bdml = [person+\"💉\" if \"a\" in person else person+\"🏠\" for person in bdml]\n",
    "bdml"
   ]
  },
  {
   "cell_type": "markdown",
   "id": "0fa94b7e",
   "metadata": {},
   "source": [
    "Ahora que todos estan o vacunados o en sus casas, ya nadie necesita utilizar la mascarilla. ¡Libertad!"
   ]
  },
  {
   "cell_type": "code",
   "execution_count": 62,
   "id": "d93f7a3c",
   "metadata": {},
   "outputs": [
    {
     "data": {
      "text/plain": [
       "['Marc💉',\n",
       " 'Marcos💉',\n",
       " 'Felipe🏠',\n",
       " 'Juan💉',\n",
       " 'Daniel💉',\n",
       " 'Javier💉',\n",
       " 'Denisse🏠',\n",
       " 'Henrry🏠',\n",
       " 'Mauricio💉']"
      ]
     },
     "execution_count": 62,
     "metadata": {},
     "output_type": "execute_result"
    }
   ],
   "source": [
    "bdml = [person.replace(\"😷\",\"\") for person in bdml]\n",
    "bdml"
   ]
  },
  {
   "cell_type": "markdown",
   "id": "cf9c4db7",
   "metadata": {},
   "source": [
    "### With condition filtering\n",
    "\n",
    "Pero ¿y si tuvieramos un `if` sin `else` en el bucle?\n",
    "\n",
    "En ese caso obtendríamos un resultado diferente. Los afortunados de recibir la vacuna decidieron ir a un restaurante y van llamar para hacer una reserva. Necesitan una lista con solo vacunados."
   ]
  },
  {
   "cell_type": "code",
   "execution_count": 63,
   "id": "9ecfd0c9",
   "metadata": {},
   "outputs": [
    {
     "data": {
      "text/plain": [
       "['Marc💉', 'Marcos💉', 'Juan💉', 'Daniel💉', 'Javier💉', 'Mauricio💉']"
      ]
     },
     "execution_count": 63,
     "metadata": {},
     "output_type": "execute_result"
    }
   ],
   "source": [
    "bar = []\n",
    "for p in bdml:\n",
    "    if \"💉\" in p:\n",
    "        bar.append(p)\n",
    "bar"
   ]
  },
  {
   "cell_type": "markdown",
   "id": "278a2f46",
   "metadata": {},
   "source": [
    "Como hemos hecho un tipo de `filtrado condicional`, la lista resultante puede tener menos elementos que el iterable original. Si intentamos repetir lo anterior con el list comprehension, vamos obtener un mensaje de error."
   ]
  },
  {
   "cell_type": "code",
   "execution_count": 65,
   "id": "75b685d4",
   "metadata": {},
   "outputs": [
    {
     "ename": "SyntaxError",
     "evalue": "invalid syntax (2953017793.py, line 1)",
     "output_type": "error",
     "traceback": [
      "\u001b[0;36m  File \u001b[0;32m\"/var/folders/xc/2hbgx_ys6pn64tvbcj1r62qw0000gn/T/ipykernel_53056/2953017793.py\"\u001b[0;36m, line \u001b[0;32m1\u001b[0m\n\u001b[0;31m    [person if \"💉\" in person for person in bdml]\u001b[0m\n\u001b[0m                             ^\u001b[0m\n\u001b[0;31mSyntaxError\u001b[0m\u001b[0;31m:\u001b[0m invalid syntax\n"
     ]
    }
   ],
   "source": [
    "[person if \"💉\" in person for person in bdml]"
   ]
  },
  {
   "cell_type": "markdown",
   "id": "62668753",
   "metadata": {},
   "source": [
    "Eso es porque el `if` que hace ese tipo de `filtrado` no puede estar en esa posición del list comprehension, sino que tiene que ir al final, después del `for`.\n",
    "\n",
    "```python\n",
    "[ <ELEMENT | TERNARY>     <LOOP>     <CONDITIONAL (filtering)> ]\n",
    "```\n",
    "\n",
    "Esa siempre será la posición de las diferentes partes en un list comprehension."
   ]
  },
  {
   "cell_type": "code",
   "execution_count": 67,
   "id": "d8b3d3f9",
   "metadata": {},
   "outputs": [
    {
     "data": {
      "text/plain": [
       "['Marc💉', 'Marcos💉', 'Juan💉', 'Daniel💉', 'Javier💉', 'Mauricio💉']"
      ]
     },
     "execution_count": 67,
     "metadata": {},
     "output_type": "execute_result"
    }
   ],
   "source": [
    "# Usando el list comprehension\n",
    "[p       for p in bdml          if \"💉\" in p]"
   ]
  },
  {
   "cell_type": "code",
   "execution_count": 68,
   "id": "9807f61f",
   "metadata": {},
   "outputs": [],
   "source": [
    "lst = [1,\"4\",2,5,\"2\",4,5,\"2\",\"67\",9,0,\"3\",5]"
   ]
  },
  {
   "cell_type": "code",
   "execution_count": 72,
   "id": "4f03eaaa",
   "metadata": {},
   "outputs": [
    {
     "data": {
      "text/plain": [
       "[1, 'STRING', 2, 5, 'STRING', 4, 5, 'STRING', 'STRING', 9, 0, 'STRING', 5]"
      ]
     },
     "execution_count": 72,
     "metadata": {},
     "output_type": "execute_result"
    }
   ],
   "source": [
    "# Todos elementos, pero:\n",
    "# int -> x\n",
    "# str -> \"STRING\"\n",
    "\n",
    "[x if type(x) == int else \"STRING\" for x in lst]"
   ]
  },
  {
   "cell_type": "code",
   "execution_count": 73,
   "id": "5ede977f",
   "metadata": {},
   "outputs": [
    {
     "data": {
      "text/plain": [
       "[1, 2, 5, 4, 5, 9, 0, 5]"
      ]
     },
     "execution_count": 73,
     "metadata": {},
     "output_type": "execute_result"
    }
   ],
   "source": [
    "# Filtrar la lista para obtener solo los int\n",
    "[x for x in lst if type(x)==int]"
   ]
  },
  {
   "cell_type": "code",
   "execution_count": 74,
   "id": "9a7ac90f",
   "metadata": {},
   "outputs": [
    {
     "data": {
      "text/plain": [
       "[1, 'STRING', 2, 5, 'STRING', 4, 5, 'STRING', 'STRING', 9, 0, 'STRING', 5]"
      ]
     },
     "execution_count": 74,
     "metadata": {},
     "output_type": "execute_result"
    }
   ],
   "source": [
    "## Ternario Y filtrado\n",
    "\n",
    "lst = [1,\"4\",False,2,5,\"2\",True,4,5,\"2\",\"67\",9,0,\"3\",5,False]\n",
    "# int -> x\n",
    "# str -> \"STRING\"\n",
    "# bool -> No incluir\n",
    "\n",
    "[x if type(x) == int else \"STRING\" for x in lst if type(x)!=bool]"
   ]
  },
  {
   "cell_type": "markdown",
   "id": "9b0e992e",
   "metadata": {},
   "source": [
    "### If in List Comprehension\n",
    "\n",
    "> **Ternary**\n",
    ">\n",
    "> - Para eligir una u otra opción para un valor\n",
    "> - Va en el elemento, antes del `for`\n",
    "> - Siempre debe que contener un `else`\n",
    "> - La lista resultante tendrá la `misma` longitud que el numero de iteraciones\n",
    "\n",
    "> **Filtering**\n",
    ">\n",
    "> - Para decidir cuando poner un elemento o no\n",
    "> - Va al final del list comprehension, despues del `for`\n",
    "> - No debe que contener un `else`\n",
    "> - La lista resultante tendrá entre 0 elementos y el numero de iteraciones.\n",
    ">     - 0 : Ningun elemento cumple la condición\n",
    ">     - Numero de iteraciones : Todos los elementos cumplen la condición"
   ]
  },
  {
   "cell_type": "code",
   "execution_count": 78,
   "id": "ac67728f",
   "metadata": {},
   "outputs": [
    {
     "name": "stdout",
     "output_type": "stream",
     "text": [
      "23\n"
     ]
    }
   ],
   "source": [
    "lst = [5,4,2,7,5]\n",
    "small = 0\n",
    "for num in lst:\n",
    "    if num < 6:\n",
    "        small += 1\n",
    "if small >=4:\n",
    "    print(sum(lst))"
   ]
  },
  {
   "cell_type": "code",
   "execution_count": 80,
   "id": "9359e664",
   "metadata": {},
   "outputs": [],
   "source": [
    "lst = [5,4,2,7,6]\n",
    "if len([num for num in lst if num <6]) >= 4:\n",
    "    print(sum(lst))"
   ]
  },
  {
   "cell_type": "markdown",
   "id": "cd487bfe",
   "metadata": {},
   "source": [
    "## Nested List Comprehension\n",
    "\n",
    "Muchas veces no tenemos apenas un bucle for, sino que más de uno anidados, i.e.: uno dentro del otro.\n",
    "\n",
    "Veamos la siguiente lista de secuencias de peliculas."
   ]
  },
  {
   "cell_type": "code",
   "execution_count": 82,
   "id": "54e591d6",
   "metadata": {},
   "outputs": [
    {
     "name": "stdout",
     "output_type": "stream",
     "text": [
      "[['Avengers', 'Age of Ultron', 'Infinity War', 'Endgame'], ['Avatar', 'Avatar 2'], ['It', 'It 2']]\n"
     ]
    }
   ],
   "source": [
    "movies = [\n",
    "    [\"Avengers\",\"Age of Ultron\",\"Infinity War\",\"Endgame\"],\n",
    "    [\"Avatar\",\"Avatar 2\"],\n",
    "    [\"It\",\"It 2\"]\n",
    "]\n",
    "\n",
    "print(movies)"
   ]
  },
  {
   "cell_type": "code",
   "execution_count": null,
   "id": "39ce1e07",
   "metadata": {},
   "outputs": [],
   "source": [
    "[\"Avengers\",\"Age of Ultron\",\"Infinity War\",\"Endgame\",\"Avatar\",\"Avatar 2\",\"It\",\"It 2\"]"
   ]
  },
  {
   "cell_type": "markdown",
   "id": "bcd88bda",
   "metadata": {},
   "source": [
    "¿Como convertimos esa lista de listas en una unica lista con todas las peliculas?"
   ]
  },
  {
   "cell_type": "code",
   "execution_count": 86,
   "id": "741e4504",
   "metadata": {},
   "outputs": [
    {
     "data": {
      "text/plain": [
       "['Avengers',\n",
       " 'Age of Ultron',\n",
       " 'Infinity War',\n",
       " 'Endgame',\n",
       " 'Avatar',\n",
       " 'Avatar 2',\n",
       " 'It',\n",
       " 'It 2']"
      ]
     },
     "execution_count": 86,
     "metadata": {},
     "output_type": "execute_result"
    }
   ],
   "source": [
    "# Loop Tradicional\n",
    "movies_flatted = []\n",
    "for film_series in movies:\n",
    "    for film in film_series:\n",
    "        movies_flatted.append(film)\n",
    "movies_flatted"
   ]
  },
  {
   "cell_type": "code",
   "execution_count": 87,
   "id": "ff9ba993",
   "metadata": {},
   "outputs": [
    {
     "data": {
      "text/plain": [
       "['Avengers',\n",
       " 'Age of Ultron',\n",
       " 'Infinity War',\n",
       " 'Endgame',\n",
       " 'Avatar',\n",
       " 'Avatar 2',\n",
       " 'It',\n",
       " 'It 2']"
      ]
     },
     "execution_count": 87,
     "metadata": {},
     "output_type": "execute_result"
    }
   ],
   "source": [
    "movies_flatted = []\n",
    "for i in range(len(movies)):\n",
    "    for j in range(len(movies[i])):\n",
    "        movies_flatted.append(movies[i][j])\n",
    "movies_flatted"
   ]
  },
  {
   "cell_type": "code",
   "execution_count": 88,
   "id": "b854eb13",
   "metadata": {},
   "outputs": [
    {
     "data": {
      "text/plain": [
       "['Avengers', 'Age of Ultron', 'Infinity War', 'Endgame']"
      ]
     },
     "execution_count": 88,
     "metadata": {},
     "output_type": "execute_result"
    }
   ],
   "source": [
    "movies[0]"
   ]
  },
  {
   "cell_type": "code",
   "execution_count": 90,
   "id": "56264847",
   "metadata": {},
   "outputs": [
    {
     "data": {
      "text/plain": [
       "'Infinity War'"
      ]
     },
     "execution_count": 90,
     "metadata": {},
     "output_type": "execute_result"
    }
   ],
   "source": [
    "movies[0][2]"
   ]
  },
  {
   "cell_type": "markdown",
   "id": "5b22003f",
   "metadata": {},
   "source": [
    "Para hacer el mismo proceso con un list comprehension, debemos seguir la misma estrutura que antes, pero debemos asegurarnos que los list comprehension siempre sigan el orden del mayor al menor, de la izquierda a la derecha. Eso es, deben estar en el list comprehension en el mismo orden que en el bucle tradicional.\n",
    "\n",
    "`Note: La operación de convertir un array de multiples dimensiones en un array de una unica dimension se llama FLATTENING`\n",
    "\n",
    "Siempre del más exterior al más interior, como las muñecas rusas:\n",
    "\n",
    "![Matryoshka](img/matryoshka.png)"
   ]
  },
  {
   "cell_type": "code",
   "execution_count": 93,
   "id": "7ebf3efa",
   "metadata": {},
   "outputs": [
    {
     "data": {
      "text/plain": [
       "['Avengers',\n",
       " 'Age of Ultron',\n",
       " 'Infinity War',\n",
       " 'Endgame',\n",
       " 'Avatar',\n",
       " 'Avatar 2',\n",
       " 'It',\n",
       " 'It 2']"
      ]
     },
     "execution_count": 93,
     "metadata": {},
     "output_type": "execute_result"
    }
   ],
   "source": [
    "[film for film_series in movies for film in film_series]"
   ]
  },
  {
   "cell_type": "markdown",
   "id": "f1023042",
   "metadata": {},
   "source": [
    "## Dict Comprehension\n",
    "\n",
    "A los `pythoneers` y `pythonistas` les encanta tanto la sintaxis de los list comprehension que decidieron hacer esa sintaxis también aplicable a los diccionários. Por lo tanto, además de crear listas con esa sintaxis, también podemos crear dicionarios.\n",
    "\n",
    "Vamos ver que opina la clase de algunas peliculas."
   ]
  },
  {
   "cell_type": "code",
   "execution_count": 95,
   "id": "91d19f7b",
   "metadata": {},
   "outputs": [],
   "source": [
    "movies = [\n",
    "    {\n",
    "        \"name\":\"Casablanca\",\n",
    "        \"scores\":[7,6,10]\n",
    "    },\n",
    "    {\n",
    "        \"name\":\"El Padrino\",\n",
    "        \"scores\":[10,10,9,8,8]\n",
    "    },\n",
    "    {\n",
    "        \"name\":\"Jungla de Cristal\",\n",
    "        \"scores\":[10,8,9,10]\n",
    "    },\n",
    "    {\n",
    "        \"name\":\"Star Wars: A New Hope\",\n",
    "        \"scores\":[10,8,3,2]\n",
    "    },\n",
    "    {\n",
    "        \"name\":\"Fight Club\",\n",
    "        \"scores\":[5,7,3,8]\n",
    "    }\n",
    "]"
   ]
  },
  {
   "cell_type": "markdown",
   "id": "b336db60",
   "metadata": {},
   "source": [
    "```python \n",
    "avg_score = {\"Casablanca\":23/3, ...}\n",
    "````"
   ]
  },
  {
   "cell_type": "code",
   "execution_count": 97,
   "id": "f5c23b87",
   "metadata": {},
   "outputs": [
    {
     "data": {
      "text/plain": [
       "{'Casablanca': 7.666666666666667,\n",
       " 'El Padrino': 9.0,\n",
       " 'Jungla de Cristal': 9.25,\n",
       " 'Star Wars: A New Hope': 5.75,\n",
       " 'Fight Club': 5.75}"
      ]
     },
     "execution_count": 97,
     "metadata": {},
     "output_type": "execute_result"
    }
   ],
   "source": [
    "avg_score = {}\n",
    "for pelicula in movies:\n",
    "    suma = 0\n",
    "    for nota in pelicula[\"scores\"]:\n",
    "        suma += nota\n",
    "    media = suma/len(pelicula[\"scores\"])\n",
    "    avg_score[pelicula[\"name\"]] = media\n",
    "avg_score"
   ]
  },
  {
   "cell_type": "code",
   "execution_count": 99,
   "id": "37177998",
   "metadata": {},
   "outputs": [
    {
     "data": {
      "text/plain": [
       "{'Casablanca': 7.666666666666667,\n",
       " 'El Padrino': 9.0,\n",
       " 'Jungla de Cristal': 9.25,\n",
       " 'Star Wars: A New Hope': 5.75,\n",
       " 'Fight Club': 5.75}"
      ]
     },
     "execution_count": 99,
     "metadata": {},
     "output_type": "execute_result"
    }
   ],
   "source": [
    "avg_score = {}\n",
    "for pelicula in movies:\n",
    "    avg_score[pelicula[\"name\"]] = sum(pelicula[\"scores\"])/len(pelicula[\"scores\"])\n",
    "avg_score"
   ]
  },
  {
   "cell_type": "markdown",
   "id": "536b99c6",
   "metadata": {},
   "source": [
    "```python\n",
    "{ <KEY> : <VALUE>    <LOOP>  }\n",
    "```"
   ]
  },
  {
   "cell_type": "code",
   "execution_count": 100,
   "id": "6ed4d259",
   "metadata": {},
   "outputs": [
    {
     "data": {
      "text/plain": [
       "{'Casablanca': 7.666666666666667,\n",
       " 'El Padrino': 9.0,\n",
       " 'Jungla de Cristal': 9.25,\n",
       " 'Star Wars: A New Hope': 5.75,\n",
       " 'Fight Club': 5.75}"
      ]
     },
     "execution_count": 100,
     "metadata": {},
     "output_type": "execute_result"
    }
   ],
   "source": [
    "{pelicula[\"name\"]:sum(pelicula[\"scores\"])/len(pelicula[\"scores\"])   for pelicula in movies}"
   ]
  },
  {
   "cell_type": "code",
   "execution_count": 101,
   "id": "384f991d",
   "metadata": {},
   "outputs": [
    {
     "data": {
      "text/plain": [
       "{'0_power_of_2': 1,\n",
       " '1_power_of_2': 2,\n",
       " '2_power_of_2': 4,\n",
       " '3_power_of_2': 8,\n",
       " '4_power_of_2': 16,\n",
       " '5_power_of_2': 32,\n",
       " '6_power_of_2': 64,\n",
       " '7_power_of_2': 128,\n",
       " '8_power_of_2': 256,\n",
       " '9_power_of_2': 512,\n",
       " '10_power_of_2': 1024,\n",
       " '11_power_of_2': 2048,\n",
       " '12_power_of_2': 4096,\n",
       " '13_power_of_2': 8192,\n",
       " '14_power_of_2': 16384,\n",
       " '15_power_of_2': 32768,\n",
       " '16_power_of_2': 65536,\n",
       " '17_power_of_2': 131072,\n",
       " '18_power_of_2': 262144,\n",
       " '19_power_of_2': 524288,\n",
       " '20_power_of_2': 1048576,\n",
       " '21_power_of_2': 2097152,\n",
       " '22_power_of_2': 4194304,\n",
       " '23_power_of_2': 8388608,\n",
       " '24_power_of_2': 16777216,\n",
       " '25_power_of_2': 33554432,\n",
       " '26_power_of_2': 67108864,\n",
       " '27_power_of_2': 134217728,\n",
       " '28_power_of_2': 268435456,\n",
       " '29_power_of_2': 536870912,\n",
       " '30_power_of_2': 1073741824,\n",
       " '31_power_of_2': 2147483648,\n",
       " '32_power_of_2': 4294967296,\n",
       " '33_power_of_2': 8589934592,\n",
       " '34_power_of_2': 17179869184,\n",
       " '35_power_of_2': 34359738368,\n",
       " '36_power_of_2': 68719476736,\n",
       " '37_power_of_2': 137438953472,\n",
       " '38_power_of_2': 274877906944,\n",
       " '39_power_of_2': 549755813888,\n",
       " '40_power_of_2': 1099511627776,\n",
       " '41_power_of_2': 2199023255552,\n",
       " '42_power_of_2': 4398046511104,\n",
       " '43_power_of_2': 8796093022208,\n",
       " '44_power_of_2': 17592186044416,\n",
       " '45_power_of_2': 35184372088832,\n",
       " '46_power_of_2': 70368744177664,\n",
       " '47_power_of_2': 140737488355328,\n",
       " '48_power_of_2': 281474976710656,\n",
       " '49_power_of_2': 562949953421312,\n",
       " '50_power_of_2': 1125899906842624,\n",
       " '51_power_of_2': 2251799813685248,\n",
       " '52_power_of_2': 4503599627370496,\n",
       " '53_power_of_2': 9007199254740992,\n",
       " '54_power_of_2': 18014398509481984,\n",
       " '55_power_of_2': 36028797018963968,\n",
       " '56_power_of_2': 72057594037927936,\n",
       " '57_power_of_2': 144115188075855872,\n",
       " '58_power_of_2': 288230376151711744,\n",
       " '59_power_of_2': 576460752303423488,\n",
       " '60_power_of_2': 1152921504606846976,\n",
       " '61_power_of_2': 2305843009213693952,\n",
       " '62_power_of_2': 4611686018427387904,\n",
       " '63_power_of_2': 9223372036854775808,\n",
       " '64_power_of_2': 18446744073709551616,\n",
       " '65_power_of_2': 36893488147419103232,\n",
       " '66_power_of_2': 73786976294838206464,\n",
       " '67_power_of_2': 147573952589676412928,\n",
       " '68_power_of_2': 295147905179352825856,\n",
       " '69_power_of_2': 590295810358705651712,\n",
       " '70_power_of_2': 1180591620717411303424,\n",
       " '71_power_of_2': 2361183241434822606848,\n",
       " '72_power_of_2': 4722366482869645213696,\n",
       " '73_power_of_2': 9444732965739290427392,\n",
       " '74_power_of_2': 18889465931478580854784,\n",
       " '75_power_of_2': 37778931862957161709568,\n",
       " '76_power_of_2': 75557863725914323419136,\n",
       " '77_power_of_2': 151115727451828646838272,\n",
       " '78_power_of_2': 302231454903657293676544,\n",
       " '79_power_of_2': 604462909807314587353088,\n",
       " '80_power_of_2': 1208925819614629174706176,\n",
       " '81_power_of_2': 2417851639229258349412352,\n",
       " '82_power_of_2': 4835703278458516698824704,\n",
       " '83_power_of_2': 9671406556917033397649408,\n",
       " '84_power_of_2': 19342813113834066795298816,\n",
       " '85_power_of_2': 38685626227668133590597632,\n",
       " '86_power_of_2': 77371252455336267181195264,\n",
       " '87_power_of_2': 154742504910672534362390528,\n",
       " '88_power_of_2': 309485009821345068724781056,\n",
       " '89_power_of_2': 618970019642690137449562112,\n",
       " '90_power_of_2': 1237940039285380274899124224,\n",
       " '91_power_of_2': 2475880078570760549798248448,\n",
       " '92_power_of_2': 4951760157141521099596496896,\n",
       " '93_power_of_2': 9903520314283042199192993792,\n",
       " '94_power_of_2': 19807040628566084398385987584,\n",
       " '95_power_of_2': 39614081257132168796771975168,\n",
       " '96_power_of_2': 79228162514264337593543950336,\n",
       " '97_power_of_2': 158456325028528675187087900672,\n",
       " '98_power_of_2': 316912650057057350374175801344,\n",
       " '99_power_of_2': 633825300114114700748351602688}"
      ]
     },
     "execution_count": 101,
     "metadata": {},
     "output_type": "execute_result"
    }
   ],
   "source": [
    "{ f\"{num}_power_of_2\":2**num for num in range(100)}"
   ]
  },
  {
   "cell_type": "code",
   "execution_count": 102,
   "id": "04a054fe",
   "metadata": {},
   "outputs": [],
   "source": [
    "# if..elif..else\n",
    "\n",
    "lst = np.random.randint(0,11,20)"
   ]
  },
  {
   "cell_type": "code",
   "execution_count": 103,
   "id": "7e5564da",
   "metadata": {},
   "outputs": [
    {
     "data": {
      "text/plain": [
       "array([0, 2, 0, 1, 8, 2, 5, 9, 9, 0, 7, 3, 5, 1, 0, 0, 2, 2, 6, 2])"
      ]
     },
     "execution_count": 103,
     "metadata": {},
     "output_type": "execute_result"
    }
   ],
   "source": [
    "lst"
   ]
  },
  {
   "cell_type": "code",
   "execution_count": 109,
   "id": "0e6e2c80",
   "metadata": {},
   "outputs": [
    {
     "name": "stdout",
     "output_type": "stream",
     "text": [
      "['low', 'low', 'low', 'low', 'high', 'low', 'perfect', 'high', 'high', 'low', 'high', 'low', 'perfect', 'low', 'low', 'low', 'low', 'low', 'high', 'low']\n"
     ]
    }
   ],
   "source": [
    "# \"low\" -> x< 5\n",
    "# \"high\" -> x> 5\n",
    "# \"perfect\" -> x==5\n",
    "\n",
    "res = []\n",
    "\n",
    "for num in lst:\n",
    "    if num < 5:\n",
    "        res.append(\"low\")\n",
    "    elif num > 5:\n",
    "        res.append(\"high\")\n",
    "    else:\n",
    "        res.append(\"perfect\")\n",
    "        \n",
    "print(res)"
   ]
  },
  {
   "cell_type": "code",
   "execution_count": 115,
   "id": "527434ab",
   "metadata": {},
   "outputs": [
    {
     "data": {
      "text/plain": [
       "[('low', 0),\n",
       " ('low', 2),\n",
       " ('low', 0),\n",
       " ('low', 1),\n",
       " 'high 8',\n",
       " ('low', 2),\n",
       " '5 perfect',\n",
       " 'high 9',\n",
       " 'high 9',\n",
       " ('low', 0),\n",
       " 'high 7',\n",
       " ('low', 3),\n",
       " '5 perfect',\n",
       " ('low', 1),\n",
       " ('low', 0),\n",
       " ('low', 0),\n",
       " ('low', 2),\n",
       " ('low', 2),\n",
       " 'high 6',\n",
       " ('low', 2)]"
      ]
     },
     "execution_count": 115,
     "metadata": {},
     "output_type": "execute_result"
    }
   ],
   "source": [
    "[(\"low\",num) if num < 5 else \"high\"+\" \"+str(num) if num > 5 else f\"{num} perfect\" for num in lst]"
   ]
  },
  {
   "cell_type": "code",
   "execution_count": null,
   "id": "fdd23851",
   "metadata": {},
   "outputs": [],
   "source": []
  }
 ],
 "metadata": {
  "kernelspec": {
   "display_name": "Python 3 (ipykernel)",
   "language": "python",
   "name": "python3"
  },
  "language_info": {
   "codemirror_mode": {
    "name": "ipython",
    "version": 3
   },
   "file_extension": ".py",
   "mimetype": "text/x-python",
   "name": "python",
   "nbconvert_exporter": "python",
   "pygments_lexer": "ipython3",
   "version": "3.9.6"
  },
  "toc": {
   "base_numbering": 1,
   "nav_menu": {},
   "number_sections": true,
   "sideBar": true,
   "skip_h1_title": true,
   "title_cell": "Table of Contents",
   "title_sidebar": "Contents",
   "toc_cell": true,
   "toc_position": {
    "height": "calc(100% - 180px)",
    "left": "10px",
    "top": "150px",
    "width": "286px"
   },
   "toc_section_display": true,
   "toc_window_display": false
  }
 },
 "nbformat": 4,
 "nbformat_minor": 5
}
