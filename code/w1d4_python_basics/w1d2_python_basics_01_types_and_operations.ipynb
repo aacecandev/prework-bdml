{
 "cells": [
  {
   "cell_type": "markdown",
   "metadata": {},
   "source": [
    "<img src=\"https://api.brandy.run/core/logo\" width=\"80\"/>\n",
    "\n",
    "# CORE Code School\n",
    "\n",
    "# Python Basics: Data Types and Operations"
   ]
  },
  {
   "cell_type": "markdown",
   "metadata": {
    "toc": true
   },
   "source": [
    "<h1>Table of Contents<span class=\"tocSkip\"></span></h1>\n",
    "<div class=\"toc\"><ul class=\"toc-item\"><li><span><a href=\"#¿Qué-es-Python?\" data-toc-modified-id=\"¿Qué-es-Python?-1\"><span class=\"toc-item-num\">1&nbsp;&nbsp;</span>¿Qué es Python?</a></span><ul class=\"toc-item\"><li><span><a href=\"#El-alto-nivel\" data-toc-modified-id=\"El-alto-nivel-1.1\"><span class=\"toc-item-num\">1.1&nbsp;&nbsp;</span>El alto nivel</a></span></li><li><span><a href=\"#¡Imperativo!\" data-toc-modified-id=\"¡Imperativo!-1.2\"><span class=\"toc-item-num\">1.2&nbsp;&nbsp;</span>¡Imperativo!</a></span></li></ul></li><li><span><a href=\"#La-sintaxis\" data-toc-modified-id=\"La-sintaxis-2\"><span class=\"toc-item-num\">2&nbsp;&nbsp;</span>La sintaxis</a></span><ul class=\"toc-item\"><li><span><a href=\"#Las-variables\" data-toc-modified-id=\"Las-variables-2.1\"><span class=\"toc-item-num\">2.1&nbsp;&nbsp;</span>Las variables</a></span></li></ul></li><li><span><a href=\"#Methods-and-Operations\" data-toc-modified-id=\"Methods-and-Operations-3\"><span class=\"toc-item-num\">3&nbsp;&nbsp;</span>Methods and Operations</a></span><ul class=\"toc-item\"><li><span><a href=\"#String\" data-toc-modified-id=\"String-3.1\"><span class=\"toc-item-num\">3.1&nbsp;&nbsp;</span>String</a></span><ul class=\"toc-item\"><li><span><a href=\"#Operators\" data-toc-modified-id=\"Operators-3.1.1\"><span class=\"toc-item-num\">3.1.1&nbsp;&nbsp;</span>Operators</a></span></li><li><span><a href=\"#Case-methods\" data-toc-modified-id=\"Case-methods-3.1.2\"><span class=\"toc-item-num\">3.1.2&nbsp;&nbsp;</span>Case methods</a></span></li><li><span><a href=\"#Positioning-strings\" data-toc-modified-id=\"Positioning-strings-3.1.3\"><span class=\"toc-item-num\">3.1.3&nbsp;&nbsp;</span>Positioning strings</a></span></li><li><span><a href=\"#Other-methods\" data-toc-modified-id=\"Other-methods-3.1.4\"><span class=\"toc-item-num\">3.1.4&nbsp;&nbsp;</span>Other methods</a></span></li></ul></li><li><span><a href=\"#List\" data-toc-modified-id=\"List-3.2\"><span class=\"toc-item-num\">3.2&nbsp;&nbsp;</span>List</a></span><ul class=\"toc-item\"><li><span><a href=\"#Operators\" data-toc-modified-id=\"Operators-3.2.1\"><span class=\"toc-item-num\">3.2.1&nbsp;&nbsp;</span>Operators</a></span></li><li><span><a href=\"#Including-methods\" data-toc-modified-id=\"Including-methods-3.2.2\"><span class=\"toc-item-num\">3.2.2&nbsp;&nbsp;</span>Including methods</a></span></li><li><span><a href=\"#Removing-methods\" data-toc-modified-id=\"Removing-methods-3.2.3\"><span class=\"toc-item-num\">3.2.3&nbsp;&nbsp;</span>Removing methods</a></span></li><li><span><a href=\"#Other\" data-toc-modified-id=\"Other-3.2.4\"><span class=\"toc-item-num\">3.2.4&nbsp;&nbsp;</span>Other</a></span></li></ul></li><li><span><a href=\"#Tuple\" data-toc-modified-id=\"Tuple-3.3\"><span class=\"toc-item-num\">3.3&nbsp;&nbsp;</span>Tuple</a></span></li><li><span><a href=\"#Dictionary\" data-toc-modified-id=\"Dictionary-3.4\"><span class=\"toc-item-num\">3.4&nbsp;&nbsp;</span>Dictionary</a></span></li><li><span><a href=\"#Set\" data-toc-modified-id=\"Set-3.5\"><span class=\"toc-item-num\">3.5&nbsp;&nbsp;</span>Set</a></span></li></ul></li><li><span><a href=\"#Resources\" data-toc-modified-id=\"Resources-4\"><span class=\"toc-item-num\">4&nbsp;&nbsp;</span>Resources</a></span></li></ul></div>"
   ]
  },
  {
   "cell_type": "code",
   "execution_count": 1,
   "metadata": {},
   "outputs": [],
   "source": [
    "x = 8 ** 5"
   ]
  },
  {
   "cell_type": "markdown",
   "metadata": {},
   "source": [
    "## ¿Qué es Python?\n",
    "[Python](https://en.wikipedia.org/wiki/Python_(programming_language)) es un lenguaje de programación `imperativo` y de `alto nivel`, creado por Guido van Rossum y mantenido por la Python Software Foundation.\n",
    "\n",
    "Ese lenguaje tuvo su lanzamiento en el año 1991. Con más de 30 años, Python sigue siendo un lenguaje de programación moderno, con cada vez más uso en la industria y con una comunidad cada vez mayor de desarolladores dedicados a ese lenguaje.\n",
    "\n",
    "Por su flexibilidad, sintaxis clara y amplo suporte (por su comunidad y gran cantidad de librerias open source) es un favorito entre Data Analysts, Data Scientists, com amplo uso para el Machine Learning y el Big Data.\n",
    "\n",
    "### El alto nivel\n",
    "No es presunción llamar a Python un lenguaje de alto nivel. 😎\n",
    "\n",
    "En programación alto y bajo nivel tiene un significado específico.\n",
    "\n",
    "![High Level](img/high_level.png)\n",
    "\n",
    "Todos los ordenadores dependen de algun tipo de CPU, ese es el componente electrónico responsable por el procesado. Muchas veces oímos que la CPU es el cerebro del ordenador y por lo tanto imaginamos que funcione como nuestro cerebro, pero eso está muy lejos de la verdad. La CPU simplemente procesa impulsos y señales eléctricas que nosotros representamos como unos y ceros.\n",
    "\n",
    "Decir que un lenguaje de programación es de bajo nivel significa que programar en ese lenguaje es programar más cercano a esos señales y impulsos electricos. Sin ninguna abstracción, estariamos basicamente dibujando cosas complejas con componentes muy primitivos.\n",
    "\n",
    "De ahí el nacimieto y evolución de los lenguajes de alto nivel, cuyo proposito es permitir que podamos programar con un lenguaje lo más parecido con un lenguaje natural como el inglés. Eso permite que escribamos programas más complejos y de manera más eficiente, mientras el proprio ordenador maneja los detalles fisicos del procesador. 👾\n",
    "\n",
    "<div style=\"width: 100%;\">\n",
    "        <div style=\"width: 50%; float: left\"> \n",
    "            <img/ src=\"img/cpu.jpeg\">\n",
    "        </div>\n",
    "        <div style=\"margin-left: 50%;;\"> \n",
    "            <img/ src=\"img/cpu_inside.png\" width=400>\n",
    "        </div>\n",
    "    </div>\n",
    "    \n",
    "A la derecha vemos el interior de un procesador 1802, de 8 bit del año 1974. ¡Los ordenadores que tenemos hoy son mucho más complejos!\n",
    "\n",
    "### ¡Imperativo!\n",
    "\n",
    "El hecho de llamar a python (y otros lenguajes) de imperativos tiene que ver con su propósito, dar ordenes. Un script, el codigo de un programa, son una serie de instrucciones para que el ordenador siga. A una serie de instrucciones también se llama `algoritmo`. \n",
    "\n",
    "En un lenguaje de programación de lo más alto nivel posible (inimaginable), programar seria decir al ordenador `haz eso`. Pero todavía no hemos conseguido un ordenador capaz de entender eso. Con lo que tienen de rápidos para la matematica, les falta en logica (y sentido comun). 🤣\n",
    "\n",
    "Por lo tanto tenemos que partir lo que queremos en instrucciones más pequenitas, que los ordenadores puedan comprender. Y para eso usamos de un lenguaje, como Python, que define una serie de reglas estruturadas para eso."
   ]
  },
  {
   "cell_type": "markdown",
   "metadata": {},
   "source": [
    "## La sintaxis\n",
    "\n",
    "Como todo lenguaje, Python tiene sus reglas, a las cuales nos referimos como `sintaxis`. Esas reglas son los elementos básicos del lenguaje y la manera como combinamos y interactuamos con ellos.\n",
    "\n",
    "### Las variables\n",
    "\n",
    "La variable es un contenedor de algun objeto, y esos objetos son los elementos más básicos, los átomos de un programa. En Python, todos los elementos son objetos y esos objetos pueden ser de diferentes tipos:\n",
    "\n",
    "![Data Types](img/data_types.png)\n",
    "\n",
    "Los tipos (o classes) arriba son aquellos que consideramos como los tipos básicos de datos. Además de esos, python contiene por defecto los tipos `None`, `function` y `type`.\n",
    "\n",
    "Pero no nos limitamos a los tipos por defecto, sino que también se pueden crear nuevos tipos. Al largo de nuestra trayectoria en Python utilizaremos objetos de muchos tipos y podremos crear también nuestros próprios.\n",
    "\n",
    "Las variables pueden contener objetos de cualquier tipo, pero es importante conocer los tipos de nuestras variables pues no todas las operaciones son compatibles con cualquier tipo."
   ]
  },
  {
   "cell_type": "code",
   "execution_count": 4,
   "metadata": {},
   "outputs": [
    {
     "name": "stdout",
     "output_type": "stream",
     "text": [
      "<class 'int'>\n",
      "<class 'float'>\n",
      "<class 'complex'>\n",
      "<class 'str'>\n",
      "<class 'tuple'>\n",
      "<class 'list'>\n",
      "<class 'set'>\n",
      "<class 'dict'>\n",
      "<class 'bool'>\n",
      "<class 'NoneType'>\n",
      "<class 'builtin_function_or_method'>\n",
      "<class 'type'>\n"
     ]
    }
   ],
   "source": [
    "for var in [1, 1.0, 1+1j, \"1\", (1,), [1], {1}, {1:1}, True, None, print, str]:\n",
    "    print(type(var))"
   ]
  },
  {
   "cell_type": "code",
   "execution_count": 6,
   "metadata": {},
   "outputs": [
    {
     "name": "stdout",
     "output_type": "stream",
     "text": [
      "3\n"
     ]
    }
   ],
   "source": [
    "print(x)"
   ]
  },
  {
   "cell_type": "markdown",
   "metadata": {},
   "source": [
    "## Methods and Operations\n",
    "En esa lección vamos repasar algunos de los tipos patrón de Python, sus operaciones y metodos. Un metodo es una función, pero que pertenence a un tipo de dato específico. Se pueden identificar por la manera como se llaman a esas funciones.\n",
    "\n",
    "Al llamar un metodo, lo hacemos despues del objeto, separando por un `.`, tal como en:\n",
    "\n",
    "```python\n",
    "string = \"The quick brown fox jumps over the lazy dog\"\n",
    "string.split(\" \")\n",
    "```"
   ]
  },
  {
   "cell_type": "code",
   "execution_count": 2,
   "metadata": {},
   "outputs": [],
   "source": [
    "b = \"The quick brown fox jumps over the lazy dog\"\n",
    "a = b.split(\" \")"
   ]
  },
  {
   "cell_type": "code",
   "execution_count": 5,
   "metadata": {},
   "outputs": [
    {
     "name": "stdout",
     "output_type": "stream",
     "text": [
      "['The', 'quick', 'brown', 'fox', 'jumps', 'over', 'the', 'lazy', 'dog'] <class 'list'>\n",
      "The quick brown fox jumps over the lazy dog <class 'str'>\n"
     ]
    }
   ],
   "source": [
    "print(a,type(a))\n",
    "print(b,type(b))"
   ]
  },
  {
   "cell_type": "markdown",
   "metadata": {},
   "source": [
    "### String\n",
    "Un string es una cadena de texto, i.e.: un contenedor de caracteres. Son ordenados y poséen index. Veamos algunos de sus metodos.\n",
    "\n",
    "#### Operators\n",
    "Los operadores matematicos muchas veces tienen diferentes significados en diferentes tipos de datos. Para los strings, los siguientes operadores:\n",
    "\n",
    "- +\n",
    "El operador `+` significa concatenar strings, poner uno seguido del otro, por lo tanto se usa entre 2 strings.\n",
    "\n",
    "- *\n",
    "La \"multiplicación\" no se usa entre dos strings, sino que entre un string y un entero y significa concatenar el string n veces."
   ]
  },
  {
   "cell_type": "code",
   "execution_count": 6,
   "metadata": {},
   "outputs": [],
   "source": [
    "x = 7\n",
    "x = \"Hello\"\n",
    "x = True\n",
    "x = [1,2,3]"
   ]
  },
  {
   "cell_type": "code",
   "execution_count": 7,
   "metadata": {},
   "outputs": [
    {
     "data": {
      "text/plain": [
       "list"
      ]
     },
     "execution_count": 7,
     "metadata": {},
     "output_type": "execute_result"
    }
   ],
   "source": [
    "type(x)"
   ]
  },
  {
   "cell_type": "code",
   "execution_count": 8,
   "metadata": {},
   "outputs": [],
   "source": [
    "a = \"~\"\n",
    "b = \"*\""
   ]
  },
  {
   "cell_type": "code",
   "execution_count": 9,
   "metadata": {},
   "outputs": [
    {
     "data": {
      "text/plain": [
       "'~~*~~'"
      ]
     },
     "execution_count": 9,
     "metadata": {},
     "output_type": "execute_result"
    }
   ],
   "source": [
    "a + a + b + a + a "
   ]
  },
  {
   "cell_type": "code",
   "execution_count": 10,
   "metadata": {},
   "outputs": [
    {
     "data": {
      "text/plain": [
       "'********************'"
      ]
     },
     "execution_count": 10,
     "metadata": {},
     "output_type": "execute_result"
    }
   ],
   "source": [
    "20*b"
   ]
  },
  {
   "cell_type": "code",
   "execution_count": 11,
   "metadata": {},
   "outputs": [
    {
     "name": "stdout",
     "output_type": "stream",
     "text": [
      "\n",
      "*\n",
      "**\n",
      "***\n",
      "****\n",
      "*****\n",
      "******\n",
      "*******\n",
      "********\n",
      "*********\n"
     ]
    }
   ],
   "source": [
    "for i in range(10):\n",
    "    print(\"*\"*i)"
   ]
  },
  {
   "cell_type": "code",
   "execution_count": 10,
   "metadata": {},
   "outputs": [
    {
     "data": {
      "text/plain": [
       "4"
      ]
     },
     "execution_count": 10,
     "metadata": {},
     "output_type": "execute_result"
    }
   ],
   "source": [
    "2+2"
   ]
  },
  {
   "cell_type": "code",
   "execution_count": 12,
   "metadata": {},
   "outputs": [
    {
     "ename": "TypeError",
     "evalue": "can only concatenate str (not \"int\") to str",
     "output_type": "error",
     "traceback": [
      "\u001b[0;31m---------------------------------------------------------------------------\u001b[0m",
      "\u001b[0;31mTypeError\u001b[0m                                 Traceback (most recent call last)",
      "\u001b[0;32m<ipython-input-12-8c5c1ee15c31>\u001b[0m in \u001b[0;36m<module>\u001b[0;34m\u001b[0m\n\u001b[0;32m----> 1\u001b[0;31m \u001b[0;34m\"2\"\u001b[0m\u001b[0;34m+\u001b[0m\u001b[0;36m2\u001b[0m\u001b[0;34m\u001b[0m\u001b[0;34m\u001b[0m\u001b[0m\n\u001b[0m",
      "\u001b[0;31mTypeError\u001b[0m: can only concatenate str (not \"int\") to str"
     ]
    }
   ],
   "source": [
    "\"2\"+2"
   ]
  },
  {
   "cell_type": "code",
   "execution_count": 12,
   "metadata": {},
   "outputs": [
    {
     "ename": "TypeError",
     "evalue": "can't multiply sequence by non-int of type 'str'",
     "output_type": "error",
     "traceback": [
      "\u001b[0;31m---------------------------------------------------------------------------\u001b[0m",
      "\u001b[0;31mTypeError\u001b[0m                                 Traceback (most recent call last)",
      "\u001b[0;32m/var/folders/xc/2hbgx_ys6pn64tvbcj1r62qw0000gn/T/ipykernel_63555/3507077656.py\u001b[0m in \u001b[0;36m<module>\u001b[0;34m\u001b[0m\n\u001b[0;32m----> 1\u001b[0;31m \u001b[0ma\u001b[0m\u001b[0;34m*\u001b[0m\u001b[0mb\u001b[0m\u001b[0;34m\u001b[0m\u001b[0;34m\u001b[0m\u001b[0m\n\u001b[0m",
      "\u001b[0;31mTypeError\u001b[0m: can't multiply sequence by non-int of type 'str'"
     ]
    }
   ],
   "source": [
    "a*b"
   ]
  },
  {
   "cell_type": "code",
   "execution_count": 13,
   "metadata": {},
   "outputs": [
    {
     "ename": "TypeError",
     "evalue": "can't multiply sequence by non-int of type 'float'",
     "output_type": "error",
     "traceback": [
      "\u001b[0;31m---------------------------------------------------------------------------\u001b[0m",
      "\u001b[0;31mTypeError\u001b[0m                                 Traceback (most recent call last)",
      "\u001b[0;32m/var/folders/xc/2hbgx_ys6pn64tvbcj1r62qw0000gn/T/ipykernel_63555/4140474127.py\u001b[0m in \u001b[0;36m<module>\u001b[0;34m\u001b[0m\n\u001b[0;32m----> 1\u001b[0;31m \u001b[0;36m1.5\u001b[0m\u001b[0;34m*\u001b[0m\u001b[0mb\u001b[0m\u001b[0;34m\u001b[0m\u001b[0;34m\u001b[0m\u001b[0m\n\u001b[0m",
      "\u001b[0;31mTypeError\u001b[0m: can't multiply sequence by non-int of type 'float'"
     ]
    }
   ],
   "source": [
    "1.5*b"
   ]
  },
  {
   "cell_type": "code",
   "execution_count": 19,
   "metadata": {},
   "outputs": [
    {
     "name": "stdout",
     "output_type": "stream",
     "text": [
      "1\n",
      "2\n",
      "3\n",
      "0\n",
      "1\n",
      "2\n",
      "3\n",
      "0\n",
      "1\n",
      "2\n"
     ]
    }
   ],
   "source": [
    "c = 0\n",
    "for i in range(10):\n",
    "    c = (c+1)%4\n",
    "    print(c)"
   ]
  },
  {
   "cell_type": "markdown",
   "metadata": {},
   "source": [
    "#### Case methods\n",
    "Hay algunos metodos particulares de los strings que se usan para verificar y convertir los caracteres en el string."
   ]
  },
  {
   "cell_type": "code",
   "execution_count": 23,
   "metadata": {},
   "outputs": [
    {
     "data": {
      "text/plain": [
       "True"
      ]
     },
     "execution_count": 23,
     "metadata": {},
     "output_type": "execute_result"
    }
   ],
   "source": [
    "# Check characters (alpha, numeric)\n",
    "letters = \"abcdefghijklmnopqrstuvwxyz\"\n",
    "nums = \"123456789\"\n",
    "\n",
    "letters.isalpha()"
   ]
  },
  {
   "cell_type": "code",
   "execution_count": 24,
   "metadata": {},
   "outputs": [
    {
     "data": {
      "text/plain": [
       "False"
      ]
     },
     "execution_count": 24,
     "metadata": {},
     "output_type": "execute_result"
    }
   ],
   "source": [
    "nums.isalpha()"
   ]
  },
  {
   "cell_type": "code",
   "execution_count": 37,
   "metadata": {},
   "outputs": [
    {
     "name": "stdout",
     "output_type": "stream",
     "text": [
      "Hola Soy \"Marc\"\n"
     ]
    },
    {
     "data": {
      "text/plain": [
       "False"
      ]
     },
     "execution_count": 37,
     "metadata": {},
     "output_type": "execute_result"
    }
   ],
   "source": [
    "x = \"Hola Soy \\\"Marc\\\"\"\n",
    "print(x)\n",
    "x.isnumeric()"
   ]
  },
  {
   "cell_type": "code",
   "execution_count": 38,
   "metadata": {},
   "outputs": [
    {
     "name": "stdout",
     "output_type": "stream",
     "text": [
      "['UPPER CASE', 'lower case', 'MiXeD CaSe', '123 ·$%&']\n",
      "False\n",
      "True\n",
      "False\n",
      "False\n"
     ]
    }
   ],
   "source": [
    "up = \"UPPER CASE\"\n",
    "low = \"lower case\"\n",
    "mixed = \"MiXeD CaSe\"\n",
    "other = \"123 ·$%&\"\n",
    "# isupper and islower\n",
    "print([up,low,mixed,other])\n",
    "\n",
    "for string in [up,low,mixed,other]:\n",
    "    print(string.islower())"
   ]
  },
  {
   "cell_type": "code",
   "execution_count": 39,
   "metadata": {},
   "outputs": [
    {
     "name": "stdout",
     "output_type": "stream",
     "text": [
      "True\n",
      "False\n",
      "True\n",
      "False\n",
      "True\n",
      "False\n",
      "True\n",
      "False\n",
      "True\n",
      "False\n"
     ]
    }
   ],
   "source": [
    "for letter in mixed:\n",
    "    print(letter.isupper())"
   ]
  },
  {
   "cell_type": "code",
   "execution_count": 40,
   "metadata": {},
   "outputs": [
    {
     "data": {
      "text/plain": [
       "str"
      ]
     },
     "execution_count": 40,
     "metadata": {},
     "output_type": "execute_result"
    }
   ],
   "source": [
    "type(mixed[4])"
   ]
  },
  {
   "cell_type": "code",
   "execution_count": 41,
   "metadata": {},
   "outputs": [
    {
     "data": {
      "text/plain": [
       "'D'"
      ]
     },
     "execution_count": 41,
     "metadata": {},
     "output_type": "execute_result"
    }
   ],
   "source": [
    "mixed[4]"
   ]
  },
  {
   "cell_type": "code",
   "execution_count": 27,
   "metadata": {},
   "outputs": [
    {
     "data": {
      "text/plain": [
       "'LOWER CASE'"
      ]
     },
     "execution_count": 27,
     "metadata": {},
     "output_type": "execute_result"
    }
   ],
   "source": [
    "# Change cases (upper,lower,capitalize,title,swapcase)\n",
    "low.upper()"
   ]
  },
  {
   "cell_type": "code",
   "execution_count": 43,
   "metadata": {},
   "outputs": [
    {
     "data": {
      "text/plain": [
       "'PEPE'"
      ]
     },
     "execution_count": 43,
     "metadata": {},
     "output_type": "execute_result"
    }
   ],
   "source": [
    "x = \"pepe\"\n",
    "x.upper()"
   ]
  },
  {
   "cell_type": "code",
   "execution_count": 28,
   "metadata": {},
   "outputs": [
    {
     "name": "stdout",
     "output_type": "stream",
     "text": [
      "lower case\n"
     ]
    }
   ],
   "source": [
    "print(low)"
   ]
  },
  {
   "cell_type": "code",
   "execution_count": 44,
   "metadata": {},
   "outputs": [
    {
     "name": "stdout",
     "output_type": "stream",
     "text": [
      "LOWER CASE\n"
     ]
    }
   ],
   "source": [
    "x = low.upper()\n",
    "print(x)"
   ]
  },
  {
   "cell_type": "code",
   "execution_count": 45,
   "metadata": {},
   "outputs": [],
   "source": [
    "low = low.upper()"
   ]
  },
  {
   "cell_type": "code",
   "execution_count": 48,
   "metadata": {},
   "outputs": [
    {
     "name": "stdout",
     "output_type": "stream",
     "text": [
      "LOWER CASE\n"
     ]
    }
   ],
   "source": [
    "print(low)"
   ]
  },
  {
   "cell_type": "markdown",
   "metadata": {},
   "source": [
    "#### Positioning strings\n",
    "Metodos usados para cambiar la posición de los caracteres en los strings."
   ]
  },
  {
   "cell_type": "code",
   "execution_count": 54,
   "metadata": {},
   "outputs": [
    {
     "name": "stdout",
     "output_type": "stream",
     "text": [
      "    core    \n",
      "core\n"
     ]
    }
   ],
   "source": [
    "# strip\n",
    "# Se usa strip para remover caracteres (sobretodo espacios) que sobren el los extremos de los strings\n",
    "trailing = \"    core    \"\n",
    "# l y r se refieren a left y right\n",
    "print(trailing)\n",
    "print(trailing.strip())"
   ]
  },
  {
   "cell_type": "code",
   "execution_count": 33,
   "metadata": {},
   "outputs": [
    {
     "data": {
      "text/plain": [
       "'    core'"
      ]
     },
     "execution_count": 33,
     "metadata": {},
     "output_type": "execute_result"
    }
   ],
   "source": [
    "trailing.rstrip()"
   ]
  },
  {
   "cell_type": "code",
   "execution_count": 58,
   "metadata": {},
   "outputs": [
    {
     "data": {
      "text/plain": [
       "'   CORE   '"
      ]
     },
     "execution_count": 58,
     "metadata": {},
     "output_type": "execute_result"
    }
   ],
   "source": [
    "# center and justify\n",
    "# El entero es el numero total de caracteres en el resultado\n",
    "core = \"CORE\"\n",
    "\n",
    "res = core.center(10)\n",
    "res"
   ]
  },
  {
   "cell_type": "code",
   "execution_count": 59,
   "metadata": {},
   "outputs": [
    {
     "data": {
      "text/plain": [
       "10"
      ]
     },
     "execution_count": 59,
     "metadata": {},
     "output_type": "execute_result"
    }
   ],
   "source": [
    "len(res)"
   ]
  },
  {
   "cell_type": "markdown",
   "metadata": {},
   "source": [
    "#### Other methods"
   ]
  },
  {
   "cell_type": "code",
   "execution_count": 61,
   "metadata": {},
   "outputs": [
    {
     "data": {
      "text/plain": [
       "'😎😎😎*😎😎😎*😎😎😎*😎😎😎*😎😎😎*😎😎😎*😎😎😎*😎😎😎*😎😎😎*😎😎😎'"
      ]
     },
     "execution_count": 61,
     "metadata": {},
     "output_type": "execute_result"
    }
   ],
   "source": [
    "# Replacing\n",
    "line = \"~*~*~*~*~*~*~*~*~*~\"\n",
    "line.replace(\"~\", \"😎😎😎\")"
   ]
  },
  {
   "cell_type": "code",
   "execution_count": 40,
   "metadata": {},
   "outputs": [
    {
     "data": {
      "text/plain": [
       "['__add__',\n",
       " '__class__',\n",
       " '__contains__',\n",
       " '__delattr__',\n",
       " '__dir__',\n",
       " '__doc__',\n",
       " '__eq__',\n",
       " '__format__',\n",
       " '__ge__',\n",
       " '__getattribute__',\n",
       " '__getitem__',\n",
       " '__getnewargs__',\n",
       " '__gt__',\n",
       " '__hash__',\n",
       " '__init__',\n",
       " '__init_subclass__',\n",
       " '__iter__',\n",
       " '__le__',\n",
       " '__len__',\n",
       " '__lt__',\n",
       " '__mod__',\n",
       " '__mul__',\n",
       " '__ne__',\n",
       " '__new__',\n",
       " '__reduce__',\n",
       " '__reduce_ex__',\n",
       " '__repr__',\n",
       " '__rmod__',\n",
       " '__rmul__',\n",
       " '__setattr__',\n",
       " '__sizeof__',\n",
       " '__str__',\n",
       " '__subclasshook__',\n",
       " 'capitalize',\n",
       " 'casefold',\n",
       " 'center',\n",
       " 'count',\n",
       " 'encode',\n",
       " 'endswith',\n",
       " 'expandtabs',\n",
       " 'find',\n",
       " 'format',\n",
       " 'format_map',\n",
       " 'index',\n",
       " 'isalnum',\n",
       " 'isalpha',\n",
       " 'isascii',\n",
       " 'isdecimal',\n",
       " 'isdigit',\n",
       " 'isidentifier',\n",
       " 'islower',\n",
       " 'isnumeric',\n",
       " 'isprintable',\n",
       " 'isspace',\n",
       " 'istitle',\n",
       " 'isupper',\n",
       " 'join',\n",
       " 'ljust',\n",
       " 'lower',\n",
       " 'lstrip',\n",
       " 'maketrans',\n",
       " 'partition',\n",
       " 'removeprefix',\n",
       " 'removesuffix',\n",
       " 'replace',\n",
       " 'rfind',\n",
       " 'rindex',\n",
       " 'rjust',\n",
       " 'rpartition',\n",
       " 'rsplit',\n",
       " 'rstrip',\n",
       " 'split',\n",
       " 'splitlines',\n",
       " 'startswith',\n",
       " 'strip',\n",
       " 'swapcase',\n",
       " 'title',\n",
       " 'translate',\n",
       " 'upper',\n",
       " 'zfill']"
      ]
     },
     "execution_count": 40,
     "metadata": {},
     "output_type": "execute_result"
    }
   ],
   "source": [
    "dir(line)"
   ]
  },
  {
   "cell_type": "code",
   "execution_count": 63,
   "metadata": {},
   "outputs": [
    {
     "data": {
      "text/plain": [
       "True"
      ]
     },
     "execution_count": 63,
     "metadata": {},
     "output_type": "execute_result"
    }
   ],
   "source": [
    "x = \"Hello Darkness, my old friend\"\n",
    "x.startswith(\"Hello\")"
   ]
  },
  {
   "cell_type": "code",
   "execution_count": 42,
   "metadata": {},
   "outputs": [
    {
     "data": {
      "text/plain": [
       "True"
      ]
     },
     "execution_count": 42,
     "metadata": {},
     "output_type": "execute_result"
    }
   ],
   "source": [
    "x.endswith(\"friend\")"
   ]
  },
  {
   "cell_type": "markdown",
   "metadata": {},
   "source": [
    "Hay muchos otros métodos de los strings que podéis investigar y utilizar. Citamos algunos más, pero no son todos. Una lista completa puede ser encontrada en las referencias al final.\n",
    "\n",
    "- count\n",
    "- startswith\n",
    "- endswith\n",
    "- index\n",
    "- join\n",
    "- split\n",
    "- zfill"
   ]
  },
  {
   "cell_type": "markdown",
   "metadata": {},
   "source": [
    "### List\n",
    "En las listas, los operadores `+` y `*` funcionan de manera muy parecida con los strings.\n",
    "\n",
    "#### Operators"
   ]
  },
  {
   "cell_type": "code",
   "execution_count": 65,
   "metadata": {},
   "outputs": [
    {
     "data": {
      "text/plain": [
       "['a', 'b', 'c', 1, 2, 3]"
      ]
     },
     "execution_count": 65,
     "metadata": {},
     "output_type": "execute_result"
    }
   ],
   "source": [
    "a = [1,2,3]\n",
    "b = [\"a\",\"b\",\"c\"]\n",
    "b + a"
   ]
  },
  {
   "cell_type": "code",
   "execution_count": 44,
   "metadata": {},
   "outputs": [
    {
     "data": {
      "text/plain": [
       "['a', 'b', 'c', 'a', 'b', 'c', 'a', 'b', 'c']"
      ]
     },
     "execution_count": 44,
     "metadata": {},
     "output_type": "execute_result"
    }
   ],
   "source": [
    "b * 3"
   ]
  },
  {
   "cell_type": "markdown",
   "metadata": {},
   "source": [
    "#### Including methods"
   ]
  },
  {
   "cell_type": "code",
   "execution_count": 45,
   "metadata": {},
   "outputs": [],
   "source": [
    "# Append\n",
    "# Añade un elemento al final\n",
    "lst = [1,2,3,4,5,6]\n",
    "lst.append(7)"
   ]
  },
  {
   "cell_type": "code",
   "execution_count": 46,
   "metadata": {},
   "outputs": [
    {
     "name": "stdout",
     "output_type": "stream",
     "text": [
      "[1, 2, 3, 4, 5, 6, 7]\n"
     ]
    }
   ],
   "source": [
    "print(lst)"
   ]
  },
  {
   "cell_type": "code",
   "execution_count": 47,
   "metadata": {},
   "outputs": [],
   "source": [
    "x = lst.append(8)"
   ]
  },
  {
   "cell_type": "code",
   "execution_count": 48,
   "metadata": {},
   "outputs": [
    {
     "name": "stdout",
     "output_type": "stream",
     "text": [
      "[1, 2, 3, 4, 5, 6, 7, 8]\n"
     ]
    }
   ],
   "source": [
    "print(lst)"
   ]
  },
  {
   "cell_type": "code",
   "execution_count": 49,
   "metadata": {},
   "outputs": [
    {
     "name": "stdout",
     "output_type": "stream",
     "text": [
      "None\n"
     ]
    }
   ],
   "source": [
    "print(x)"
   ]
  },
  {
   "cell_type": "code",
   "execution_count": 69,
   "metadata": {},
   "outputs": [
    {
     "name": "stdout",
     "output_type": "stream",
     "text": [
      "[6, 3, 6, 2, 7, 8, 4, 7, 3] [2, 3, 3, 4, 6, 6, 7, 7, 8]\n"
     ]
    }
   ],
   "source": [
    "lst = [6,3,6,2,7,8,4,7,3]\n",
    "lst1 = sorted(lst)\n",
    "print(lst, lst1)"
   ]
  },
  {
   "cell_type": "code",
   "execution_count": 51,
   "metadata": {},
   "outputs": [
    {
     "name": "stdout",
     "output_type": "stream",
     "text": [
      "[6, 3, 6, 2, 7, 8, 4, 7, 3]\n"
     ]
    }
   ],
   "source": [
    "print(lst)"
   ]
  },
  {
   "cell_type": "code",
   "execution_count": 70,
   "metadata": {},
   "outputs": [],
   "source": [
    "lst.sort()"
   ]
  },
  {
   "cell_type": "code",
   "execution_count": 74,
   "metadata": {},
   "outputs": [
    {
     "data": {
      "text/plain": [
       "int"
      ]
     },
     "execution_count": 74,
     "metadata": {},
     "output_type": "execute_result"
    }
   ],
   "source": [
    "import sys\n",
    "sys.getsizeof(lst)"
   ]
  },
  {
   "cell_type": "code",
   "execution_count": 54,
   "metadata": {},
   "outputs": [],
   "source": [
    "# Insert\n",
    "# Añade un elemento en la posición definida\n",
    "lst.insert(4,\"a\")"
   ]
  },
  {
   "cell_type": "code",
   "execution_count": 55,
   "metadata": {},
   "outputs": [
    {
     "data": {
      "text/plain": [
       "[2, 3, 3, 4, 'a', 6, 6, 7, 7, 8]"
      ]
     },
     "execution_count": 55,
     "metadata": {},
     "output_type": "execute_result"
    }
   ],
   "source": [
    "lst"
   ]
  },
  {
   "cell_type": "markdown",
   "metadata": {},
   "source": [
    "#### Removing methods"
   ]
  },
  {
   "cell_type": "code",
   "execution_count": 57,
   "metadata": {},
   "outputs": [
    {
     "data": {
      "text/plain": [
       "['~ ', ' ~ ', ' ~ ', ' ~ ', '', '', '', '', ' ~ ', ' ~ ', ' ~ ', ' ~']"
      ]
     },
     "execution_count": 57,
     "metadata": {},
     "output_type": "execute_result"
    }
   ],
   "source": [
    "\"~ * ~ * ~ * ~ ***** ~ * ~ * ~ * ~\".split(\"*\")"
   ]
  },
  {
   "cell_type": "code",
   "execution_count": 87,
   "metadata": {},
   "outputs": [
    {
     "data": {
      "text/plain": [
       "['~', '*', '~', '*', '~', '*', '~', '*****', '~', '*', '~', '*', '~', '*', '~']"
      ]
     },
     "execution_count": 87,
     "metadata": {},
     "output_type": "execute_result"
    }
   ],
   "source": [
    "# Remove\n",
    "# Borra la primera ocurrencia del valor pasado\n",
    "lst = \"~ * ~ * ~ * ~ ***** ~ * ~ * ~ * ~\".split()\n",
    "lst"
   ]
  },
  {
   "cell_type": "code",
   "execution_count": 82,
   "metadata": {},
   "outputs": [
    {
     "data": {
      "text/plain": [
       "['~',\n",
       " ' ',\n",
       " '*',\n",
       " ' ',\n",
       " '~',\n",
       " ' ',\n",
       " '*',\n",
       " ' ',\n",
       " '~',\n",
       " ' ',\n",
       " '*',\n",
       " ' ',\n",
       " '~',\n",
       " ' ',\n",
       " '*',\n",
       " '*',\n",
       " '*',\n",
       " '*',\n",
       " '*',\n",
       " ' ',\n",
       " '~',\n",
       " ' ',\n",
       " '*',\n",
       " ' ',\n",
       " '~',\n",
       " ' ',\n",
       " '*',\n",
       " ' ',\n",
       " '~',\n",
       " ' ',\n",
       " '*',\n",
       " ' ',\n",
       " '~']"
      ]
     },
     "execution_count": 82,
     "metadata": {},
     "output_type": "execute_result"
    }
   ],
   "source": [
    "list(\"~ * ~ * ~ * ~ ***** ~ * ~ * ~ * ~\")"
   ]
  },
  {
   "cell_type": "code",
   "execution_count": 88,
   "metadata": {},
   "outputs": [],
   "source": [
    "lst.remove(\"*\")"
   ]
  },
  {
   "cell_type": "code",
   "execution_count": 89,
   "metadata": {},
   "outputs": [
    {
     "data": {
      "text/plain": [
       "['~', '~', '*', '~', '*', '~', '*****', '~', '*', '~', '*', '~', '*', '~']"
      ]
     },
     "execution_count": 89,
     "metadata": {},
     "output_type": "execute_result"
    }
   ],
   "source": [
    "lst"
   ]
  },
  {
   "cell_type": "code",
   "execution_count": 93,
   "metadata": {},
   "outputs": [
    {
     "data": {
      "text/plain": [
       "['Z',\n",
       " 'a',\n",
       " 'b',\n",
       " 'a',\n",
       " 'a',\n",
       " 'a',\n",
       " 'b',\n",
       " 'Z',\n",
       " 'b',\n",
       " 'a',\n",
       " 'b',\n",
       " 'a',\n",
       " 'b',\n",
       " 'a',\n",
       " 'b',\n",
       " 'Z']"
      ]
     },
     "execution_count": 93,
     "metadata": {},
     "output_type": "execute_result"
    }
   ],
   "source": [
    "lst = list(\"ZabaaabZbabababZ\")\n",
    "lst"
   ]
  },
  {
   "cell_type": "code",
   "execution_count": 94,
   "metadata": {},
   "outputs": [],
   "source": [
    "lst.remove(\"Z\")"
   ]
  },
  {
   "cell_type": "code",
   "execution_count": 95,
   "metadata": {},
   "outputs": [
    {
     "data": {
      "text/plain": [
       "['a', 'b', 'a', 'a', 'a', 'b', 'Z', 'b', 'a', 'b', 'a', 'b', 'a', 'b', 'Z']"
      ]
     },
     "execution_count": 95,
     "metadata": {},
     "output_type": "execute_result"
    }
   ],
   "source": [
    "lst"
   ]
  },
  {
   "cell_type": "code",
   "execution_count": 61,
   "metadata": {},
   "outputs": [
    {
     "data": {
      "text/plain": [
       "'*****'"
      ]
     },
     "execution_count": 61,
     "metadata": {},
     "output_type": "execute_result"
    }
   ],
   "source": [
    "# Pop\n",
    "# Borra elemento en el index\n",
    "lst.pop(6)"
   ]
  },
  {
   "cell_type": "code",
   "execution_count": 62,
   "metadata": {},
   "outputs": [
    {
     "data": {
      "text/plain": [
       "['~', '~', '*', '~', '*', '~', '~', '*', '~', '*', '~', '*', '~']"
      ]
     },
     "execution_count": 62,
     "metadata": {},
     "output_type": "execute_result"
    }
   ],
   "source": [
    "lst"
   ]
  },
  {
   "cell_type": "code",
   "execution_count": 63,
   "metadata": {},
   "outputs": [],
   "source": [
    "# Clear\n",
    "# Borra todos los elementos\n",
    "lst.clear()"
   ]
  },
  {
   "cell_type": "code",
   "execution_count": 65,
   "metadata": {},
   "outputs": [],
   "source": [
    "lst = []"
   ]
  },
  {
   "cell_type": "markdown",
   "metadata": {},
   "source": [
    "#### Other\n",
    "\n",
    "Otros métodos de las listas incluyen:\n",
    "\n",
    "- count\n",
    "- extend\n",
    "- index\n",
    "- reverse\n",
    "- sort"
   ]
  },
  {
   "cell_type": "markdown",
   "metadata": {},
   "source": [
    "### Tuple\n",
    "Como elementos inmutables, las tuplas poséen apenas 2 métodos:"
   ]
  },
  {
   "cell_type": "code",
   "execution_count": 66,
   "metadata": {},
   "outputs": [
    {
     "data": {
      "text/plain": [
       "('0', '1', '1', '0', '0', '1', '0', '1', '0', '0', '1', '0', '0', '1', '1')"
      ]
     },
     "execution_count": 66,
     "metadata": {},
     "output_type": "execute_result"
    }
   ],
   "source": [
    "tup = tuple(\"011001010010011\")\n",
    "tup"
   ]
  },
  {
   "cell_type": "code",
   "execution_count": 68,
   "metadata": {},
   "outputs": [
    {
     "data": {
      "text/plain": [
       "1"
      ]
     },
     "execution_count": 68,
     "metadata": {},
     "output_type": "execute_result"
    }
   ],
   "source": [
    "tup.index(\"1\")"
   ]
  },
  {
   "cell_type": "code",
   "execution_count": 69,
   "metadata": {},
   "outputs": [
    {
     "data": {
      "text/plain": [
       "7"
      ]
     },
     "execution_count": 69,
     "metadata": {},
     "output_type": "execute_result"
    }
   ],
   "source": [
    "tup.count(\"1\")"
   ]
  },
  {
   "cell_type": "markdown",
   "metadata": {},
   "source": [
    "### Dictionary\n",
    "\n",
    "Los 3 principales metodos que vamos utilizar de los diccionarios son aquellos que devuelven sus elementos. Veamos."
   ]
  },
  {
   "cell_type": "code",
   "execution_count": 71,
   "metadata": {},
   "outputs": [
    {
     "name": "stdout",
     "output_type": "stream",
     "text": [
      "dict_keys(['a', 'b', 'c', 'd'])\n",
      "dict_values([1, 2, 3, 4])\n"
     ]
    }
   ],
   "source": [
    "# Keys\n",
    "dic = {\"a\":1,\"b\":2,\"c\":3,\"d\":4}\n",
    "print(dic.keys())\n",
    "# Values\n",
    "print(dic.values())"
   ]
  },
  {
   "cell_type": "markdown",
   "metadata": {},
   "source": [
    "Como esos metodos devuelven listas, se pueden iterar por ellos."
   ]
  },
  {
   "cell_type": "code",
   "execution_count": 72,
   "metadata": {},
   "outputs": [],
   "source": [
    "core_staff = {\"Marc\":\"Pomar\",\"Marcos\":\"Íñigo\",\"Felipe\":\"Ferrero\"}"
   ]
  },
  {
   "cell_type": "code",
   "execution_count": 73,
   "metadata": {},
   "outputs": [
    {
     "name": "stdout",
     "output_type": "stream",
     "text": [
      "Marc Pomar\n",
      "Marcos Íñigo\n",
      "Felipe Ferrero\n"
     ]
    }
   ],
   "source": [
    "for key, value in core_staff.items():\n",
    "    print(key,value)"
   ]
  },
  {
   "cell_type": "markdown",
   "metadata": {},
   "source": [
    "### Set\n",
    "\n",
    "Los sets también son un tipo de dato en python que contienen muchos métodos. Algunos de los de los más interesantes son aquellos que se relacionados con la noción matemática de los [conjuntos](https://en.wikipedia.org/wiki/Set_(mathematics))"
   ]
  },
  {
   "cell_type": "code",
   "execution_count": 74,
   "metadata": {},
   "outputs": [],
   "source": [
    "numbers = {1,2,3,4,5,6,7,8,9,10,11,12,13}\n",
    "evens = {2,4,6,8,10,12}\n",
    "odds = {1,3,5,7,9,11,13}\n",
    "primes = {2,3,5,7,11,13}"
   ]
  },
  {
   "cell_type": "code",
   "execution_count": 75,
   "metadata": {},
   "outputs": [
    {
     "data": {
      "text/plain": [
       "{1}"
      ]
     },
     "execution_count": 75,
     "metadata": {},
     "output_type": "execute_result"
    }
   ],
   "source": [
    "{1,1,1,1,1,1}"
   ]
  },
  {
   "cell_type": "code",
   "execution_count": 76,
   "metadata": {},
   "outputs": [
    {
     "data": {
      "text/plain": [
       "{1, 2}"
      ]
     },
     "execution_count": 76,
     "metadata": {},
     "output_type": "execute_result"
    }
   ],
   "source": [
    "{1,2,1,1,1,1}"
   ]
  },
  {
   "cell_type": "code",
   "execution_count": 77,
   "metadata": {},
   "outputs": [
    {
     "data": {
      "text/plain": [
       "False"
      ]
     },
     "execution_count": 77,
     "metadata": {},
     "output_type": "execute_result"
    }
   ],
   "source": [
    "# Is subset\n",
    "primes.issubset(evens)"
   ]
  },
  {
   "cell_type": "code",
   "execution_count": 78,
   "metadata": {},
   "outputs": [
    {
     "data": {
      "text/plain": [
       "True"
      ]
     },
     "execution_count": 78,
     "metadata": {},
     "output_type": "execute_result"
    }
   ],
   "source": [
    "primes.issubset(numbers)"
   ]
  },
  {
   "cell_type": "code",
   "execution_count": 79,
   "metadata": {},
   "outputs": [
    {
     "data": {
      "text/plain": [
       "{1, 2, 3, 4, 5, 6, 7, 8, 9, 10, 11, 12, 13}"
      ]
     },
     "execution_count": 79,
     "metadata": {},
     "output_type": "execute_result"
    }
   ],
   "source": [
    "# Union\n",
    "evens.union(odds)"
   ]
  },
  {
   "cell_type": "code",
   "execution_count": 80,
   "metadata": {},
   "outputs": [
    {
     "data": {
      "text/plain": [
       "True"
      ]
     },
     "execution_count": 80,
     "metadata": {},
     "output_type": "execute_result"
    }
   ],
   "source": [
    "evens.union(odds) == numbers"
   ]
  },
  {
   "cell_type": "code",
   "execution_count": 81,
   "metadata": {},
   "outputs": [
    {
     "data": {
      "text/plain": [
       "False"
      ]
     },
     "execution_count": 81,
     "metadata": {},
     "output_type": "execute_result"
    }
   ],
   "source": [
    "[1,2,3,4] == [4,3,2,1]"
   ]
  },
  {
   "cell_type": "code",
   "execution_count": 82,
   "metadata": {},
   "outputs": [
    {
     "data": {
      "text/plain": [
       "True"
      ]
     },
     "execution_count": 82,
     "metadata": {},
     "output_type": "execute_result"
    }
   ],
   "source": [
    "{1,2,3,4} == {4,3,2,1}"
   ]
  },
  {
   "cell_type": "code",
   "execution_count": 83,
   "metadata": {},
   "outputs": [
    {
     "data": {
      "text/plain": [
       "{2}"
      ]
     },
     "execution_count": 83,
     "metadata": {},
     "output_type": "execute_result"
    }
   ],
   "source": [
    "# Intersection\n",
    "primes.intersection(evens)"
   ]
  },
  {
   "cell_type": "markdown",
   "metadata": {},
   "source": [
    "## Resources\n",
    "- [String methods](https://www.w3schools.com/python/python_ref_string.asp)\n",
    "- [List methods](https://www.w3schools.com/python/python_ref_list.asp)\n",
    "- [Tuple methods](https://www.w3schools.com/python/python_ref_tuple.asp)\n",
    "- [Dictionary methods](https://www.w3schools.com/python/python_ref_dictionary.asp)\n",
    "- [Set methods](https://www.w3schools.com/python/python_ref_set.asp)\n",
    "- [Python built-in methods](https://www.w3schools.com/python/python_ref_functions.asp)"
   ]
  }
 ],
 "metadata": {
  "kernelspec": {
   "display_name": "Python 3",
   "language": "python",
   "name": "python3"
  },
  "language_info": {
   "codemirror_mode": {
    "name": "ipython",
    "version": 3
   },
   "file_extension": ".py",
   "mimetype": "text/x-python",
   "name": "python",
   "nbconvert_exporter": "python",
   "pygments_lexer": "ipython3",
   "version": "3.9.4"
  },
  "toc": {
   "base_numbering": 1,
   "nav_menu": {},
   "number_sections": true,
   "sideBar": true,
   "skip_h1_title": true,
   "title_cell": "Table of Contents",
   "title_sidebar": "Contents",
   "toc_cell": true,
   "toc_position": {},
   "toc_section_display": true,
   "toc_window_display": false
  }
 },
 "nbformat": 4,
 "nbformat_minor": 5
}
